{
 "cells": [
  {
   "cell_type": "markdown",
   "id": "4545706d-277f-4135-aeda-77c90848f174",
   "metadata": {},
   "source": [
    "Task 3: Does the weather affect the delay?\n",
    "\n",
    "Use the API to pull the weather information for flights. There is no need to get weather for ALL flights. We can choose the right representative sample. Let's focus on four weather types:\n",
    "\n",
    "- sunny\n",
    "- cloudy\n",
    "- rainy\n",
    "- snow. \n",
    "\n",
    "Test the hypothesis that these 4 delays are from the same distribution. If they are not, which ones are significantly different?"
   ]
  },
  {
   "cell_type": "code",
   "execution_count": 89,
   "id": "44aad7a9-9748-4e2d-a97d-17d02dfd5fdf",
   "metadata": {},
   "outputs": [],
   "source": [
    "import pandas as pd \n",
    "import numpy as np"
   ]
  },
  {
   "cell_type": "code",
   "execution_count": 3,
   "id": "ee7402c2-abff-4b74-a9e4-e70ff6f06e39",
   "metadata": {},
   "outputs": [],
   "source": [
    "\n",
    "sample = pd.read_csv('G_PSQL_data/random_sample.txt')"
   ]
  },
  {
   "cell_type": "code",
   "execution_count": 4,
   "id": "7bf48f9a-ca1a-43f7-b931-5ea2e8d9fad5",
   "metadata": {},
   "outputs": [
    {
     "data": {
      "text/plain": [
       "Index(['fl_date', 'mkt_unique_carrier', 'branded_code_share', 'mkt_carrier',\n",
       "       'mkt_carrier_fl_num', 'op_unique_carrier', 'tail_num',\n",
       "       'op_carrier_fl_num', 'origin_airport_id', 'origin', 'origin_city_name',\n",
       "       'dest_airport_id', 'dest', 'dest_city_name', 'crs_dep_time', 'dep_time',\n",
       "       'dep_delay', 'taxi_out', 'wheels_off', 'wheels_on', 'taxi_in',\n",
       "       'crs_arr_time', 'arr_time', 'arr_delay', 'cancelled',\n",
       "       'cancellation_code', 'diverted', 'dup', 'crs_elapsed_time',\n",
       "       'actual_elapsed_time', 'air_time', 'flights', 'distance',\n",
       "       'carrier_delay', 'weather_delay', 'nas_delay', 'security_delay',\n",
       "       'late_aircraft_delay', 'first_dep_time', 'total_add_gtime',\n",
       "       'longest_add_gtime', 'no_name'],\n",
       "      dtype='object')"
      ]
     },
     "execution_count": 4,
     "metadata": {},
     "output_type": "execute_result"
    }
   ],
   "source": [
    "sample.columns "
   ]
  },
  {
   "cell_type": "code",
   "execution_count": 5,
   "id": "95fe3378-aafc-49dd-8a07-2e39f641dbca",
   "metadata": {},
   "outputs": [],
   "source": [
    "sample = sample[[\"fl_date\",\"origin_city_name\",\"dep_delay\"]]"
   ]
  },
  {
   "cell_type": "code",
   "execution_count": 17,
   "id": "52352a06-350d-4e4d-8b7c-f5fb1b1c7abf",
   "metadata": {},
   "outputs": [
    {
     "data": {
      "text/plain": [
       "0         23.0\n",
       "1         -4.0\n",
       "2         66.0\n",
       "3         41.0\n",
       "4         22.0\n",
       "          ... \n",
       "106438    21.0\n",
       "106439    -7.0\n",
       "106440    -2.0\n",
       "106441    42.0\n",
       "106442    -5.0\n",
       "Name: dep_delay, Length: 106443, dtype: float64"
      ]
     },
     "execution_count": 17,
     "metadata": {},
     "output_type": "execute_result"
    }
   ],
   "source": [
    "sample[\"dep_delay\"].fillna(0)"
   ]
  },
  {
   "cell_type": "code",
   "execution_count": 44,
   "id": "1b09d3e2-da57-4c68-8e80-e350d4d59cd0",
   "metadata": {},
   "outputs": [
    {
     "data": {
      "text/plain": [
       "<bound method DataFrame.info of            fl_date origin_city_name  dep_delay\n",
       "7       2018-01-01      Chicago, IL       17.0\n",
       "30      2018-01-01      Chicago, IL       25.0\n",
       "31      2018-01-01      Chicago, IL       21.0\n",
       "54      2018-01-01      Chicago, IL       33.0\n",
       "135     2018-01-02      Chicago, IL       40.0\n",
       "...            ...              ...        ...\n",
       "106278  2019-07-30      Chicago, IL       38.0\n",
       "106324  2019-07-31      Chicago, IL       -2.0\n",
       "106357  2019-07-31      Chicago, IL       -7.0\n",
       "106382  2019-07-31      Chicago, IL       -1.0\n",
       "106442  2019-07-31      Chicago, IL       -5.0\n",
       "\n",
       "[6404 rows x 3 columns]>"
      ]
     },
     "execution_count": 44,
     "metadata": {},
     "output_type": "execute_result"
    }
   ],
   "source": [
    "chicago = sample.loc[sample.origin_city_name == \"Chicago, IL\"]\n",
    "chicago.info"
   ]
  },
  {
   "cell_type": "code",
   "execution_count": 110,
   "id": "13dacab5-f570-4439-b851-f6a9246e4529",
   "metadata": {},
   "outputs": [],
   "source": [
    "weather = pd.read_csv(\"Chicago_Weather.csv\")\n"
   ]
  },
  {
   "cell_type": "code",
   "execution_count": 111,
   "id": "3cc90419-23bd-4ab7-88d7-a5b50b19fb63",
   "metadata": {},
   "outputs": [],
   "source": [
    "c_w = chicago.merge(weather, how='left', left_on=\"fl_date\", right_on='datetime')"
   ]
  },
  {
   "cell_type": "code",
   "execution_count": 112,
   "id": "07510cc3-1051-4f82-a494-4902e5d82907",
   "metadata": {},
   "outputs": [
    {
     "data": {
      "text/plain": [
       "array(['Clear', 'Partially cloudy', 'Overcast', 'Snow, Overcast',\n",
       "       'Rain, Overcast', 'Snow, Partially cloudy',\n",
       "       'Rain, Partially cloudy', nan], dtype=object)"
      ]
     },
     "execution_count": 112,
     "metadata": {},
     "output_type": "execute_result"
    }
   ],
   "source": [
    "c_w.conditions.unique()"
   ]
  },
  {
   "cell_type": "code",
   "execution_count": 113,
   "id": "c7ea3b02-ef8c-45f8-bbab-13af3bc9ce7d",
   "metadata": {},
   "outputs": [],
   "source": [
    "c_w.dropna(inplace=True)"
   ]
  },
  {
   "cell_type": "code",
   "execution_count": 114,
   "id": "37fa3983-a320-4aba-bb23-440c44984b35",
   "metadata": {},
   "outputs": [],
   "source": [
    "c_w = c_w.replace({'Partially cloudy': 'Cloudy',\n",
    "                           'Overcast': 'Cloudy',\n",
    "                           'Snow, Overcast': 'Snow',\n",
    "                           'Rain, Overcast': 'Rain',\n",
    "                          'Snow, Partially cloudy': 'Snow',\n",
    "                          'Rain, Partially cloudy': 'Rain'})\n",
    "\n",
    "\n"
   ]
  },
  {
   "cell_type": "code",
   "execution_count": 115,
   "id": "fcca2ff8-d868-486e-9a49-3ab1f2575dc2",
   "metadata": {},
   "outputs": [],
   "source": [
    "c_w.drop(columns=[\"fl_date\",\"origin_city_name\",\"datetime\"], inplace=True)"
   ]
  },
  {
   "cell_type": "code",
   "execution_count": 116,
   "id": "41092c9e-032b-4238-a52a-8759d0389392",
   "metadata": {},
   "outputs": [],
   "source": [
    "c_w = c_w[c_w['dep_delay'] < 400]"
   ]
  },
  {
   "cell_type": "code",
   "execution_count": 117,
   "id": "14009ee1-c083-4673-ba91-28ecdf2a389e",
   "metadata": {
    "tags": []
   },
   "outputs": [
    {
     "name": "stdout",
     "output_type": "stream",
     "text": [
      "Identified outliers: 135\n"
     ]
    }
   ],
   "source": [
    "#need to remove outliers greater than 3 std\n",
    "\n",
    "# calculate summary statistics\n",
    "data_mean, data_std = np.mean(c_w['dep_delay']), np.std(c_w['dep_delay'])\n",
    "# identify outliers\n",
    "cut_off = data_std * 3\n",
    "lower, upper = data_mean - cut_off, data_mean + cut_off\n",
    "# identify outliers\n",
    "outliers = [x for x in c_w['dep_delay'] if x < lower or x > upper]\n",
    "print('Identified outliers: %d' % len(outliers))\n",
    "# remove outliers\n",
    "\n",
    "c_w['dep_delay'].drop(c_w[(c_w['dep_delay'] > upper) | (c_w['dep_delay'] < lower)].index, inplace=True)\n",
    "\n",
    "\n"
   ]
  },
  {
   "cell_type": "code",
   "execution_count": 118,
   "id": "94692a5a-fd23-4f38-897b-f9d4217c4f7c",
   "metadata": {},
   "outputs": [],
   "source": [
    "import seaborn as sn\n",
    "from matplotlib import pyplot as plt"
   ]
  },
  {
   "cell_type": "code",
   "execution_count": 119,
   "id": "91bc6815-9047-47a2-9609-10970a84409f",
   "metadata": {},
   "outputs": [],
   "source": [
    "clear = c_w.loc[c_w['conditions'] == 'Clear', ['dep_delay']]\n"
   ]
  },
  {
   "cell_type": "code",
   "execution_count": 120,
   "id": "c26d4bcc-fdf2-433c-94e5-0fa0a10fdb28",
   "metadata": {},
   "outputs": [
    {
     "data": {
      "image/png": "[encoded data removed]",
      "text/plain": [
       "<Figure size 640x480 with 1 Axes>"
      ]
     },
     "metadata": {},
     "output_type": "display_data"
    }
   ],
   "source": [
    "sn.histplot(clear[\"dep_delay\"])\n",
    "plt.show()\n"
   ]
  },
  {
   "cell_type": "code",
   "execution_count": 121,
   "id": "1f081b63-e1d6-4858-8bff-d6872eeb09bd",
   "metadata": {},
   "outputs": [
    {
     "data": {
      "text/plain": [
       "count    233.000000\n",
       "mean       7.081545\n",
       "std       26.441498\n",
       "min      -16.000000\n",
       "25%       -5.000000\n",
       "50%       -2.000000\n",
       "75%        5.000000\n",
       "max      231.000000\n",
       "Name: dep_delay, dtype: float64"
      ]
     },
     "execution_count": 121,
     "metadata": {},
     "output_type": "execute_result"
    }
   ],
   "source": [
    "clear['dep_delay'].describe()"
   ]
  },
  {
   "cell_type": "code",
   "execution_count": 122,
   "id": "b7809d50-c952-42d4-810c-563ab8a91e04",
   "metadata": {},
   "outputs": [],
   "source": [
    "cloudy = c_w.loc[c_w['conditions'] == 'Cloudy', ['dep_delay']]"
   ]
  },
  {
   "cell_type": "code",
   "execution_count": 123,
   "id": "4051aa24-9aaa-4934-a8e8-4af1d33ab38e",
   "metadata": {},
   "outputs": [
    {
     "data": {
      "image/png": "[encoded data removed]",
      "text/plain": [
       "<Figure size 640x480 with 1 Axes>"
      ]
     },
     "metadata": {},
     "output_type": "display_data"
    }
   ],
   "source": [
    "sn.histplot(cloudy[\"dep_delay\"])\n",
    "plt.show()\n"
   ]
  },
  {
   "cell_type": "code",
   "execution_count": 124,
   "id": "60745e8b-b7b9-496f-bbaf-fda9a486718e",
   "metadata": {},
   "outputs": [
    {
     "data": {
      "text/plain": [
       "count    2393.000000\n",
       "mean        9.089427\n",
       "std        32.046964\n",
       "min       -21.000000\n",
       "25%        -5.000000\n",
       "50%        -2.000000\n",
       "75%         8.000000\n",
       "max       338.000000\n",
       "Name: dep_delay, dtype: float64"
      ]
     },
     "execution_count": 124,
     "metadata": {},
     "output_type": "execute_result"
    }
   ],
   "source": [
    "cloudy['dep_delay'].describe()"
   ]
  },
  {
   "cell_type": "code",
   "execution_count": 125,
   "id": "d265b063-443d-4d53-beef-b19daad1e6e4",
   "metadata": {},
   "outputs": [],
   "source": [
    "rain = c_w.loc[c_w['conditions'] == 'Rain', ['dep_delay']]"
   ]
  },
  {
   "cell_type": "code",
   "execution_count": 126,
   "id": "d31b4327-5813-4547-87e8-7621f921804f",
   "metadata": {},
   "outputs": [
    {
     "data": {
      "image/png": "[encoded data removed]",
      "text/plain": [
       "<Figure size 640x480 with 1 Axes>"
      ]
     },
     "metadata": {},
     "output_type": "display_data"
    }
   ],
   "source": [
    "sn.histplot(rain[\"dep_delay\"])\n",
    "plt.show()\n"
   ]
  },
  {
   "cell_type": "code",
   "execution_count": 127,
   "id": "73d49697-2641-4433-9f30-6599631b75a1",
   "metadata": {},
   "outputs": [
    {
     "data": {
      "text/plain": [
       "count    1890.000000\n",
       "mean       17.638624\n",
       "std        43.878726\n",
       "min       -17.000000\n",
       "25%        -4.000000\n",
       "50%        -1.000000\n",
       "75%        18.000000\n",
       "max       354.000000\n",
       "Name: dep_delay, dtype: float64"
      ]
     },
     "execution_count": 127,
     "metadata": {},
     "output_type": "execute_result"
    }
   ],
   "source": [
    "rain['dep_delay'].describe()"
   ]
  },
  {
   "cell_type": "code",
   "execution_count": 128,
   "id": "a858666b-394f-47cc-92e6-615a602a7e47",
   "metadata": {},
   "outputs": [],
   "source": [
    "snow = c_w.loc[c_w['conditions'] == 'Snow', ['dep_delay']]"
   ]
  },
  {
   "cell_type": "code",
   "execution_count": 129,
   "id": "7f402b94-656d-40c7-bfa5-b1be57773d99",
   "metadata": {},
   "outputs": [
    {
     "data": {
      "image/png": "[encoded data removed]",
      "text/plain": [
       "<Figure size 640x480 with 1 Axes>"
      ]
     },
     "metadata": {},
     "output_type": "display_data"
    }
   ],
   "source": [
    "sn.histplot(snow[\"dep_delay\"])\n",
    "plt.show()\n"
   ]
  },
  {
   "cell_type": "code",
   "execution_count": 130,
   "id": "9db0319c-5c24-4990-bc5e-b1afa9ff003b",
   "metadata": {},
   "outputs": [
    {
     "data": {
      "text/plain": [
       "count    365.000000\n",
       "mean      27.528767\n",
       "std       54.426252\n",
       "min      -16.000000\n",
       "25%       -2.000000\n",
       "50%        4.000000\n",
       "75%       34.000000\n",
       "max      348.000000\n",
       "Name: dep_delay, dtype: float64"
      ]
     },
     "execution_count": 130,
     "metadata": {},
     "output_type": "execute_result"
    }
   ],
   "source": [
    "snow['dep_delay'].describe()"
   ]
  },
  {
   "cell_type": "code",
   "execution_count": 29,
   "id": "5904433c-e1ef-4cad-a371-7f241e5c49a8",
   "metadata": {
    "collapsed": true,
    "jupyter": {
     "outputs_hidden": true,
     "source_hidden": true
    },
    "tags": []
   },
   "outputs": [
    {
     "data": {
      "application/json": {
       "data": {
        "request": [
         {
          "query": "Chicago, United States of America",
          "type": "City"
         }
        ],
        "weather": [
         {
          "astronomy": [
           {
            "moon_illumination": "94",
            "moon_phase": "Waxing Gibbous",
            "moonrise": "05:28 PM",
            "moonset": "07:33 AM",
            "sunrise": "08:18 AM",
            "sunset": "05:31 PM"
           }
          ],
          "avgtempC": "-17",
          "avgtempF": "1",
          "date": "2018-01-01",
          "hourly": [
           {
            "DewPointC": "-18",
            "DewPointF": "-1",
            "FeelsLikeC": "-27",
            "FeelsLikeF": "-17",
            "HeatIndexC": "-17",
            "HeatIndexF": "1",
            "WindChillC": "-27",
            "WindChillF": "-17",
            "WindGustKmph": "23",
            "WindGustMiles": "14",
            "cloudcover": "22",
            "humidity": "92",
            "precipInches": "0.0",
            "precipMM": "0.0",
            "pressure": "1041",
            "pressureInches": "31",
            "tempC": "-16",
            "tempF": "4",
            "time": "24",
            "uvIndex": "1",
            "visibility": "10",
            "visibilityMiles": "6",
            "weatherCode": "323",
            "weatherDesc": [
             {
              "value": "Patchy light snow"
             }
            ],
            "weatherIconUrl": [
             {
              "value": "http://cdn.worldweatheronline.com/images/wsymbols01_png_64/wsymbol_0011_light_snow_showers.png"
             }
            ],
            "winddir16Point": "WNW",
            "winddirDegree": "286",
            "windspeedKmph": "18",
            "windspeedMiles": "11"
           }
          ],
          "maxtempC": "-16",
          "maxtempF": "4",
          "mintempC": "-19",
          "mintempF": "-3",
          "sunHour": "8.7",
          "totalSnow_cm": "0.0",
          "uvIndex": "1"
         },
         {
          "astronomy": [
           {
            "moon_illumination": "100",
            "moon_phase": "Full Moon",
            "moonrise": "06:34 PM",
            "moonset": "08:36 AM",
            "sunrise": "08:18 AM",
            "sunset": "05:32 PM"
           }
          ],
          "avgtempC": "-16",
          "avgtempF": "4",
          "date": "2018-01-02",
          "hourly": [
           {
            "DewPointC": "-18",
            "DewPointF": "-1",
            "FeelsLikeC": "-26",
            "FeelsLikeF": "-14",
            "HeatIndexC": "-16",
            "HeatIndexF": "3",
            "WindChillC": "-26",
            "WindChillF": "-14",
            "WindGustKmph": "27",
            "WindGustMiles": "17",
            "cloudcover": "16",
            "humidity": "84",
            "precipInches": "0.0",
            "precipMM": "0.0",
            "pressure": "1035",
            "pressureInches": "31",
            "tempC": "-14",
            "tempF": "8",
            "time": "24",
            "uvIndex": "2",
            "visibility": "10",
            "visibilityMiles": "6",
            "weatherCode": "116",
            "weatherDesc": [
             {
              "value": "Partly cloudy"
             }
            ],
            "weatherIconUrl": [
             {
              "value": "http://cdn.worldweatheronline.com/images/wsymbols01_png_64/wsymbol_0002_sunny_intervals.png"
             }
            ],
            "winddir16Point": "WSW",
            "winddirDegree": "241",
            "windspeedKmph": "20",
            "windspeedMiles": "12"
           }
          ],
          "maxtempC": "-14",
          "maxtempF": "8",
          "mintempC": "-18",
          "mintempF": "-0",
          "sunHour": "8.7",
          "totalSnow_cm": "0.0",
          "uvIndex": "2"
         },
         {
          "astronomy": [
           {
            "moon_illumination": "92",
            "moon_phase": "Full Moon",
            "moonrise": "07:46 PM",
            "moonset": "09:32 AM",
            "sunrise": "08:18 AM",
            "sunset": "05:33 PM"
           }
          ],
          "avgtempC": "-10",
          "avgtempF": "14",
          "date": "2018-01-03",
          "hourly": [
           {
            "DewPointC": "-13",
            "DewPointF": "8",
            "FeelsLikeC": "-19",
            "FeelsLikeF": "-2",
            "HeatIndexC": "-11",
            "HeatIndexF": "13",
            "WindChillC": "-19",
            "WindChillF": "-2",
            "WindGustKmph": "28",
            "WindGustMiles": "18",
            "cloudcover": "77",
            "humidity": "81",
            "precipInches": "0.0",
            "precipMM": "1.0",
            "pressure": "1021",
            "pressureInches": "30",
            "tempC": "-9",
            "tempF": "16",
            "time": "24",
            "uvIndex": "1",
            "visibility": "7",
            "visibilityMiles": "4",
            "weatherCode": "371",
            "weatherDesc": [
             {
              "value": "Moderate or heavy snow showers"
             }
            ],
            "weatherIconUrl": [
             {
              "value": "http://cdn.worldweatheronline.com/images/wsymbols01_png_64/wsymbol_0012_heavy_snow_showers.png"
             }
            ],
            "winddir16Point": "W",
            "winddirDegree": "277",
            "windspeedKmph": "20",
            "windspeedMiles": "13"
           }
          ],
          "maxtempC": "-9",
          "maxtempF": "16",
          "mintempC": "-13",
          "mintempF": "9",
          "sunHour": "3.4",
          "totalSnow_cm": "0.8",
          "uvIndex": "1"
         },
         {
          "astronomy": [
           {
            "moon_illumination": "85",
            "moon_phase": "Full Moon",
            "moonrise": "08:58 PM",
            "moonset": "10:19 AM",
            "sunrise": "08:18 AM",
            "sunset": "05:33 PM"
           }
          ],
          "avgtempC": "-13",
          "avgtempF": "8",
          "date": "2018-01-04",
          "hourly": [
           {
            "DewPointC": "-16",
            "DewPointF": "4",
            "FeelsLikeC": "-22",
            "FeelsLikeF": "-7",
            "HeatIndexC": "-13",
            "HeatIndexF": "8",
            "WindChillC": "-22",
            "WindChillF": "-7",
            "WindGustKmph": "27",
            "WindGustMiles": "17",
            "cloudcover": "16",
            "humidity": "81",
            "precipInches": "0.0",
            "precipMM": "0.0",
            "pressure": "1027",
            "pressureInches": "30",
            "tempC": "-12",
            "tempF": "11",
            "time": "24",
            "uvIndex": "2",
            "visibility": "10",
            "visibilityMiles": "6",
            "weatherCode": "116",
            "weatherDesc": [
             {
              "value": "Partly cloudy"
             }
            ],
            "weatherIconUrl": [
             {
              "value": "http://cdn.worldweatheronline.com/images/wsymbols01_png_64/wsymbol_0002_sunny_intervals.png"
             }
            ],
            "winddir16Point": "NW",
            "winddirDegree": "321",
            "windspeedKmph": "19",
            "windspeedMiles": "12"
           }
          ],
          "maxtempC": "-12",
          "maxtempF": "11",
          "mintempC": "-14",
          "mintempF": "6",
          "sunHour": "8.7",
          "totalSnow_cm": "0.0",
          "uvIndex": "2"
         },
         {
          "astronomy": [
           {
            "moon_illumination": "78",
            "moon_phase": "Full Moon",
            "moonrise": "10:08 PM",
            "moonset": "10:59 AM",
            "sunrise": "08:18 AM",
            "sunset": "05:34 PM"
           }
          ],
          "avgtempC": "-14",
          "avgtempF": "7",
          "date": "2018-01-05",
          "hourly": [
           {
            "DewPointC": "-17",
            "DewPointF": "1",
            "FeelsLikeC": "-23",
            "FeelsLikeF": "-9",
            "HeatIndexC": "-14",
            "HeatIndexF": "7",
            "WindChillC": "-23",
            "WindChillF": "-9",
            "WindGustKmph": "25",
            "WindGustMiles": "16",
            "cloudcover": "11",
            "humidity": "78",
            "precipInches": "0.0",
            "precipMM": "0.0",
            "pressure": "1031",
            "pressureInches": "30",
            "tempC": "-12",
            "tempF": "10",
            "time": "24",
            "uvIndex": "2",
            "visibility": "10",
            "visibilityMiles": "6",
            "weatherCode": "116",
            "weatherDesc": [
             {
              "value": "Partly cloudy"
             }
            ],
            "weatherIconUrl": [
             {
              "value": "http://cdn.worldweatheronline.com/images/wsymbols01_png_64/wsymbol_0002_sunny_intervals.png"
             }
            ],
            "winddir16Point": "NW",
            "winddirDegree": "317",
            "windspeedKmph": "17",
            "windspeedMiles": "11"
           }
          ],
          "maxtempC": "-12",
          "maxtempF": "10",
          "mintempC": "-15",
          "mintempF": "4",
          "sunHour": "8.7",
          "totalSnow_cm": "0.0",
          "uvIndex": "2"
         },
         {
          "astronomy": [
           {
            "moon_illumination": "72",
            "moon_phase": "Waning Gibbous",
            "moonrise": "11:16 PM",
            "moonset": "11:35 AM",
            "sunrise": "08:18 AM",
            "sunset": "05:35 PM"
           }
          ],
          "avgtempC": "-13",
          "avgtempF": "10",
          "date": "2018-01-06",
          "hourly": [
           {
            "DewPointC": "-16",
            "DewPointF": "2",
            "FeelsLikeC": "-20",
            "FeelsLikeF": "-4",
            "HeatIndexC": "-13",
            "HeatIndexF": "8",
            "WindChillC": "-20",
            "WindChillF": "-4",
            "WindGustKmph": "19",
            "WindGustMiles": "12",
            "cloudcover": "9",
            "humidity": "76",
            "precipInches": "0.0",
            "precipMM": "0.0",
            "pressure": "1037",
            "pressureInches": "31",
            "tempC": "-10",
            "tempF": "15",
            "time": "24",
            "uvIndex": "2",
            "visibility": "10",
            "visibilityMiles": "6",
            "weatherCode": "116",
            "weatherDesc": [
             {
              "value": "Partly cloudy"
             }
            ],
            "weatherIconUrl": [
             {
              "value": "http://cdn.worldweatheronline.com/images/wsymbols01_png_64/wsymbol_0002_sunny_intervals.png"
             }
            ],
            "winddir16Point": "W",
            "winddirDegree": "278",
            "windspeedKmph": "12",
            "windspeedMiles": "8"
           }
          ],
          "maxtempC": "-10",
          "maxtempF": "15",
          "mintempC": "-15",
          "mintempF": "5",
          "sunHour": "8.7",
          "totalSnow_cm": "0.0",
          "uvIndex": "2"
         },
         {
          "astronomy": [
           {
            "moon_illumination": "65",
            "moon_phase": "Waning Gibbous",
            "moonrise": "No moonrise",
            "moonset": "12:06 PM",
            "sunrise": "08:18 AM",
            "sunset": "05:36 PM"
           }
          ],
          "avgtempC": "-5",
          "avgtempF": "23",
          "date": "2018-01-07",
          "hourly": [
           {
            "DewPointC": "-10",
            "DewPointF": "15",
            "FeelsLikeC": "-14",
            "FeelsLikeF": "7",
            "HeatIndexC": "-6",
            "HeatIndexF": "21",
            "WindChillC": "-14",
            "WindChillF": "7",
            "WindGustKmph": "38",
            "WindGustMiles": "24",
            "cloudcover": "92",
            "humidity": "78",
            "precipInches": "0.1",
            "precipMM": "1.8",
            "pressure": "1023",
            "pressureInches": "30",
            "tempC": "-2",
            "tempF": "28",
            "time": "24",
            "uvIndex": "1",
            "visibility": "7",
            "visibilityMiles": "4",
            "weatherCode": "311",
            "weatherDesc": [
             {
              "value": "Light freezing rain"
             }
            ],
            "weatherIconUrl": [
             {
              "value": "http://cdn.worldweatheronline.com/images/wsymbols01_png_64/wsymbol_0021_cloudy_with_sleet.png"
             }
            ],
            "winddir16Point": "SSW",
            "winddirDegree": "195",
            "windspeedKmph": "25",
            "windspeedMiles": "16"
           }
          ],
          "maxtempC": "-2",
          "maxtempF": "28",
          "mintempC": "-13",
          "mintempF": "8",
          "sunHour": "5.2",
          "totalSnow_cm": "1.2",
          "uvIndex": "1"
         },
         {
          "astronomy": [
           {
            "moon_illumination": "58",
            "moon_phase": "Waning Gibbous",
            "moonrise": "12:21 AM",
            "moonset": "12:35 PM",
            "sunrise": "08:18 AM",
            "sunset": "05:37 PM"
           }
          ],
          "avgtempC": "-0",
          "avgtempF": "32",
          "date": "2018-01-08",
          "hourly": [
           {
            "DewPointC": "-2",
            "DewPointF": "29",
            "FeelsLikeC": "-5",
            "FeelsLikeF": "23",
            "HeatIndexC": "-0",
            "HeatIndexF": "32",
            "WindChillC": "-5",
            "WindChillF": "23",
            "WindGustKmph": "27",
            "WindGustMiles": "17",
            "cloudcover": "50",
            "humidity": "91",
            "precipInches": "0.1",
            "precipMM": "3.5",
            "pressure": "1017",
            "pressureInches": "30",
            "tempC": "1",
            "tempF": "34",
            "time": "24",
            "uvIndex": "1",
            "visibility": "8",
            "visibilityMiles": "4",
            "weatherCode": "314",
            "weatherDesc": [
             {
              "value": "Moderate or heavy freezing rain"
             }
            ],
            "weatherIconUrl": [
             {
              "value": "http://cdn.worldweatheronline.com/images/wsymbols01_png_64/wsymbol_0021_cloudy_with_sleet.png"
             }
            ],
            "winddir16Point": "WSW",
            "winddirDegree": "243",
            "windspeedKmph": "17",
            "windspeedMiles": "10"
           }
          ],
          "maxtempC": "1",
          "maxtempF": "34",
          "mintempC": "-1",
          "mintempF": "30",
          "sunHour": "8.7",
          "totalSnow_cm": "2.7",
          "uvIndex": "1"
         },
         {
          "astronomy": [
           {
            "moon_illumination": "51",
            "moon_phase": "Waning Gibbous",
            "moonrise": "01:24 AM",
            "moonset": "01:05 PM",
            "sunrise": "08:18 AM",
            "sunset": "05:38 PM"
           }
          ],
          "avgtempC": "-1",
          "avgtempF": "30",
          "date": "2018-01-09",
          "hourly": [
           {
            "DewPointC": "-3",
            "DewPointF": "27",
            "FeelsLikeC": "-5",
            "FeelsLikeF": "24",
            "HeatIndexC": "-1",
            "HeatIndexF": "30",
            "WindChillC": "-5",
            "WindChillF": "24",
            "WindGustKmph": "15",
            "WindGustMiles": "9",
            "cloudcover": "68",
            "humidity": "91",
            "precipInches": "0.0",
            "precipMM": "0.0",
            "pressure": "1024",
            "pressureInches": "30",
            "tempC": "-0",
            "tempF": "32",
            "time": "24",
            "uvIndex": "1",
            "visibility": "10",
            "visibilityMiles": "6",
            "weatherCode": "119",
            "weatherDesc": [
             {
              "value": "Cloudy"
             }
            ],
            "weatherIconUrl": [
             {
              "value": "http://cdn.worldweatheronline.com/images/wsymbols01_png_64/wsymbol_0003_white_cloud.png"
             }
            ],
            "winddir16Point": "S",
            "winddirDegree": "190",
            "windspeedKmph": "9",
            "windspeedMiles": "5"
           }
          ],
          "maxtempC": "-0",
          "maxtempF": "32",
          "mintempC": "-2",
          "mintempF": "28",
          "sunHour": "5.2",
          "totalSnow_cm": "0.0",
          "uvIndex": "1"
         },
         {
          "astronomy": [
           {
            "moon_illumination": "45",
            "moon_phase": "Third Quarter",
            "moonrise": "02:24 AM",
            "moonset": "01:35 PM",
            "sunrise": "08:17 AM",
            "sunset": "05:40 PM"
           }
          ],
          "avgtempC": "4",
          "avgtempF": "40",
          "date": "2018-01-10",
          "hourly": [
           {
            "DewPointC": "3",
            "DewPointF": "37",
            "FeelsLikeC": "-1",
            "FeelsLikeF": "30",
            "HeatIndexC": "3",
            "HeatIndexF": "38",
            "WindChillC": "-1",
            "WindChillF": "30",
            "WindGustKmph": "47",
            "WindGustMiles": "29",
            "cloudcover": "88",
            "humidity": "95",
            "precipInches": "0.0",
            "precipMM": "0.6",
            "pressure": "1014",
            "pressureInches": "30",
            "tempC": "7",
            "tempF": "44",
            "time": "24",
            "uvIndex": "1",
            "visibility": "9",
            "visibilityMiles": "5",
            "weatherCode": "266",
            "weatherDesc": [
             {
              "value": "Light drizzle"
             }
            ],
            "weatherIconUrl": [
             {
              "value": "http://cdn.worldweatheronline.com/images/wsymbols01_png_64/wsymbol_0017_cloudy_with_light_rain.png"
             }
            ],
            "winddir16Point": "S",
            "winddirDegree": "182",
            "windspeedKmph": "23",
            "windspeedMiles": "15"
           }
          ],
          "maxtempC": "7",
          "maxtempF": "44",
          "mintempC": "-1",
          "mintempF": "30",
          "sunHour": "3.5",
          "totalSnow_cm": "0.0",
          "uvIndex": "1"
         },
         {
          "astronomy": [
           {
            "moon_illumination": "38",
            "moon_phase": "Third Quarter",
            "moonrise": "03:24 AM",
            "moonset": "02:06 PM",
            "sunrise": "08:17 AM",
            "sunset": "05:41 PM"
           }
          ],
          "avgtempC": "8",
          "avgtempF": "47",
          "date": "2018-01-11",
          "hourly": [
           {
            "DewPointC": "6",
            "DewPointF": "43",
            "FeelsLikeC": "3",
            "FeelsLikeF": "38",
            "HeatIndexC": "7",
            "HeatIndexF": "45",
            "WindChillC": "3",
            "WindChillF": "38",
            "WindGustKmph": "47",
            "WindGustMiles": "29",
            "cloudcover": "99",
            "humidity": "93",
            "precipInches": "0.2",
            "precipMM": "5.3",
            "pressure": "1008",
            "pressureInches": "30",
            "tempC": "10",
            "tempF": "50",
            "time": "24",
            "uvIndex": "2",
            "visibility": "9",
            "visibilityMiles": "5",
            "weatherCode": "353",
            "weatherDesc": [
             {
              "value": "Light rain shower"
             }
            ],
            "weatherIconUrl": [
             {
              "value": "http://cdn.worldweatheronline.com/images/wsymbols01_png_64/wsymbol_0009_light_rain_showers.png"
             }
            ],
            "winddir16Point": "SW",
            "winddirDegree": "220",
            "windspeedKmph": "24",
            "windspeedMiles": "15"
           }
          ],
          "maxtempC": "10",
          "maxtempF": "50",
          "mintempC": "-1",
          "mintempF": "30",
          "sunHour": "3.5",
          "totalSnow_cm": "0.0",
          "uvIndex": "2"
         },
         {
          "astronomy": [
           {
            "moon_illumination": "31",
            "moon_phase": "Third Quarter",
            "moonrise": "04:21 AM",
            "moonset": "02:40 PM",
            "sunrise": "08:17 AM",
            "sunset": "05:42 PM"
           }
          ],
          "avgtempC": "-5",
          "avgtempF": "24",
          "date": "2018-01-12",
          "hourly": [
           {
            "DewPointC": "-9",
            "DewPointF": "16",
            "FeelsLikeC": "-13",
            "FeelsLikeF": "9",
            "HeatIndexC": "-5",
            "HeatIndexF": "24",
            "WindChillC": "-13",
            "WindChillF": "9",
            "WindGustKmph": "43",
            "WindGustMiles": "27",
            "cloudcover": "95",
            "humidity": "73",
            "precipInches": "0.2",
            "precipMM": "3.9",
            "pressure": "1021",
            "pressureInches": "30",
            "tempC": "-4",
            "tempF": "26",
            "time": "24",
            "uvIndex": "1",
            "visibility": "2",
            "visibilityMiles": "1",
            "weatherCode": "230",
            "weatherDesc": [
             {
              "value": "Blizzard"
             }
            ],
            "weatherIconUrl": [
             {
              "value": "http://cdn.worldweatheronline.com/images/wsymbols01_png_64/wsymbol_0020_cloudy_with_heavy_snow.png"
             }
            ],
            "winddir16Point": "WNW",
            "winddirDegree": "300",
            "windspeedKmph": "34",
            "windspeedMiles": "21"
           }
          ],
          "maxtempC": "-4",
          "maxtempF": "26",
          "mintempC": "-6",
          "mintempF": "21",
          "sunHour": "3.5",
          "totalSnow_cm": "0.7",
          "uvIndex": "1"
         },
         {
          "astronomy": [
           {
            "moon_illumination": "24",
            "moon_phase": "Waning Crescent",
            "moonrise": "05:18 AM",
            "moonset": "03:18 PM",
            "sunrise": "08:16 AM",
            "sunset": "05:43 PM"
           }
          ],
          "avgtempC": "-10",
          "avgtempF": "14",
          "date": "2018-01-13",
          "hourly": [
           {
            "DewPointC": "-18",
            "DewPointF": "0",
            "FeelsLikeC": "-16",
            "FeelsLikeF": "2",
            "HeatIndexC": "-9",
            "HeatIndexF": "15",
            "WindChillC": "-16",
            "WindChillF": "2",
            "WindGustKmph": "23",
            "WindGustMiles": "14",
            "cloudcover": "9",
            "humidity": "51",
            "precipInches": "0.0",
            "precipMM": "0.4",
            "pressure": "1036",
            "pressureInches": "31",
            "tempC": "-9",
            "tempF": "16",
            "time": "24",
            "uvIndex": "2",
            "visibility": "8",
            "visibilityMiles": "5",
            "weatherCode": "113",
            "weatherDesc": [
             {
              "value": "Sunny"
             }
            ],
            "weatherIconUrl": [
             {
              "value": "http://cdn.worldweatheronline.com/images/wsymbols01_png_64/wsymbol_0001_sunny.png"
             }
            ],
            "winddir16Point": "NNW",
            "winddirDegree": "328",
            "windspeedKmph": "18",
            "windspeedMiles": "11"
           }
          ],
          "maxtempC": "-9",
          "maxtempF": "16",
          "mintempC": "-11",
          "mintempF": "11",
          "sunHour": "8.7",
          "totalSnow_cm": "0.0",
          "uvIndex": "2"
         },
         {
          "astronomy": [
           {
            "moon_illumination": "18",
            "moon_phase": "Waning Crescent",
            "moonrise": "06:12 AM",
            "moonset": "04:00 PM",
            "sunrise": "08:16 AM",
            "sunset": "05:44 PM"
           }
          ],
          "avgtempC": "-9",
          "avgtempF": "16",
          "date": "2018-01-14",
          "hourly": [
           {
            "DewPointC": "-15",
            "DewPointF": "4",
            "FeelsLikeC": "-15",
            "FeelsLikeF": "6",
            "HeatIndexC": "-8",
            "HeatIndexF": "17",
            "WindChillC": "-15",
            "WindChillF": "6",
            "WindGustKmph": "20",
            "WindGustMiles": "12",
            "cloudcover": "45",
            "humidity": "58",
            "precipInches": "0.1",
            "precipMM": "1.5",
            "pressure": "1036",
            "pressureInches": "31",
            "tempC": "-7",
            "tempF": "19",
            "time": "24",
            "uvIndex": "1",
            "visibility": "8",
            "visibilityMiles": "5",
            "weatherCode": "332",
            "weatherDesc": [
             {
              "value": "Moderate snow"
             }
            ],
            "weatherIconUrl": [
             {
              "value": "http://cdn.worldweatheronline.com/images/wsymbols01_png_64/wsymbol_0020_cloudy_with_heavy_snow.png"
             }
            ],
            "winddir16Point": "SSW",
            "winddirDegree": "206",
            "windspeedKmph": "16",
            "windspeedMiles": "10"
           }
          ],
          "maxtempC": "-7",
          "maxtempF": "19",
          "mintempC": "-11",
          "mintempF": "13",
          "sunHour": "7.0",
          "totalSnow_cm": "0.1",
          "uvIndex": "1"
         },
         {
          "astronomy": [
           {
            "moon_illumination": "11",
            "moon_phase": "Waning Crescent",
            "moonrise": "07:02 AM",
            "moonset": "04:47 PM",
            "sunrise": "08:15 AM",
            "sunset": "05:45 PM"
           }
          ],
          "avgtempC": "-6",
          "avgtempF": "21",
          "date": "2018-01-15",
          "hourly": [
           {
            "DewPointC": "-8",
            "DewPointF": "17",
            "FeelsLikeC": "-14",
            "FeelsLikeF": "7",
            "HeatIndexC": "-7",
            "HeatIndexF": "20",
            "WindChillC": "-14",
            "WindChillF": "7",
            "WindGustKmph": "28",
            "WindGustMiles": "17",
            "cloudcover": "100",
            "humidity": "87",
            "precipInches": "0.3",
            "precipMM": "8.6",
            "pressure": "1025",
            "pressureInches": "30",
            "tempC": "-4",
            "tempF": "24",
            "time": "24",
            "uvIndex": "1",
            "visibility": "2",
            "visibilityMiles": "1",
            "weatherCode": "338",
            "weatherDesc": [
             {
              "value": "Heavy snow"
             }
            ],
            "weatherIconUrl": [
             {
              "value": "http://cdn.worldweatheronline.com/images/wsymbols01_png_64/wsymbol_0020_cloudy_with_heavy_snow.png"
             }
            ],
            "winddir16Point": "SSW",
            "winddirDegree": "206",
            "windspeedKmph": "21",
            "windspeedMiles": "13"
           }
          ],
          "maxtempC": "-4",
          "maxtempF": "24",
          "mintempC": "-10",
          "mintempF": "14",
          "sunHour": "3.5",
          "totalSnow_cm": "5.0",
          "uvIndex": "1"
         },
         {
          "astronomy": [
           {
            "moon_illumination": "4",
            "moon_phase": "Waning Crescent",
            "moonrise": "07:49 AM",
            "moonset": "05:38 PM",
            "sunrise": "08:15 AM",
            "sunset": "05:46 PM"
           }
          ],
          "avgtempC": "-6",
          "avgtempF": "20",
          "date": "2018-01-16",
          "hourly": [
           {
            "DewPointC": "-9",
            "DewPointF": "15",
            "FeelsLikeC": "-15",
            "FeelsLikeF": "6",
            "HeatIndexC": "-7",
            "HeatIndexF": "19",
            "WindChillC": "-15",
            "WindChillF": "6",
            "WindGustKmph": "27",
            "WindGustMiles": "17",
            "cloudcover": "84",
            "humidity": "86",
            "precipInches": "0.1",
            "precipMM": "2.4",
            "pressure": "1033",
            "pressureInches": "30",
            "tempC": "-5",
            "tempF": "23",
            "time": "24",
            "uvIndex": "1",
            "visibility": "5",
            "visibilityMiles": "3",
            "weatherCode": "338",
            "weatherDesc": [
             {
              "value": "Heavy snow"
             }
            ],
            "weatherIconUrl": [
             {
              "value": "http://cdn.worldweatheronline.com/images/wsymbols01_png_64/wsymbol_0020_cloudy_with_heavy_snow.png"
             }
            ],
            "winddir16Point": "WNW",
            "winddirDegree": "300",
            "windspeedKmph": "19",
            "windspeedMiles": "12"
           }
          ],
          "maxtempC": "-5",
          "maxtempF": "23",
          "mintempC": "-10",
          "mintempF": "13",
          "sunHour": "3.5",
          "totalSnow_cm": "2.0",
          "uvIndex": "1"
         },
         {
          "astronomy": [
           {
            "moon_illumination": "3",
            "moon_phase": "New Moon",
            "moonrise": "08:31 AM",
            "moonset": "06:32 PM",
            "sunrise": "08:15 AM",
            "sunset": "05:47 PM"
           }
          ],
          "avgtempC": "-9",
          "avgtempF": "16",
          "date": "2018-01-17",
          "hourly": [
           {
            "DewPointC": "-11",
            "DewPointF": "12",
            "FeelsLikeC": "-16",
            "FeelsLikeF": "3",
            "HeatIndexC": "-9",
            "HeatIndexF": "16",
            "WindChillC": "-16",
            "WindChillF": "3",
            "WindGustKmph": "30",
            "WindGustMiles": "18",
            "cloudcover": "22",
            "humidity": "83",
            "precipInches": "0.0",
            "precipMM": "0.0",
            "pressure": "1033",
            "pressureInches": "31",
            "tempC": "-7",
            "tempF": "20",
            "time": "24",
            "uvIndex": "2",
            "visibility": "10",
            "visibilityMiles": "6",
            "weatherCode": "116",
            "weatherDesc": [
             {
              "value": "Partly cloudy"
             }
            ],
            "weatherIconUrl": [
             {
              "value": "http://cdn.worldweatheronline.com/images/wsymbols01_png_64/wsymbol_0002_sunny_intervals.png"
             }
            ],
            "winddir16Point": "W",
            "winddirDegree": "259",
            "windspeedKmph": "20",
            "windspeedMiles": "13"
           }
          ],
          "maxtempC": "-7",
          "maxtempF": "20",
          "mintempC": "-11",
          "mintempF": "13",
          "sunHour": "8.7",
          "totalSnow_cm": "0.0",
          "uvIndex": "2"
         },
         {
          "astronomy": [
           {
            "moon_illumination": "10",
            "moon_phase": "New Moon",
            "moonrise": "09:10 AM",
            "moonset": "07:30 PM",
            "sunrise": "08:14 AM",
            "sunset": "05:49 PM"
           }
          ],
          "avgtempC": "-4",
          "avgtempF": "25",
          "date": "2018-01-18",
          "hourly": [
           {
            "DewPointC": "-8",
            "DewPointF": "18",
            "FeelsLikeC": "-12",
            "FeelsLikeF": "11",
            "HeatIndexC": "-4",
            "HeatIndexF": "24",
            "WindChillC": "-12",
            "WindChillF": "11",
            "WindGustKmph": "39",
            "WindGustMiles": "24",
            "cloudcover": "6",
            "humidity": "76",
            "precipInches": "0.0",
            "precipMM": "0.0",
            "pressure": "1021",
            "pressureInches": "30",
            "tempC": "-1",
            "tempF": "31",
            "time": "24",
            "uvIndex": "2",
            "visibility": "10",
            "visibilityMiles": "6",
            "weatherCode": "113",
            "weatherDesc": [
             {
              "value": "Sunny"
             }
            ],
            "weatherIconUrl": [
             {
              "value": "http://cdn.worldweatheronline.com/images/wsymbols01_png_64/wsymbol_0001_sunny.png"
             }
            ],
            "winddir16Point": "SW",
            "winddirDegree": "231",
            "windspeedKmph": "26",
            "windspeedMiles": "16"
           }
          ],
          "maxtempC": "-1",
          "maxtempF": "31",
          "mintempC": "-7",
          "mintempF": "19",
          "sunHour": "8.7",
          "totalSnow_cm": "0.0",
          "uvIndex": "2"
         },
         {
          "astronomy": [
           {
            "moon_illumination": "16",
            "moon_phase": "New Moon",
            "moonrise": "09:44 AM",
            "moonset": "08:28 PM",
            "sunrise": "08:13 AM",
            "sunset": "05:50 PM"
           }
          ],
          "avgtempC": "0",
          "avgtempF": "32",
          "date": "2018-01-19",
          "hourly": [
           {
            "DewPointC": "-4",
            "DewPointF": "25",
            "FeelsLikeC": "-6",
            "FeelsLikeF": "22",
            "HeatIndexC": "0",
            "HeatIndexF": "32",
            "WindChillC": "-6",
            "WindChillF": "22",
            "WindGustKmph": "41",
            "WindGustMiles": "25",
            "cloudcover": "9",
            "humidity": "75",
            "precipInches": "0.0",
            "precipMM": "0.0",
            "pressure": "1013",
            "pressureInches": "30",
            "tempC": "2",
            "tempF": "36",
            "time": "24",
            "uvIndex": "2",
            "visibility": "10",
            "visibilityMiles": "6",
            "weatherCode": "113",
            "weatherDesc": [
             {
              "value": "Sunny"
             }
            ],
            "weatherIconUrl": [
             {
              "value": "http://cdn.worldweatheronline.com/images/wsymbols01_png_64/wsymbol_0001_sunny.png"
             }
            ],
            "winddir16Point": "SW",
            "winddirDegree": "215",
            "windspeedKmph": "24",
            "windspeedMiles": "15"
           }
          ],
          "maxtempC": "2",
          "maxtempF": "36",
          "mintempC": "-2",
          "mintempF": "28",
          "sunHour": "8.7",
          "totalSnow_cm": "0.0",
          "uvIndex": "2"
         },
         {
          "astronomy": [
           {
            "moon_illumination": "23",
            "moon_phase": "New Moon",
            "moonrise": "10:16 AM",
            "moonset": "09:29 PM",
            "sunrise": "08:13 AM",
            "sunset": "05:51 PM"
           }
          ],
          "avgtempC": "2",
          "avgtempF": "36",
          "date": "2018-01-20",
          "hourly": [
           {
            "DewPointC": "0",
            "DewPointF": "32",
            "FeelsLikeC": "-2",
            "FeelsLikeF": "29",
            "HeatIndexC": "2",
            "HeatIndexF": "36",
            "WindChillC": "-2",
            "WindChillF": "29",
            "WindGustKmph": "29",
            "WindGustMiles": "18",
            "cloudcover": "39",
            "humidity": "87",
            "precipInches": "0.0",
            "precipMM": "0.0",
            "pressure": "1014",
            "pressureInches": "30",
            "tempC": "3",
            "tempF": "38",
            "time": "24",
            "uvIndex": "1",
            "visibility": "8",
            "visibilityMiles": "4",
            "weatherCode": "248",
            "weatherDesc": [
             {
              "value": "Fog"
             }
            ],
            "weatherIconUrl": [
             {
              "value": "http://cdn.worldweatheronline.com/images/wsymbols01_png_64/wsymbol_0007_fog.png"
             }
            ],
            "winddir16Point": "SW",
            "winddirDegree": "218",
            "windspeedKmph": "15",
            "windspeedMiles": "9"
           }
          ],
          "maxtempC": "3",
          "maxtempF": "38",
          "mintempC": "1",
          "mintempF": "34",
          "sunHour": "8.7",
          "totalSnow_cm": "0.0",
          "uvIndex": "1"
         },
         {
          "astronomy": [
           {
            "moon_illumination": "30",
            "moon_phase": "Waxing Crescent",
            "moonrise": "10:46 AM",
            "moonset": "10:30 PM",
            "sunrise": "08:12 AM",
            "sunset": "05:52 PM"
           }
          ],
          "avgtempC": "2",
          "avgtempF": "36",
          "date": "2018-01-21",
          "hourly": [
           {
            "DewPointC": "2",
            "DewPointF": "36",
            "FeelsLikeC": "0",
            "FeelsLikeF": "32",
            "HeatIndexC": "3",
            "HeatIndexF": "37",
            "WindChillC": "0",
            "WindChillF": "32",
            "WindGustKmph": "18",
            "WindGustMiles": "11",
            "cloudcover": "100",
            "humidity": "99",
            "precipInches": "0.1",
            "precipMM": "2.0",
            "pressure": "1015",
            "pressureInches": "30",
            "tempC": "3",
            "tempF": "37",
            "time": "24",
            "uvIndex": "1",
            "visibility": "1",
            "visibilityMiles": "0",
            "weatherCode": "266",
            "weatherDesc": [
             {
              "value": "Light drizzle"
             }
            ],
            "weatherIconUrl": [
             {
              "value": "http://cdn.worldweatheronline.com/images/wsymbols01_png_64/wsymbol_0017_cloudy_with_light_rain.png"
             }
            ],
            "winddir16Point": "SSE",
            "winddirDegree": "167",
            "windspeedKmph": "9",
            "windspeedMiles": "5"
           }
          ],
          "maxtempC": "3",
          "maxtempF": "37",
          "mintempC": "2",
          "mintempF": "35",
          "sunHour": "3.5",
          "totalSnow_cm": "0.0",
          "uvIndex": "1"
         },
         {
          "astronomy": [
           {
            "moon_illumination": "37",
            "moon_phase": "Waxing Crescent",
            "moonrise": "11:15 AM",
            "moonset": "11:32 PM",
            "sunrise": "08:11 AM",
            "sunset": "05:53 PM"
           }
          ],
          "avgtempC": "7",
          "avgtempF": "44",
          "date": "2018-01-22",
          "hourly": [
           {
            "DewPointC": "5",
            "DewPointF": "41",
            "FeelsLikeC": "2",
            "FeelsLikeF": "36",
            "HeatIndexC": "6",
            "HeatIndexF": "43",
            "WindChillC": "2",
            "WindChillF": "36",
            "WindGustKmph": "40",
            "WindGustMiles": "25",
            "cloudcover": "77",
            "humidity": "94",
            "precipInches": "0.8",
            "precipMM": "20.9",
            "pressure": "1003",
            "pressureInches": "30",
            "tempC": "8",
            "tempF": "46",
            "time": "24",
            "uvIndex": "2",
            "visibility": "7",
            "visibilityMiles": "4",
            "weatherCode": "389",
            "weatherDesc": [
             {
              "value": "Moderate or heavy rain with thunder"
             }
            ],
            "weatherIconUrl": [
             {
              "value": "http://cdn.worldweatheronline.com/images/wsymbols01_png_64/wsymbol_0024_thunderstorms.png"
             }
            ],
            "winddir16Point": "S",
            "winddirDegree": "175",
            "windspeedKmph": "19",
            "windspeedMiles": "12"
           }
          ],
          "maxtempC": "8",
          "maxtempF": "46",
          "mintempC": "4",
          "mintempF": "40",
          "sunHour": "3.5",
          "totalSnow_cm": "0.0",
          "uvIndex": "2"
         },
         {
          "astronomy": [
           {
            "moon_illumination": "43",
            "moon_phase": "Waxing Crescent",
            "moonrise": "11:45 AM",
            "moonset": "No moonset",
            "sunrise": "08:11 AM",
            "sunset": "05:55 PM"
           }
          ],
          "avgtempC": "-0",
          "avgtempF": "32",
          "date": "2018-01-23",
          "hourly": [
           {
            "DewPointC": "-3",
            "DewPointF": "26",
            "FeelsLikeC": "-5",
            "FeelsLikeF": "23",
            "HeatIndexC": "0",
            "HeatIndexF": "32",
            "WindChillC": "-5",
            "WindChillF": "23",
            "WindGustKmph": "25",
            "WindGustMiles": "16",
            "cloudcover": "78",
            "humidity": "78",
            "precipInches": "0.1",
            "precipMM": "2.2",
            "pressure": "1010",
            "pressureInches": "30",
            "tempC": "1",
            "tempF": "33",
            "time": "24",
            "uvIndex": "1",
            "visibility": "6",
            "visibilityMiles": "3",
            "weatherCode": "338",
            "weatherDesc": [
             {
              "value": "Heavy snow"
             }
            ],
            "weatherIconUrl": [
             {
              "value": "http://cdn.worldweatheronline.com/images/wsymbols01_png_64/wsymbol_0020_cloudy_with_heavy_snow.png"
             }
            ],
            "winddir16Point": "WNW",
            "winddirDegree": "297",
            "windspeedKmph": "17",
            "windspeedMiles": "11"
           }
          ],
          "maxtempC": "1",
          "maxtempF": "33",
          "mintempC": "-2",
          "mintempF": "29",
          "sunHour": "3.5",
          "totalSnow_cm": "1.9",
          "uvIndex": "1"
         },
         {
          "astronomy": [
           {
            "moon_illumination": "50",
            "moon_phase": "First Quarter",
            "moonrise": "12:15 PM",
            "moonset": "12:36 AM",
            "sunrise": "08:10 AM",
            "sunset": "05:56 PM"
           }
          ],
          "avgtempC": "-2",
          "avgtempF": "29",
          "date": "2018-01-24",
          "hourly": [
           {
            "DewPointC": "-6",
            "DewPointF": "22",
            "FeelsLikeC": "-5",
            "FeelsLikeF": "23",
            "HeatIndexC": "-2",
            "HeatIndexF": "29",
            "WindChillC": "-5",
            "WindChillF": "23",
            "WindGustKmph": "12",
            "WindGustMiles": "7",
            "cloudcover": "78",
            "humidity": "74",
            "precipInches": "0.0",
            "precipMM": "0.9",
            "pressure": "1026",
            "pressureInches": "30",
            "tempC": "-1",
            "tempF": "30",
            "time": "24",
            "uvIndex": "1",
            "visibility": "7",
            "visibilityMiles": "4",
            "weatherCode": "371",
            "weatherDesc": [
             {
              "value": "Moderate or heavy snow showers"
             }
            ],
            "weatherIconUrl": [
             {
              "value": "http://cdn.worldweatheronline.com/images/wsymbols01_png_64/wsymbol_0012_heavy_snow_showers.png"
             }
            ],
            "winddir16Point": "WNW",
            "winddirDegree": "298",
            "windspeedKmph": "9",
            "windspeedMiles": "5"
           }
          ],
          "maxtempC": "-1",
          "maxtempF": "30",
          "mintempC": "-2",
          "mintempF": "28",
          "sunHour": "3.5",
          "totalSnow_cm": "0.8",
          "uvIndex": "1"
         },
         {
          "astronomy": [
           {
            "moon_illumination": "57",
            "moon_phase": "First Quarter",
            "moonrise": "12:49 PM",
            "moonset": "01:43 AM",
            "sunrise": "08:09 AM",
            "sunset": "05:57 PM"
           }
          ],
          "avgtempC": "1",
          "avgtempF": "33",
          "date": "2018-01-25",
          "hourly": [
           {
            "DewPointC": "-4",
            "DewPointF": "26",
            "FeelsLikeC": "-5",
            "FeelsLikeF": "24",
            "HeatIndexC": "-0",
            "HeatIndexF": "32",
            "WindChillC": "-5",
            "WindChillF": "24",
            "WindGustKmph": "25",
            "WindGustMiles": "16",
            "cloudcover": "17",
            "humidity": "77",
            "precipInches": "0.0",
            "precipMM": "0.0",
            "pressure": "1027",
            "pressureInches": "30",
            "tempC": "3",
            "tempF": "38",
            "time": "24",
            "uvIndex": "2",
            "visibility": "10",
            "visibilityMiles": "6",
            "weatherCode": "116",
            "weatherDesc": [
             {
              "value": "Partly cloudy"
             }
            ],
            "weatherIconUrl": [
             {
              "value": "http://cdn.worldweatheronline.com/images/wsymbols01_png_64/wsymbol_0002_sunny_intervals.png"
             }
            ],
            "winddir16Point": "S",
            "winddirDegree": "169",
            "windspeedKmph": "15",
            "windspeedMiles": "9"
           }
          ],
          "maxtempC": "3",
          "maxtempF": "38",
          "mintempC": "-2",
          "mintempF": "28",
          "sunHour": "8.7",
          "totalSnow_cm": "0.0",
          "uvIndex": "2"
         },
         {
          "astronomy": [
           {
            "moon_illumination": "64",
            "moon_phase": "First Quarter",
            "moonrise": "01:29 PM",
            "moonset": "02:51 AM",
            "sunrise": "08:08 AM",
            "sunset": "05:58 PM"
           }
          ],
          "avgtempC": "6",
          "avgtempF": "42",
          "date": "2018-01-26",
          "hourly": [
           {
            "DewPointC": "-1",
            "DewPointF": "31",
            "FeelsLikeC": "1",
            "FeelsLikeF": "33",
            "HeatIndexC": "5",
            "HeatIndexF": "41",
            "WindChillC": "1",
            "WindChillF": "33",
            "WindGustKmph": "52",
            "WindGustMiles": "33",
            "cloudcover": "21",
            "humidity": "68",
            "precipInches": "0.0",
            "precipMM": "0.0",
            "pressure": "1021",
            "pressureInches": "30",
            "tempC": "8",
            "tempF": "47",
            "time": "24",
            "uvIndex": "3",
            "visibility": "10",
            "visibilityMiles": "6",
            "weatherCode": "116",
            "weatherDesc": [
             {
              "value": "Partly cloudy"
             }
            ],
            "weatherIconUrl": [
             {
              "value": "http://cdn.worldweatheronline.com/images/wsymbols01_png_64/wsymbol_0002_sunny_intervals.png"
             }
            ],
            "winddir16Point": "S",
            "winddirDegree": "190",
            "windspeedKmph": "26",
            "windspeedMiles": "16"
           }
          ],
          "maxtempC": "8",
          "maxtempF": "47",
          "mintempC": "2",
          "mintempF": "35",
          "sunHour": "8.7",
          "totalSnow_cm": "0.0",
          "uvIndex": "3"
         },
         {
          "astronomy": [
           {
            "moon_illumination": "71",
            "moon_phase": "First Quarter",
            "moonrise": "02:14 PM",
            "moonset": "04:00 AM",
            "sunrise": "08:08 AM",
            "sunset": "06:00 PM"
           }
          ],
          "avgtempC": "5",
          "avgtempF": "42",
          "date": "2018-01-27",
          "hourly": [
           {
            "DewPointC": "-1",
            "DewPointF": "30",
            "FeelsLikeC": "2",
            "FeelsLikeF": "35",
            "HeatIndexC": "6",
            "HeatIndexF": "42",
            "WindChillC": "2",
            "WindChillF": "35",
            "WindGustKmph": "38",
            "WindGustMiles": "23",
            "cloudcover": "31",
            "humidity": "63",
            "precipInches": "0.0",
            "precipMM": "0.2",
            "pressure": "1021",
            "pressureInches": "30",
            "tempC": "7",
            "tempF": "44",
            "time": "24",
            "uvIndex": "3",
            "visibility": "10",
            "visibilityMiles": "6",
            "weatherCode": "116",
            "weatherDesc": [
             {
              "value": "Partly cloudy"
             }
            ],
            "weatherIconUrl": [
             {
              "value": "http://cdn.worldweatheronline.com/images/wsymbols01_png_64/wsymbol_0002_sunny_intervals.png"
             }
            ],
            "winddir16Point": "WSW",
            "winddirDegree": "247",
            "windspeedKmph": "19",
            "windspeedMiles": "12"
           }
          ],
          "maxtempC": "7",
          "maxtempF": "44",
          "mintempC": "3",
          "mintempF": "38",
          "sunHour": "9.9",
          "totalSnow_cm": "0.0",
          "uvIndex": "3"
         },
         {
          "astronomy": [
           {
            "moon_illumination": "77",
            "moon_phase": "Waxing Gibbous",
            "moonrise": "03:07 PM",
            "moonset": "05:09 AM",
            "sunrise": "08:07 AM",
            "sunset": "06:01 PM"
           }
          ],
          "avgtempC": "1",
          "avgtempF": "34",
          "date": "2018-01-28",
          "hourly": [
           {
            "DewPointC": "-2",
            "DewPointF": "28",
            "FeelsLikeC": "-3",
            "FeelsLikeF": "27",
            "HeatIndexC": "1",
            "HeatIndexF": "34",
            "WindChillC": "-3",
            "WindChillF": "27",
            "WindGustKmph": "22",
            "WindGustMiles": "14",
            "cloudcover": "45",
            "humidity": "77",
            "precipInches": "0.0",
            "precipMM": "0.4",
            "pressure": "1027",
            "pressureInches": "30",
            "tempC": "2",
            "tempF": "36",
            "time": "24",
            "uvIndex": "1",
            "visibility": "9",
            "visibilityMiles": "5",
            "weatherCode": "326",
            "weatherDesc": [
             {
              "value": "Light snow"
             }
            ],
            "weatherIconUrl": [
             {
              "value": "http://cdn.worldweatheronline.com/images/wsymbols01_png_64/wsymbol_0011_light_snow_showers.png"
             }
            ],
            "winddir16Point": "ESE",
            "winddirDegree": "119",
            "windspeedKmph": "14",
            "windspeedMiles": "9"
           }
          ],
          "maxtempC": "2",
          "maxtempF": "36",
          "mintempC": "-0",
          "mintempF": "32",
          "sunHour": "8.3",
          "totalSnow_cm": "0.3",
          "uvIndex": "1"
         },
         {
          "astronomy": [
           {
            "moon_illumination": "84",
            "moon_phase": "Waxing Gibbous",
            "moonrise": "04:09 PM",
            "moonset": "06:14 AM",
            "sunrise": "08:06 AM",
            "sunset": "06:02 PM"
           }
          ],
          "avgtempC": "-3",
          "avgtempF": "26",
          "date": "2018-01-29",
          "hourly": [
           {
            "DewPointC": "-8",
            "DewPointF": "17",
            "FeelsLikeC": "-10",
            "FeelsLikeF": "15",
            "HeatIndexC": "-3",
            "HeatIndexF": "27",
            "WindChillC": "-10",
            "WindChillF": "15",
            "WindGustKmph": "32",
            "WindGustMiles": "20",
            "cloudcover": "74",
            "humidity": "68",
            "precipInches": "0.0",
            "precipMM": "1.0",
            "pressure": "1030",
            "pressureInches": "30",
            "tempC": "-2",
            "tempF": "28",
            "time": "24",
            "uvIndex": "1",
            "visibility": "6",
            "visibilityMiles": "3",
            "weatherCode": "332",
            "weatherDesc": [
             {
              "value": "Moderate snow"
             }
            ],
            "weatherIconUrl": [
             {
              "value": "http://cdn.worldweatheronline.com/images/wsymbols01_png_64/wsymbol_0020_cloudy_with_heavy_snow.png"
             }
            ],
            "winddir16Point": "NNW",
            "winddirDegree": "346",
            "windspeedKmph": "24",
            "windspeedMiles": "15"
           }
          ],
          "maxtempC": "-2",
          "maxtempF": "28",
          "mintempC": "-5",
          "mintempF": "22",
          "sunHour": "6.6",
          "totalSnow_cm": "0.6",
          "uvIndex": "1"
         },
         {
          "astronomy": [
           {
            "moon_illumination": "91",
            "moon_phase": "Waxing Gibbous",
            "moonrise": "05:18 PM",
            "moonset": "07:14 AM",
            "sunrise": "08:05 AM",
            "sunset": "06:03 PM"
           }
          ],
          "avgtempC": "-4",
          "avgtempF": "25",
          "date": "2018-01-30",
          "hourly": [
           {
            "DewPointC": "-12",
            "DewPointF": "11",
            "FeelsLikeC": "-9",
            "FeelsLikeF": "15",
            "HeatIndexC": "-4",
            "HeatIndexF": "25",
            "WindChillC": "-9",
            "WindChillF": "15",
            "WindGustKmph": "20",
            "WindGustMiles": "13",
            "cloudcover": "32",
            "humidity": "55",
            "precipInches": "0.0",
            "precipMM": "0.0",
            "pressure": "1029",
            "pressureInches": "30",
            "tempC": "-2",
            "tempF": "29",
            "time": "24",
            "uvIndex": "1",
            "visibility": "10",
            "visibilityMiles": "6",
            "weatherCode": "119",
            "weatherDesc": [
             {
              "value": "Cloudy"
             }
            ],
            "weatherIconUrl": [
             {
              "value": "http://cdn.worldweatheronline.com/images/wsymbols01_png_64/wsymbol_0003_white_cloud.png"
             }
            ],
            "winddir16Point": "WSW",
            "winddirDegree": "245",
            "windspeedKmph": "15",
            "windspeedMiles": "9"
           }
          ],
          "maxtempC": "-2",
          "maxtempF": "29",
          "mintempC": "-6",
          "mintempF": "21",
          "sunHour": "9.9",
          "totalSnow_cm": "0.0",
          "uvIndex": "1"
         },
         {
          "astronomy": [
           {
            "moon_illumination": "98",
            "moon_phase": "Waxing Gibbous",
            "moonrise": "06:30 PM",
            "moonset": "08:06 AM",
            "sunrise": "08:04 AM",
            "sunset": "06:05 PM"
           }
          ],
          "avgtempC": "2",
          "avgtempF": "35",
          "date": "2018-01-31",
          "hourly": [
           {
            "DewPointC": "-5",
            "DewPointF": "23",
            "FeelsLikeC": "-4",
            "FeelsLikeF": "25",
            "HeatIndexC": "1",
            "HeatIndexF": "34",
            "WindChillC": "-4",
            "WindChillF": "25",
            "WindGustKmph": "37",
            "WindGustMiles": "23",
            "cloudcover": "80",
            "humidity": "64",
            "precipInches": "0.0",
            "precipMM": "0.0",
            "pressure": "1010",
            "pressureInches": "30",
            "tempC": "3",
            "tempF": "38",
            "time": "24",
            "uvIndex": "1",
            "visibility": "10",
            "visibilityMiles": "6",
            "weatherCode": "122",
            "weatherDesc": [
             {
              "value": "Overcast"
             }
            ],
            "weatherIconUrl": [
             {
              "value": "http://cdn.worldweatheronline.com/images/wsymbols01_png_64/wsymbol_0004_black_low_cloud.png"
             }
            ],
            "winddir16Point": "SW",
            "winddirDegree": "224",
            "windspeedKmph": "23",
            "windspeedMiles": "14"
           }
          ],
          "maxtempC": "3",
          "maxtempF": "38",
          "mintempC": "-1",
          "mintempF": "31",
          "sunHour": "6.7",
          "totalSnow_cm": "0.0",
          "uvIndex": "1"
         },
         {
          "astronomy": [
           {
            "moon_illumination": "96",
            "moon_phase": "Full Moon",
            "moonrise": "07:43 PM",
            "moonset": "08:50 AM",
            "sunrise": "08:03 AM",
            "sunset": "06:06 PM"
           }
          ],
          "avgtempC": "-6",
          "avgtempF": "21",
          "date": "2018-02-01",
          "hourly": [
           {
            "DewPointC": "-13",
            "DewPointF": "8",
            "FeelsLikeC": "-12",
            "FeelsLikeF": "10",
            "HeatIndexC": "-5",
            "HeatIndexF": "23",
            "WindChillC": "-12",
            "WindChillF": "10",
            "WindGustKmph": "32",
            "WindGustMiles": "20",
            "cloudcover": "18",
            "humidity": "53",
            "precipInches": "0.0",
            "precipMM": "0.0",
            "pressure": "1020",
            "pressureInches": "30",
            "tempC": "-1",
            "tempF": "30",
            "time": "24",
            "uvIndex": "2",
            "visibility": "10",
            "visibilityMiles": "6",
            "weatherCode": "116",
            "weatherDesc": [
             {
              "value": "Partly cloudy"
             }
            ],
            "weatherIconUrl": [
             {
              "value": "http://cdn.worldweatheronline.com/images/wsymbols01_png_64/wsymbol_0002_sunny_intervals.png"
             }
            ],
            "winddir16Point": "WNW",
            "winddirDegree": "298",
            "windspeedKmph": "24",
            "windspeedMiles": "15"
           }
          ],
          "maxtempC": "-1",
          "maxtempF": "30",
          "mintempC": "-10",
          "mintempF": "14",
          "sunHour": "10.0",
          "totalSnow_cm": "0.0",
          "uvIndex": "2"
         },
         {
          "astronomy": [
           {
            "moon_illumination": "89",
            "moon_phase": "Full Moon",
            "moonrise": "08:54 PM",
            "moonset": "09:29 AM",
            "sunrise": "08:02 AM",
            "sunset": "06:07 PM"
           }
          ],
          "avgtempC": "-10",
          "avgtempF": "14",
          "date": "2018-02-02",
          "hourly": [
           {
            "DewPointC": "-20",
            "DewPointF": "-4",
            "FeelsLikeC": "-17",
            "FeelsLikeF": "1",
            "HeatIndexC": "-10",
            "HeatIndexF": "14",
            "WindChillC": "-17",
            "WindChillF": "1",
            "WindGustKmph": "21",
            "WindGustMiles": "13",
            "cloudcover": "15",
            "humidity": "45",
            "precipInches": "0.0",
            "precipMM": "0.0",
            "pressure": "1033",
            "pressureInches": "31",
            "tempC": "-7",
            "tempF": "19",
            "time": "24",
            "uvIndex": "2",
            "visibility": "10",
            "visibilityMiles": "6",
            "weatherCode": "113",
            "weatherDesc": [
             {
              "value": "Sunny"
             }
            ],
            "weatherIconUrl": [
             {
              "value": "http://cdn.worldweatheronline.com/images/wsymbols01_png_64/wsymbol_0001_sunny.png"
             }
            ],
            "winddir16Point": "W",
            "winddirDegree": "276",
            "windspeedKmph": "16",
            "windspeedMiles": "10"
           }
          ],
          "maxtempC": "-7",
          "maxtempF": "19",
          "mintempC": "-13",
          "mintempF": "9",
          "sunHour": "10.1",
          "totalSnow_cm": "0.0",
          "uvIndex": "2"
         },
         {
          "astronomy": [
           {
            "moon_illumination": "82",
            "moon_phase": "Full Moon",
            "moonrise": "10:03 PM",
            "moonset": "10:03 AM",
            "sunrise": "08:01 AM",
            "sunset": "06:08 PM"
           }
          ],
          "avgtempC": "-1",
          "avgtempF": "30",
          "date": "2018-02-03",
          "hourly": [
           {
            "DewPointC": "-12",
            "DewPointF": "10",
            "FeelsLikeC": "-8",
            "FeelsLikeF": "17",
            "HeatIndexC": "-2",
            "HeatIndexF": "28",
            "WindChillC": "-8",
            "WindChillF": "17",
            "WindGustKmph": "31",
            "WindGustMiles": "19",
            "cloudcover": "91",
            "humidity": "46",
            "precipInches": "0.0",
            "precipMM": "0.4",
            "pressure": "1019",
            "pressureInches": "30",
            "tempC": "1",
            "tempF": "35",
            "time": "24",
            "uvIndex": "1",
            "visibility": "9",
            "visibilityMiles": "5",
            "weatherCode": "122",
            "weatherDesc": [
             {
              "value": "Overcast"
             }
            ],
            "weatherIconUrl": [
             {
              "value": "http://cdn.worldweatheronline.com/images/wsymbols01_png_64/wsymbol_0004_black_low_cloud.png"
             }
            ],
            "winddir16Point": "SSW",
            "winddirDegree": "207",
            "windspeedKmph": "21",
            "windspeedMiles": "13"
           }
          ],
          "maxtempC": "1",
          "maxtempF": "35",
          "mintempC": "-6",
          "mintempF": "21",
          "sunHour": "5.0",
          "totalSnow_cm": "0.3",
          "uvIndex": "1"
         },
         {
          "astronomy": [
           {
            "moon_illumination": "75",
            "moon_phase": "Full Moon",
            "moonrise": "11:09 PM",
            "moonset": "10:35 AM",
            "sunrise": "08:00 AM",
            "sunset": "06:10 PM"
           }
          ],
          "avgtempC": "-6",
          "avgtempF": "22",
          "date": "2018-02-04",
          "hourly": [
           {
            "DewPointC": "-8",
            "DewPointF": "18",
            "FeelsLikeC": "-12",
            "FeelsLikeF": "10",
            "HeatIndexC": "-5",
            "HeatIndexF": "23",
            "WindChillC": "-12",
            "WindChillF": "10",
            "WindGustKmph": "33",
            "WindGustMiles": "20",
            "cloudcover": "82",
            "humidity": "80",
            "precipInches": "0.2",
            "precipMM": "6.2",
            "pressure": "1016",
            "pressureInches": "30",
            "tempC": "-2",
            "tempF": "29",
            "time": "24",
            "uvIndex": "1",
            "visibility": "4",
            "visibilityMiles": "2",
            "weatherCode": "338",
            "weatherDesc": [
             {
              "value": "Heavy snow"
             }
            ],
            "weatherIconUrl": [
             {
              "value": "http://cdn.worldweatheronline.com/images/wsymbols01_png_64/wsymbol_0020_cloudy_with_heavy_snow.png"
             }
            ],
            "winddir16Point": "W",
            "winddirDegree": "260",
            "windspeedKmph": "25",
            "windspeedMiles": "15"
           }
          ],
          "maxtempC": "-2",
          "maxtempF": "29",
          "mintempC": "-11",
          "mintempF": "13",
          "sunHour": "6.7",
          "totalSnow_cm": "2.6",
          "uvIndex": "1"
         }
        ]
       }
      },
      "text/plain": [
       "<IPython.core.display.JSON object>"
      ]
     },
     "execution_count": 29,
     "metadata": {
      "application/json": {
       "expanded": false,
       "root": "root"
      }
     },
     "output_type": "execute_result"
    }
   ],
   "source": [
    "\n",
    "\n",
    "url = 'http://api.worldweatheronline.com/premium/v1/past-weather.ashx?key=82651e6b563e4afca44205949221703&q=Chicago&format=json&date=2018-01-01&enddate=2019-07-31&tp=24'\n",
    "\n",
    "res = requests.get(url)\n",
    "\n",
    "chicago = JSON(res.json())\n",
    "\n",
    "chicago"
   ]
  },
  {
   "cell_type": "code",
   "execution_count": null,
   "id": "dcd88d0c-c3b6-4d5f-bab3-33c3d679d8ef",
   "metadata": {},
   "outputs": [],
   "source": [
    "\n"
   ]
  }
 ],
 "metadata": {
  "kernelspec": {
   "display_name": "lighthouse_labs",
   "language": "python",
   "name": "lighthouse_labs"
  },
  "language_info": {
   "codemirror_mode": {
    "name": "ipython",
    "version": 3
   },
   "file_extension": ".py",
   "mimetype": "text/x-python",
   "name": "python",
   "nbconvert_exporter": "python",
   "pygments_lexer": "ipython3",
   "version": "3.8.2"
  }
 },
 "nbformat": 4,
 "nbformat_minor": 5
}
