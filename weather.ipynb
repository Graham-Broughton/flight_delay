{
 "cells": [
  {
   "cell_type": "markdown",
   "id": "4545706d-277f-4135-aeda-77c90848f174",
   "metadata": {},
   "source": [
    "Task 3: Does the weather affect the delay?\n",
    "\n",
    "Use the API to pull the weather information for flights. There is no need to get weather for ALL flights. We can choose the right representative sample. Let's focus on four weather types:\n",
    "\n",
    "- sunny\n",
    "- cloudy\n",
    "- rainy\n",
    "- snow. \n",
    "\n",
    "Test the hypothesis that these 4 delays are from the same distribution. If they are not, which ones are significantly different?"
   ]
  },
  {
   "cell_type": "code",
   "execution_count": 2,
   "id": "44aad7a9-9748-4e2d-a97d-17d02dfd5fdf",
   "metadata": {},
   "outputs": [],
   "source": [
    "import pandas as pd \n",
    "import numpy as np"
   ]
  },
  {
   "cell_type": "code",
   "execution_count": 3,
   "id": "ee7402c2-abff-4b74-a9e4-e70ff6f06e39",
   "metadata": {},
   "outputs": [],
   "source": [
    "\n",
    "sample = pd.read_csv('G_PSQL_data/random_sample.txt')"
   ]
  },
  {
   "cell_type": "code",
   "execution_count": 4,
   "id": "7bf48f9a-ca1a-43f7-b931-5ea2e8d9fad5",
   "metadata": {},
   "outputs": [
    {
     "data": {
      "text/plain": [
       "Index(['fl_date', 'mkt_unique_carrier', 'branded_code_share', 'mkt_carrier',\n",
       "       'mkt_carrier_fl_num', 'op_unique_carrier', 'tail_num',\n",
       "       'op_carrier_fl_num', 'origin_airport_id', 'origin', 'origin_city_name',\n",
       "       'dest_airport_id', 'dest', 'dest_city_name', 'crs_dep_time', 'dep_time',\n",
       "       'dep_delay', 'taxi_out', 'wheels_off', 'wheels_on', 'taxi_in',\n",
       "       'crs_arr_time', 'arr_time', 'arr_delay', 'cancelled',\n",
       "       'cancellation_code', 'diverted', 'dup', 'crs_elapsed_time',\n",
       "       'actual_elapsed_time', 'air_time', 'flights', 'distance',\n",
       "       'carrier_delay', 'weather_delay', 'nas_delay', 'security_delay',\n",
       "       'late_aircraft_delay', 'first_dep_time', 'total_add_gtime',\n",
       "       'longest_add_gtime', 'no_name'],\n",
       "      dtype='object')"
      ]
     },
     "execution_count": 4,
     "metadata": {},
     "output_type": "execute_result"
    }
   ],
   "source": [
    "sample.columns "
   ]
  },
  {
   "cell_type": "code",
   "execution_count": 5,
   "id": "95fe3378-aafc-49dd-8a07-2e39f641dbca",
   "metadata": {},
   "outputs": [],
   "source": [
    "#use this for final weather merge\n",
    "sample = sample[[\"fl_date\",\"origin_city_name\",\"dep_delay\"]]"
   ]
  },
  {
   "cell_type": "code",
   "execution_count": 6,
   "id": "52352a06-350d-4e4d-8b7c-f5fb1b1c7abf",
   "metadata": {},
   "outputs": [],
   "source": [
    "sample['dep_delay'] = sample[\"dep_delay\"].fillna(0)"
   ]
  },
  {
   "cell_type": "code",
   "execution_count": 7,
   "id": "3880ec49-44b2-4457-805f-71d7a6d10e67",
   "metadata": {},
   "outputs": [
    {
     "data": {
      "text/plain": [
       "106443"
      ]
     },
     "execution_count": 7,
     "metadata": {},
     "output_type": "execute_result"
    }
   ],
   "source": [
    "len(sample)"
   ]
  },
  {
   "cell_type": "code",
   "execution_count": 8,
   "id": "58d84a09-eb71-4dd0-83f8-bd7f0ae89dae",
   "metadata": {
    "tags": []
   },
   "outputs": [],
   "source": [
    "#use this to merge lat lon data \n",
    "\n",
    "sample2 = sample.origin_city_name.unique()\n",
    "\n"
   ]
  },
  {
   "cell_type": "code",
   "execution_count": 9,
   "id": "9c0c13ea-a50a-482d-bfec-dfd4dd286abc",
   "metadata": {},
   "outputs": [],
   "source": [
    "city_name= pd.DataFrame(sample2)"
   ]
  },
  {
   "cell_type": "code",
   "execution_count": 10,
   "id": "1d8b5bca-a04b-4dce-812c-d30c45fd601e",
   "metadata": {},
   "outputs": [
    {
     "data": {
      "text/html": [
       "<div>\n",
       "<style scoped>\n",
       "    .dataframe tbody tr th:only-of-type {\n",
       "        vertical-align: middle;\n",
       "    }\n",
       "\n",
       "    .dataframe tbody tr th {\n",
       "        vertical-align: top;\n",
       "    }\n",
       "\n",
       "    .dataframe thead th {\n",
       "        text-align: right;\n",
       "    }\n",
       "</style>\n",
       "<table border=\"1\" class=\"dataframe\">\n",
       "  <thead>\n",
       "    <tr style=\"text-align: right;\">\n",
       "      <th></th>\n",
       "      <th>0</th>\n",
       "    </tr>\n",
       "  </thead>\n",
       "  <tbody>\n",
       "    <tr>\n",
       "      <th>0</th>\n",
       "      <td>Boston, MA</td>\n",
       "    </tr>\n",
       "    <tr>\n",
       "      <th>1</th>\n",
       "      <td>Ponce, PR</td>\n",
       "    </tr>\n",
       "    <tr>\n",
       "      <th>2</th>\n",
       "      <td>Fort Lauderdale, FL</td>\n",
       "    </tr>\n",
       "    <tr>\n",
       "      <th>3</th>\n",
       "      <td>San Juan, PR</td>\n",
       "    </tr>\n",
       "    <tr>\n",
       "      <th>4</th>\n",
       "      <td>Seattle, WA</td>\n",
       "    </tr>\n",
       "  </tbody>\n",
       "</table>\n",
       "</div>"
      ],
      "text/plain": [
       "                     0\n",
       "0           Boston, MA\n",
       "1            Ponce, PR\n",
       "2  Fort Lauderdale, FL\n",
       "3         San Juan, PR\n",
       "4          Seattle, WA"
      ]
     },
     "execution_count": 10,
     "metadata": {},
     "output_type": "execute_result"
    }
   ],
   "source": [
    "city_name.head()"
   ]
  },
  {
   "cell_type": "code",
   "execution_count": 11,
   "id": "55f1612c-b585-4a0e-bc59-8a43859e7581",
   "metadata": {},
   "outputs": [],
   "source": [
    "city_name[['city','state']] = city_name[0].str.split(',',expand=True)"
   ]
  },
  {
   "cell_type": "code",
   "execution_count": 12,
   "id": "a347a35f-8bb5-4ddc-a664-c88705bc5103",
   "metadata": {},
   "outputs": [],
   "source": [
    "city_name.drop(columns=[0], inplace=True)"
   ]
  },
  {
   "cell_type": "code",
   "execution_count": 13,
   "id": "d5465fec-c7d8-42a5-96ca-c9dd9c4792b3",
   "metadata": {
    "tags": []
   },
   "outputs": [
    {
     "data": {
      "text/html": [
       "<div>\n",
       "<style scoped>\n",
       "    .dataframe tbody tr th:only-of-type {\n",
       "        vertical-align: middle;\n",
       "    }\n",
       "\n",
       "    .dataframe tbody tr th {\n",
       "        vertical-align: top;\n",
       "    }\n",
       "\n",
       "    .dataframe thead th {\n",
       "        text-align: right;\n",
       "    }\n",
       "</style>\n",
       "<table border=\"1\" class=\"dataframe\">\n",
       "  <thead>\n",
       "    <tr style=\"text-align: right;\">\n",
       "      <th></th>\n",
       "      <th>city</th>\n",
       "      <th>state</th>\n",
       "    </tr>\n",
       "  </thead>\n",
       "  <tbody>\n",
       "    <tr>\n",
       "      <th>0</th>\n",
       "      <td>Boston</td>\n",
       "      <td>MA</td>\n",
       "    </tr>\n",
       "    <tr>\n",
       "      <th>1</th>\n",
       "      <td>Ponce</td>\n",
       "      <td>PR</td>\n",
       "    </tr>\n",
       "    <tr>\n",
       "      <th>2</th>\n",
       "      <td>Fort Lauderdale</td>\n",
       "      <td>FL</td>\n",
       "    </tr>\n",
       "    <tr>\n",
       "      <th>3</th>\n",
       "      <td>San Juan</td>\n",
       "      <td>PR</td>\n",
       "    </tr>\n",
       "    <tr>\n",
       "      <th>4</th>\n",
       "      <td>Seattle</td>\n",
       "      <td>WA</td>\n",
       "    </tr>\n",
       "    <tr>\n",
       "      <th>...</th>\n",
       "      <td>...</td>\n",
       "      <td>...</td>\n",
       "    </tr>\n",
       "    <tr>\n",
       "      <th>357</th>\n",
       "      <td>Alpena</td>\n",
       "      <td>MI</td>\n",
       "    </tr>\n",
       "    <tr>\n",
       "      <th>358</th>\n",
       "      <td>Petersburg</td>\n",
       "      <td>AK</td>\n",
       "    </tr>\n",
       "    <tr>\n",
       "      <th>359</th>\n",
       "      <td>St. Cloud</td>\n",
       "      <td>MN</td>\n",
       "    </tr>\n",
       "    <tr>\n",
       "      <th>360</th>\n",
       "      <td>Rota</td>\n",
       "      <td>TT</td>\n",
       "    </tr>\n",
       "    <tr>\n",
       "      <th>361</th>\n",
       "      <td>Branson</td>\n",
       "      <td>MO</td>\n",
       "    </tr>\n",
       "  </tbody>\n",
       "</table>\n",
       "<p>362 rows × 2 columns</p>\n",
       "</div>"
      ],
      "text/plain": [
       "                city state\n",
       "0             Boston    MA\n",
       "1              Ponce    PR\n",
       "2    Fort Lauderdale    FL\n",
       "3           San Juan    PR\n",
       "4            Seattle    WA\n",
       "..               ...   ...\n",
       "357           Alpena    MI\n",
       "358       Petersburg    AK\n",
       "359        St. Cloud    MN\n",
       "360             Rota    TT\n",
       "361          Branson    MO\n",
       "\n",
       "[362 rows x 2 columns]"
      ]
     },
     "execution_count": 13,
     "metadata": {},
     "output_type": "execute_result"
    }
   ],
   "source": [
    "city_name"
   ]
  },
  {
   "cell_type": "code",
   "execution_count": 154,
   "id": "4737179a-3bab-4976-891b-bf04c1c41390",
   "metadata": {},
   "outputs": [],
   "source": [
    "city_db = pd.read_csv('uscities.csv')"
   ]
  },
  {
   "cell_type": "code",
   "execution_count": 204,
   "id": "2a3b16ef-7636-4bb5-9305-e505a89f1679",
   "metadata": {},
   "outputs": [
    {
     "data": {
      "text/plain": [
       "Index(['city', 'city_ascii', 'state_id', 'state_name', 'county_fips',\n",
       "       'county_name', 'lat', 'lng', 'population', 'density', 'source',\n",
       "       'military', 'incorporated', 'timezone', 'ranking', 'zips', 'id'],\n",
       "      dtype='object')"
      ]
     },
     "execution_count": 204,
     "metadata": {},
     "output_type": "execute_result"
    }
   ],
   "source": [
    "city_db.columns"
   ]
  },
  {
   "cell_type": "code",
   "execution_count": 220,
   "id": "b53fa735-9f96-4ead-9c91-79b3471f5a25",
   "metadata": {},
   "outputs": [],
   "source": [
    "city_LL = city_db[[\"city\",\"state_id\",\"lat\",\"lng\"]].copy()"
   ]
  },
  {
   "cell_type": "code",
   "execution_count": 221,
   "id": "fca1770e-bcc6-4e9e-9e55-52152983ee7a",
   "metadata": {},
   "outputs": [],
   "source": [
    "cols = ['city','state_id']\n",
    "\n",
    "city_LL['combined'] = city_LL[cols].apply(lambda row: ', '.join(row.values.astype(str)), axis=1)\n"
   ]
  },
  {
   "cell_type": "code",
   "execution_count": 222,
   "id": "ca625e52-ae73-41f3-98bc-81aca50e6b76",
   "metadata": {},
   "outputs": [
    {
     "data": {
      "text/html": [
       "<div>\n",
       "<style scoped>\n",
       "    .dataframe tbody tr th:only-of-type {\n",
       "        vertical-align: middle;\n",
       "    }\n",
       "\n",
       "    .dataframe tbody tr th {\n",
       "        vertical-align: top;\n",
       "    }\n",
       "\n",
       "    .dataframe thead th {\n",
       "        text-align: right;\n",
       "    }\n",
       "</style>\n",
       "<table border=\"1\" class=\"dataframe\">\n",
       "  <thead>\n",
       "    <tr style=\"text-align: right;\">\n",
       "      <th></th>\n",
       "      <th>city</th>\n",
       "      <th>state_id</th>\n",
       "      <th>lat</th>\n",
       "      <th>lng</th>\n",
       "      <th>combined</th>\n",
       "    </tr>\n",
       "  </thead>\n",
       "  <tbody>\n",
       "    <tr>\n",
       "      <th>0</th>\n",
       "      <td>New York</td>\n",
       "      <td>NY</td>\n",
       "      <td>40.6943</td>\n",
       "      <td>-73.9249</td>\n",
       "      <td>New York, NY</td>\n",
       "    </tr>\n",
       "    <tr>\n",
       "      <th>1</th>\n",
       "      <td>Los Angeles</td>\n",
       "      <td>CA</td>\n",
       "      <td>34.1139</td>\n",
       "      <td>-118.4068</td>\n",
       "      <td>Los Angeles, CA</td>\n",
       "    </tr>\n",
       "    <tr>\n",
       "      <th>2</th>\n",
       "      <td>Chicago</td>\n",
       "      <td>IL</td>\n",
       "      <td>41.8373</td>\n",
       "      <td>-87.6862</td>\n",
       "      <td>Chicago, IL</td>\n",
       "    </tr>\n",
       "    <tr>\n",
       "      <th>3</th>\n",
       "      <td>Miami</td>\n",
       "      <td>FL</td>\n",
       "      <td>25.7839</td>\n",
       "      <td>-80.2102</td>\n",
       "      <td>Miami, FL</td>\n",
       "    </tr>\n",
       "    <tr>\n",
       "      <th>4</th>\n",
       "      <td>Dallas</td>\n",
       "      <td>TX</td>\n",
       "      <td>32.7936</td>\n",
       "      <td>-96.7662</td>\n",
       "      <td>Dallas, TX</td>\n",
       "    </tr>\n",
       "    <tr>\n",
       "      <th>...</th>\n",
       "      <td>...</td>\n",
       "      <td>...</td>\n",
       "      <td>...</td>\n",
       "      <td>...</td>\n",
       "      <td>...</td>\n",
       "    </tr>\n",
       "    <tr>\n",
       "      <th>28333</th>\n",
       "      <td>Gross</td>\n",
       "      <td>NE</td>\n",
       "      <td>42.9461</td>\n",
       "      <td>-98.5697</td>\n",
       "      <td>Gross, NE</td>\n",
       "    </tr>\n",
       "    <tr>\n",
       "      <th>28334</th>\n",
       "      <td>Lotsee</td>\n",
       "      <td>OK</td>\n",
       "      <td>36.1334</td>\n",
       "      <td>-96.2091</td>\n",
       "      <td>Lotsee, OK</td>\n",
       "    </tr>\n",
       "    <tr>\n",
       "      <th>28335</th>\n",
       "      <td>The Ranch</td>\n",
       "      <td>MN</td>\n",
       "      <td>47.3198</td>\n",
       "      <td>-95.6952</td>\n",
       "      <td>The Ranch, MN</td>\n",
       "    </tr>\n",
       "    <tr>\n",
       "      <th>28336</th>\n",
       "      <td>Shamrock</td>\n",
       "      <td>OK</td>\n",
       "      <td>35.9113</td>\n",
       "      <td>-96.5772</td>\n",
       "      <td>Shamrock, OK</td>\n",
       "    </tr>\n",
       "    <tr>\n",
       "      <th>28337</th>\n",
       "      <td>Monowi</td>\n",
       "      <td>NE</td>\n",
       "      <td>42.8307</td>\n",
       "      <td>-98.3296</td>\n",
       "      <td>Monowi, NE</td>\n",
       "    </tr>\n",
       "  </tbody>\n",
       "</table>\n",
       "<p>28338 rows × 5 columns</p>\n",
       "</div>"
      ],
      "text/plain": [
       "              city state_id      lat       lng         combined\n",
       "0         New York       NY  40.6943  -73.9249     New York, NY\n",
       "1      Los Angeles       CA  34.1139 -118.4068  Los Angeles, CA\n",
       "2          Chicago       IL  41.8373  -87.6862      Chicago, IL\n",
       "3            Miami       FL  25.7839  -80.2102        Miami, FL\n",
       "4           Dallas       TX  32.7936  -96.7662       Dallas, TX\n",
       "...            ...      ...      ...       ...              ...\n",
       "28333        Gross       NE  42.9461  -98.5697        Gross, NE\n",
       "28334       Lotsee       OK  36.1334  -96.2091       Lotsee, OK\n",
       "28335    The Ranch       MN  47.3198  -95.6952    The Ranch, MN\n",
       "28336     Shamrock       OK  35.9113  -96.5772     Shamrock, OK\n",
       "28337       Monowi       NE  42.8307  -98.3296       Monowi, NE\n",
       "\n",
       "[28338 rows x 5 columns]"
      ]
     },
     "execution_count": 222,
     "metadata": {},
     "output_type": "execute_result"
    }
   ],
   "source": [
    "city_LL"
   ]
  },
  {
   "cell_type": "code",
   "execution_count": 230,
   "id": "b9f03063-25df-4af4-8147-dd7b5631bcd2",
   "metadata": {},
   "outputs": [],
   "source": [
    "city_name = city_name.merge(city_LL, how='left', left_on=[0],right_on=['combined'])"
   ]
  },
  {
   "cell_type": "code",
   "execution_count": 236,
   "id": "8e372911-24f5-4dc1-9bb6-76f195a2b45c",
   "metadata": {},
   "outputs": [],
   "source": [
    "city_name.drop(columns=[\"city\",\"state_id\",\"combined\"],inplace=True)"
   ]
  },
  {
   "cell_type": "code",
   "execution_count": 238,
   "id": "8ed6f72a-1cb8-4c0d-af61-15b86ff1e0b7",
   "metadata": {},
   "outputs": [],
   "source": [
    "city_name.to_csv('city_name.csv', columns=[0,'lat','lng'], header=False, index=False)\n",
    "    "
   ]
  },
  {
   "cell_type": "code",
   "execution_count": 246,
   "id": "13dacab5-f570-4439-b851-f6a9246e4529",
   "metadata": {},
   "outputs": [],
   "source": [
    "weather = pd.read_csv(\"weather_data.csv\")\n"
   ]
  },
  {
   "cell_type": "code",
   "execution_count": 260,
   "id": "fab560f6-5a47-42b5-8ed6-aae57e92e042",
   "metadata": {},
   "outputs": [
    {
     "data": {
      "text/plain": [
       "(208874, 3)"
      ]
     },
     "execution_count": 260,
     "metadata": {},
     "output_type": "execute_result"
    }
   ],
   "source": [
    "weather.shape"
   ]
  },
  {
   "cell_type": "code",
   "execution_count": 250,
   "id": "3cc90419-23bd-4ab7-88d7-a5b50b19fb63",
   "metadata": {},
   "outputs": [],
   "source": [
    "sample_weather = sample.merge(weather, how='left', left_on=[\"fl_date\", 'origin_city_name'], right_on=['datetime','name'])"
   ]
  },
  {
   "cell_type": "code",
   "execution_count": 261,
   "id": "a9fbc0f0-8a3d-4a12-b992-012ce117a0bb",
   "metadata": {},
   "outputs": [
    {
     "data": {
      "text/plain": [
       "fl_date                 0\n",
       "origin_city_name        0\n",
       "dep_delay               0\n",
       "name                22740\n",
       "datetime            22740\n",
       "conditions          22740\n",
       "dtype: int64"
      ]
     },
     "execution_count": 261,
     "metadata": {},
     "output_type": "execute_result"
    }
   ],
   "source": [
    "sample_weather.isnull().sum()"
   ]
  },
  {
   "cell_type": "code",
   "execution_count": 262,
   "id": "07510cc3-1051-4f82-a494-4902e5d82907",
   "metadata": {},
   "outputs": [
    {
     "data": {
      "text/plain": [
       "array(['Clear', 'Snow', 'Partially cloudy', 'Snow, Partially cloudy',\n",
       "       'Snow, Overcast', 'Rain, Overcast', 'Rain, Partially cloudy',\n",
       "       'Rain', 'Overcast', nan, 'Rain, Fog'], dtype=object)"
      ]
     },
     "execution_count": 262,
     "metadata": {},
     "output_type": "execute_result"
    }
   ],
   "source": [
    "weather.conditions.unique()"
   ]
  },
  {
   "cell_type": "code",
   "execution_count": 266,
   "id": "37fa3983-a320-4aba-bb23-440c44984b35",
   "metadata": {},
   "outputs": [],
   "source": [
    "weather = weather.replace({'Partially cloudy': 'Cloudy',\n",
    "                           'Overcast': 'Cloudy',\n",
    "                           'Snow, Overcast': 'Snow',\n",
    "                           'Rain, Overcast': 'Rain',\n",
    "                          'Snow, Partially cloudy': 'Snow',\n",
    "                          'Rain, Partially cloudy': 'Rain',\n",
    "                          'Rain, Fog': 'Rain'})\n",
    "\n",
    "\n"
   ]
  },
  {
   "cell_type": "code",
   "execution_count": null,
   "id": "39822dbf-db36-498e-a5a2-b36bb3134fad",
   "metadata": {},
   "outputs": [],
   "source": [
    "weather.to_csv('weather_final.csv')"
   ]
  },
  {
   "cell_type": "code",
   "execution_count": 16,
   "id": "38a64da6-be1e-47ee-ab72-5767f886a7d2",
   "metadata": {},
   "outputs": [],
   "source": [
    "weather2019 = pd.read_csv(\"G_PSQL_data/weather2019.csv\")"
   ]
  },
  {
   "cell_type": "code",
   "execution_count": 22,
   "id": "33ca5161-91d1-4142-b83a-bd9e8a1187f7",
   "metadata": {},
   "outputs": [],
   "source": [
    "weather2019 = weather2019.replace({'Partially cloudy': 'Cloudy',\n",
    "                           'Overcast': 'Cloudy',\n",
    "                           'Snow, Overcast': 'Snow',\n",
    "                           'Rain, Overcast': 'Rain',\n",
    "                          'Snow, Partially cloudy': 'Snow',\n",
    "                          'Rain, Partially cloudy': 'Rain',\n",
    "                          'Rain, Fog': 'Rain'})"
   ]
  },
  {
   "cell_type": "code",
   "execution_count": 21,
   "id": "726d72df-5be2-48fe-9075-effe371b1bfe",
   "metadata": {},
   "outputs": [
    {
     "data": {
      "text/html": [
       "<div>\n",
       "<style scoped>\n",
       "    .dataframe tbody tr th:only-of-type {\n",
       "        vertical-align: middle;\n",
       "    }\n",
       "\n",
       "    .dataframe tbody tr th {\n",
       "        vertical-align: top;\n",
       "    }\n",
       "\n",
       "    .dataframe thead th {\n",
       "        text-align: right;\n",
       "    }\n",
       "</style>\n",
       "<table border=\"1\" class=\"dataframe\">\n",
       "  <thead>\n",
       "    <tr style=\"text-align: right;\">\n",
       "      <th></th>\n",
       "      <th>name</th>\n",
       "      <th>datetime</th>\n",
       "      <th>conditions</th>\n",
       "    </tr>\n",
       "  </thead>\n",
       "  <tbody>\n",
       "    <tr>\n",
       "      <th>0</th>\n",
       "      <td>Waterloo, IA</td>\n",
       "      <td>2019-12-14</td>\n",
       "      <td>Partially cloudy</td>\n",
       "    </tr>\n",
       "    <tr>\n",
       "      <th>1</th>\n",
       "      <td>Waterloo, IA</td>\n",
       "      <td>2019-12-15</td>\n",
       "      <td>Partially cloudy</td>\n",
       "    </tr>\n",
       "    <tr>\n",
       "      <th>2</th>\n",
       "      <td>Waterloo, IA</td>\n",
       "      <td>2019-12-16</td>\n",
       "      <td>Snow, Partially cloudy</td>\n",
       "    </tr>\n",
       "    <tr>\n",
       "      <th>3</th>\n",
       "      <td>Waterloo, IA</td>\n",
       "      <td>2019-12-17</td>\n",
       "      <td>Partially cloudy</td>\n",
       "    </tr>\n",
       "    <tr>\n",
       "      <th>4</th>\n",
       "      <td>Waterloo, IA</td>\n",
       "      <td>2019-12-18</td>\n",
       "      <td>Clear</td>\n",
       "    </tr>\n",
       "    <tr>\n",
       "      <th>...</th>\n",
       "      <td>...</td>\n",
       "      <td>...</td>\n",
       "      <td>...</td>\n",
       "    </tr>\n",
       "    <tr>\n",
       "      <th>6511</th>\n",
       "      <td>Rochester, NY</td>\n",
       "      <td>2019-12-27</td>\n",
       "      <td>Rain, Partially cloudy</td>\n",
       "    </tr>\n",
       "    <tr>\n",
       "      <th>6512</th>\n",
       "      <td>Rochester, NY</td>\n",
       "      <td>2019-12-28</td>\n",
       "      <td>Partially cloudy</td>\n",
       "    </tr>\n",
       "    <tr>\n",
       "      <th>6513</th>\n",
       "      <td>Rochester, NY</td>\n",
       "      <td>2019-12-29</td>\n",
       "      <td>Rain, Partially cloudy</td>\n",
       "    </tr>\n",
       "    <tr>\n",
       "      <th>6514</th>\n",
       "      <td>Rochester, NY</td>\n",
       "      <td>2019-12-30</td>\n",
       "      <td>Rain, Partially cloudy</td>\n",
       "    </tr>\n",
       "    <tr>\n",
       "      <th>6515</th>\n",
       "      <td>Rochester, NY</td>\n",
       "      <td>2019-12-31</td>\n",
       "      <td>Snow, Partially cloudy</td>\n",
       "    </tr>\n",
       "  </tbody>\n",
       "</table>\n",
       "<p>6516 rows × 3 columns</p>\n",
       "</div>"
      ],
      "text/plain": [
       "               name    datetime              conditions\n",
       "0      Waterloo, IA  2019-12-14        Partially cloudy\n",
       "1      Waterloo, IA  2019-12-15        Partially cloudy\n",
       "2      Waterloo, IA  2019-12-16  Snow, Partially cloudy\n",
       "3      Waterloo, IA  2019-12-17        Partially cloudy\n",
       "4      Waterloo, IA  2019-12-18                   Clear\n",
       "...             ...         ...                     ...\n",
       "6511  Rochester, NY  2019-12-27  Rain, Partially cloudy\n",
       "6512  Rochester, NY  2019-12-28        Partially cloudy\n",
       "6513  Rochester, NY  2019-12-29  Rain, Partially cloudy\n",
       "6514  Rochester, NY  2019-12-30  Rain, Partially cloudy\n",
       "6515  Rochester, NY  2019-12-31  Snow, Partially cloudy\n",
       "\n",
       "[6516 rows x 3 columns]"
      ]
     },
     "execution_count": 21,
     "metadata": {},
     "output_type": "execute_result"
    }
   ],
   "source": [
    "weather2019"
   ]
  },
  {
   "cell_type": "code",
   "execution_count": null,
   "id": "8fda2484-4951-4023-bf84-aa9f8f21e5c2",
   "metadata": {},
   "outputs": [],
   "source": [
    "weather = weather.replace({'Partially cloudy': 'Cloudy',\n",
    "                           'Overcast': 'Cloudy',\n",
    "                           'Snow, Overcast': 'Snow',\n",
    "                           'Rain, Overcast': 'Rain',\n",
    "                          'Snow, Partially cloudy': 'Snow',\n",
    "                          'Rain, Partially cloudy': 'Rain',\n",
    "                          'Rain, Fog': 'Rain'})"
   ]
  },
  {
   "cell_type": "code",
   "execution_count": 24,
   "id": "22045a95-ee0b-4d75-a05d-d6158af00601",
   "metadata": {},
   "outputs": [],
   "source": [
    "#list of weather to replace\n",
    "db2_weather = ['Clear','Cloudy','Rain','Snow']\n",
    "db1_weather = [0,1,2,3]\n",
    "\n",
    "#run it thru \n",
    "weather2019[\"conditions\"] = weather2019[\"conditions\"].replace(to_replace=db2_weather,value=db1_weather)"
   ]
  },
  {
   "cell_type": "code",
   "execution_count": 26,
   "id": "98a02371-1e38-49e4-bf9a-68fb4a22e446",
   "metadata": {},
   "outputs": [],
   "source": [
    "weather2019.to_csv(\"weather_dec2019.csv\",index=False)"
   ]
  },
  {
   "cell_type": "code",
   "execution_count": null,
   "id": "639a959c-3f4b-4759-b485-3dd4155ba747",
   "metadata": {},
   "outputs": [],
   "source": []
  }
 ],
 "metadata": {
  "kernelspec": {
   "display_name": "lighthouse_labs",
   "language": "python",
   "name": "lighthouse_labs"
  },
  "language_info": {
   "codemirror_mode": {
    "name": "ipython",
    "version": 3
   },
   "file_extension": ".py",
   "mimetype": "text/x-python",
   "name": "python",
   "nbconvert_exporter": "python",
   "pygments_lexer": "ipython3",
   "version": "3.8.2"
  }
 },
 "nbformat": 4,
 "nbformat_minor": 5
}
