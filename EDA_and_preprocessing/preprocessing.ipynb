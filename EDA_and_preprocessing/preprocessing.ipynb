{
 "cells": [
  {
   "cell_type": "code",
   "execution_count": 163,
   "id": "9adbd20e-431e-43e1-ba39-bce0f82c3db1",
   "metadata": {},
   "outputs": [],
   "source": [
    "import pandas as pd\n",
    "import numpy as np\n",
    "import scipy.stats as st\n",
    "from datetime import datetime\n",
    "import seaborn as sn"
   ]
  },
  {
   "cell_type": "code",
   "execution_count": 47,
   "id": "89615922-ec0f-4f8d-b788-a965113a880d",
   "metadata": {},
   "outputs": [
    {
     "name": "stderr",
     "output_type": "stream",
     "text": [
      "C:\\Users\\broug\\AppData\\Local\\Temp\\ipykernel_336\\920161533.py:1: DtypeWarning: Columns (25) have mixed types. Specify dtype option on import or set low_memory=False.\n",
      "  sample = pd.read_csv('G_PSQL_data/JAN_sample_raw.txt')\n"
     ]
    },
    {
     "data": {
      "text/plain": [
       "Index(['fl_date', 'mkt_unique_carrier', 'branded_code_share', 'mkt_carrier',\n",
       "       'mkt_carrier_fl_num', 'op_unique_carrier', 'tail_num',\n",
       "       'op_carrier_fl_num', 'origin_airport_id', 'origin', 'origin_city_name',\n",
       "       'dest_airport_id', 'dest', 'dest_city_name', 'crs_dep_time', 'dep_time',\n",
       "       'dep_delay', 'taxi_out', 'wheels_off', 'wheels_on', 'taxi_in',\n",
       "       'crs_arr_time', 'arr_time', 'arr_delay', 'cancelled',\n",
       "       'cancellation_code', 'diverted', 'dup', 'crs_elapsed_time',\n",
       "       'actual_elapsed_time', 'air_time', 'flights', 'distance',\n",
       "       'carrier_delay', 'weather_delay', 'nas_delay', 'security_delay',\n",
       "       'late_aircraft_delay', 'first_dep_time', 'total_add_gtime',\n",
       "       'longest_add_gtime', 'no_name'],\n",
       "      dtype='object')"
      ]
     },
     "execution_count": 47,
     "metadata": {},
     "output_type": "execute_result"
    }
   ],
   "source": [
    "sample = pd.read_csv('G_PSQL_data/JAN_sample_raw.txt')\n",
    "sample.columns"
   ]
  },
  {
   "cell_type": "code",
   "execution_count": 12,
   "id": "21597783-ae32-4dfa-8292-635570e0015b",
   "metadata": {},
   "outputs": [],
   "source": [
    "sample.drop(columns=['carrier_delay', 'weather_delay', 'nas_delay', 'security_delay', 'late_aircraft_delay', 'first_dep_time', 'no_name', 'longest_add_gtime', 'total_add_gtime', 'canellation_code', 'dup', 'diverted', 'cancelled'], inplace=True)"
   ]
  },
  {
   "cell_type": "code",
   "execution_count": 26,
   "id": "2af62996-c3b7-4928-9a34-36231190c0a5",
   "metadata": {},
   "outputs": [],
   "source": [
    "sample['dep_time'] = pd.to_datetime(sample['dep_time'], format='%H%M', errors='coerce')\n",
    "sample['arr_time'] = pd.to_datetime(sample['arr_time'], format='%H%M', errors='coerce')"
   ]
  },
  {
   "cell_type": "code",
   "execution_count": 18,
   "id": "feb966d1-c882-4fa4-a27b-14433b025d28",
   "metadata": {
    "collapsed": true,
    "jupyter": {
     "outputs_hidden": true
    },
    "tags": []
   },
   "outputs": [
    {
     "data": {
      "text/plain": [
       "arr_time               2.006382\n",
       "arr_delay              1.787115\n",
       "air_time               1.770180\n",
       "actual_elapsed_time    1.770180\n",
       "dep_time               1.605284\n",
       "taxi_in                1.602610\n",
       "wheels_on              1.600827\n",
       "dep_delay              1.578544\n",
       "taxi_out               1.559826\n",
       "wheels_off             1.558043\n",
       "tail_num               0.368119\n",
       "crs_elapsed_time       0.000891\n",
       "cancelled              0.000000\n",
       "dup                    0.000000\n",
       "crs_arr_time           0.000000\n",
       "flights                0.000000\n",
       "diverted               0.000000\n",
       "fl_date                0.000000\n",
       "mkt_unique_carrier     0.000000\n",
       "crs_dep_time           0.000000\n",
       "dest_city_name         0.000000\n",
       "dest                   0.000000\n",
       "dest_airport_id        0.000000\n",
       "origin_city_name       0.000000\n",
       "origin                 0.000000\n",
       "origin_airport_id      0.000000\n",
       "op_carrier_fl_num      0.000000\n",
       "op_unique_carrier      0.000000\n",
       "mkt_carrier_fl_num     0.000000\n",
       "mkt_carrier            0.000000\n",
       "branded_code_share     0.000000\n",
       "distance               0.000000\n",
       "dtype: float64"
      ]
     },
     "execution_count": 18,
     "metadata": {},
     "output_type": "execute_result"
    }
   ],
   "source": [
    "nulls = sample.isnull().sum()\n",
    "(nulls / len(sample) * 100).sort_values(ascending=False)"
   ]
  },
  {
   "cell_type": "code",
   "execution_count": 22,
   "id": "118dbc23-6ebb-4221-99be-d5743ef9fef5",
   "metadata": {},
   "outputs": [],
   "source": [
    "from functions import rename_brand_code, remove_outliers\n",
    "sample = rename_brand_code(sample)"
   ]
  },
  {
   "cell_type": "code",
   "execution_count": 24,
   "id": "4048daa2-c8c6-46f2-ab5b-8c56a204f06d",
   "metadata": {},
   "outputs": [],
   "source": [
    "sample = remove_outliers(sample)"
   ]
  },
  {
   "cell_type": "code",
   "execution_count": 3,
   "id": "ae298696-35fe-42bd-8451-b7c3804a025c",
   "metadata": {},
   "outputs": [],
   "source": [
    "sample.drop(columns='Unnamed: 0', inplace=True)"
   ]
  },
  {
   "cell_type": "code",
   "execution_count": 178,
   "id": "124158bb-8464-4976-aac2-5e01020ad7f6",
   "metadata": {
    "collapsed": true,
    "jupyter": {
     "outputs_hidden": true
    },
    "tags": []
   },
   "outputs": [
    {
     "ename": "TypeError",
     "evalue": "an integer is required (got type str)",
     "output_type": "error",
     "traceback": [
      "\u001b[1;31m---------------------------------------------------------------------------\u001b[0m",
      "\u001b[1;31mTypeError\u001b[0m                                 Traceback (most recent call last)",
      "Input \u001b[1;32mIn [178]\u001b[0m, in \u001b[0;36m<cell line: 3>\u001b[1;34m()\u001b[0m\n\u001b[0;32m      1\u001b[0m \u001b[38;5;66;03m# distance is split into quantiles which correspond to 31-416, 417-867, 868, 4963\u001b[39;00m\n\u001b[0;32m      2\u001b[0m \u001b[38;5;28;01mfrom\u001b[39;00m \u001b[38;5;21;01mfunctions\u001b[39;00m \u001b[38;5;28;01mimport\u001b[39;00m process_distance\n\u001b[1;32m----> 3\u001b[0m df \u001b[38;5;241m=\u001b[39m \u001b[43mprocess_distance\u001b[49m\u001b[43m(\u001b[49m\u001b[43mdf\u001b[49m\u001b[43m)\u001b[49m\n",
      "File \u001b[1;32m~\\Desktop\\lighthouse-data-notes\\lighthouse-data-notes\\week-5\\day-5\\flight_delays\\EDA_and_preprocessing\\functions.py:10\u001b[0m, in \u001b[0;36mprocess_distance\u001b[1;34m(df)\u001b[0m\n\u001b[0;32m      5\u001b[0m \u001b[38;5;124;03m\"\"\"\u001b[39;00m\n\u001b[0;32m      6\u001b[0m \u001b[38;5;124;03mgroups distance into 3 even cats based on distance: long medium and short\u001b[39;00m\n\u001b[0;32m      7\u001b[0m \u001b[38;5;124;03malso creates new columns, hour of the day, for arrival and departure\u001b[39;00m\n\u001b[0;32m      8\u001b[0m \u001b[38;5;124;03m\"\"\"\u001b[39;00m\n\u001b[0;32m      9\u001b[0m \u001b[38;5;28;01mimport\u001b[39;00m \u001b[38;5;21;01mpandas\u001b[39;00m \u001b[38;5;28;01mas\u001b[39;00m \u001b[38;5;21;01mpd\u001b[39;00m\n\u001b[1;32m---> 10\u001b[0m df[\u001b[38;5;124m'\u001b[39m\u001b[38;5;124mdep_time\u001b[39m\u001b[38;5;124m'\u001b[39m] \u001b[38;5;241m=\u001b[39m \u001b[43mdf\u001b[49m\u001b[43m[\u001b[49m\u001b[38;5;124;43m'\u001b[39;49m\u001b[38;5;124;43mdep_time\u001b[39;49m\u001b[38;5;124;43m'\u001b[39;49m\u001b[43m]\u001b[49m\u001b[38;5;241;43m.\u001b[39;49m\u001b[43mround\u001b[49m\u001b[43m(\u001b[49m\u001b[38;5;124;43m'\u001b[39;49m\u001b[38;5;124;43m60min\u001b[39;49m\u001b[38;5;124;43m'\u001b[39;49m\u001b[43m)\u001b[49m\n\u001b[0;32m     11\u001b[0m df[\u001b[38;5;124m'\u001b[39m\u001b[38;5;124mdist_cats\u001b[39m\u001b[38;5;124m'\u001b[39m] \u001b[38;5;241m=\u001b[39m pd\u001b[38;5;241m.\u001b[39mqcut(df[\u001b[38;5;124m'\u001b[39m\u001b[38;5;124mdistance\u001b[39m\u001b[38;5;124m'\u001b[39m], \u001b[38;5;241m3\u001b[39m, labels\u001b[38;5;241m=\u001b[39m[\u001b[38;5;124m'\u001b[39m\u001b[38;5;124mshort\u001b[39m\u001b[38;5;124m'\u001b[39m, \u001b[38;5;124m'\u001b[39m\u001b[38;5;124mmedium\u001b[39m\u001b[38;5;124m'\u001b[39m, \u001b[38;5;124m'\u001b[39m\u001b[38;5;124mlong\u001b[39m\u001b[38;5;124m'\u001b[39m])\n\u001b[0;32m     12\u001b[0m df[\u001b[38;5;124m'\u001b[39m\u001b[38;5;124mdep_hour\u001b[39m\u001b[38;5;124m'\u001b[39m] \u001b[38;5;241m=\u001b[39m df[\u001b[38;5;124m'\u001b[39m\u001b[38;5;124mdep_time\u001b[39m\u001b[38;5;124m'\u001b[39m]\u001b[38;5;241m.\u001b[39mdt\u001b[38;5;241m.\u001b[39mhour\n",
      "File \u001b[1;32m~\\anaconda3\\lib\\site-packages\\pandas\\core\\series.py:2442\u001b[0m, in \u001b[0;36mSeries.round\u001b[1;34m(self, decimals, *args, **kwargs)\u001b[0m\n\u001b[0;32m   2410\u001b[0m \u001b[38;5;124;03m\"\"\"\u001b[39;00m\n\u001b[0;32m   2411\u001b[0m \u001b[38;5;124;03mRound each value in a Series to the given number of decimals.\u001b[39;00m\n\u001b[0;32m   2412\u001b[0m \n\u001b[1;32m   (...)\u001b[0m\n\u001b[0;32m   2439\u001b[0m \u001b[38;5;124;03mdtype: float64\u001b[39;00m\n\u001b[0;32m   2440\u001b[0m \u001b[38;5;124;03m\"\"\"\u001b[39;00m\n\u001b[0;32m   2441\u001b[0m nv\u001b[38;5;241m.\u001b[39mvalidate_round(args, kwargs)\n\u001b[1;32m-> 2442\u001b[0m result \u001b[38;5;241m=\u001b[39m \u001b[38;5;28;43mself\u001b[39;49m\u001b[38;5;241;43m.\u001b[39;49m\u001b[43m_values\u001b[49m\u001b[38;5;241;43m.\u001b[39;49m\u001b[43mround\u001b[49m\u001b[43m(\u001b[49m\u001b[43mdecimals\u001b[49m\u001b[43m)\u001b[49m\n\u001b[0;32m   2443\u001b[0m result \u001b[38;5;241m=\u001b[39m \u001b[38;5;28mself\u001b[39m\u001b[38;5;241m.\u001b[39m_constructor(result, index\u001b[38;5;241m=\u001b[39m\u001b[38;5;28mself\u001b[39m\u001b[38;5;241m.\u001b[39mindex)\u001b[38;5;241m.\u001b[39m__finalize__(\n\u001b[0;32m   2444\u001b[0m     \u001b[38;5;28mself\u001b[39m, method\u001b[38;5;241m=\u001b[39m\u001b[38;5;124m\"\u001b[39m\u001b[38;5;124mround\u001b[39m\u001b[38;5;124m\"\u001b[39m\n\u001b[0;32m   2445\u001b[0m )\n\u001b[0;32m   2447\u001b[0m \u001b[38;5;28;01mreturn\u001b[39;00m result\n",
      "\u001b[1;31mTypeError\u001b[0m: an integer is required (got type str)"
     ]
    }
   ],
   "source": [
    "# distance is split into quantiles which correspond to 31-416, 417-867, 868, 4963\n",
    "from functions import process_distance\n",
    "df = process_distance(df)"
   ]
  },
  {
   "cell_type": "code",
   "execution_count": 6,
   "id": "688c3128-efe8-4143-aa3b-f815e59cd5ae",
   "metadata": {},
   "outputs": [],
   "source": [
    "sample.to_csv('G_PSQL_data/JAN_sample_processing.csv', index=False)"
   ]
  },
  {
   "cell_type": "code",
   "execution_count": 14,
   "id": "5c85de39-fabb-4a5a-b270-bb00b53f2900",
   "metadata": {},
   "outputs": [],
   "source": [
    "newdf.to_csv('G_PSQL_data/jan_cleaned.csv', index=False)"
   ]
  },
  {
   "cell_type": "markdown",
   "id": "26379b84-7238-4e7e-b983-2cfef81c76a4",
   "metadata": {},
   "source": [
    "#### passenger table processing"
   ]
  },
  {
   "cell_type": "code",
   "execution_count": 68,
   "id": "5602d9e1-e9db-4f8b-82c7-935cd1b8bf59",
   "metadata": {},
   "outputs": [],
   "source": [
    "sample = pd.read_csv('G_PSQL_data/JAN_passengers.txt', parse_dates=True)"
   ]
  },
  {
   "cell_type": "code",
   "execution_count": 69,
   "id": "e2b1e5d9-cc76-4169-a6f0-1d2236311bcf",
   "metadata": {
    "collapsed": true,
    "jupyter": {
     "outputs_hidden": true
    },
    "tags": []
   },
   "outputs": [
    {
     "data": {
      "text/html": [
       "<div>\n",
       "<style scoped>\n",
       "    .dataframe tbody tr th:only-of-type {\n",
       "        vertical-align: middle;\n",
       "    }\n",
       "\n",
       "    .dataframe tbody tr th {\n",
       "        vertical-align: top;\n",
       "    }\n",
       "\n",
       "    .dataframe thead th {\n",
       "        text-align: right;\n",
       "    }\n",
       "</style>\n",
       "<table border=\"1\" class=\"dataframe\">\n",
       "  <thead>\n",
       "    <tr style=\"text-align: right;\">\n",
       "      <th></th>\n",
       "      <th>fl_date</th>\n",
       "      <th>mkt_unique_carrier</th>\n",
       "      <th>op_unique_carrier</th>\n",
       "      <th>origin</th>\n",
       "      <th>dest</th>\n",
       "      <th>dist_cats</th>\n",
       "      <th>origin_airport_id</th>\n",
       "      <th>dest_airport_id</th>\n",
       "      <th>arr_delay</th>\n",
       "      <th>crs_elapsed_time</th>\n",
       "      <th>dep_hour</th>\n",
       "      <th>arr_hour</th>\n",
       "      <th>week_day</th>\n",
       "    </tr>\n",
       "  </thead>\n",
       "  <tbody>\n",
       "    <tr>\n",
       "      <th>0</th>\n",
       "      <td>2019-01-01 00:01:00</td>\n",
       "      <td>NK</td>\n",
       "      <td>NK</td>\n",
       "      <td>LAX</td>\n",
       "      <td>OAK</td>\n",
       "      <td>short</td>\n",
       "      <td>12892</td>\n",
       "      <td>13796</td>\n",
       "      <td>-6.0</td>\n",
       "      <td>81.0</td>\n",
       "      <td>19</td>\n",
       "      <td>20</td>\n",
       "      <td>1</td>\n",
       "    </tr>\n",
       "    <tr>\n",
       "      <th>1</th>\n",
       "      <td>2019-01-01 00:01:00</td>\n",
       "      <td>AA</td>\n",
       "      <td>OH</td>\n",
       "      <td>DCA</td>\n",
       "      <td>BDL</td>\n",
       "      <td>short</td>\n",
       "      <td>11278</td>\n",
       "      <td>10529</td>\n",
       "      <td>-15.0</td>\n",
       "      <td>75.0</td>\n",
       "      <td>13</td>\n",
       "      <td>13</td>\n",
       "      <td>1</td>\n",
       "    </tr>\n",
       "    <tr>\n",
       "      <th>2</th>\n",
       "      <td>2019-01-01 00:01:00</td>\n",
       "      <td>AA</td>\n",
       "      <td>OH</td>\n",
       "      <td>CLT</td>\n",
       "      <td>BTV</td>\n",
       "      <td>medium</td>\n",
       "      <td>11057</td>\n",
       "      <td>10785</td>\n",
       "      <td>-16.0</td>\n",
       "      <td>132.0</td>\n",
       "      <td>18</td>\n",
       "      <td>20</td>\n",
       "      <td>1</td>\n",
       "    </tr>\n",
       "    <tr>\n",
       "      <th>3</th>\n",
       "      <td>2019-01-01 00:01:00</td>\n",
       "      <td>AA</td>\n",
       "      <td>OH</td>\n",
       "      <td>CLT</td>\n",
       "      <td>MKE</td>\n",
       "      <td>medium</td>\n",
       "      <td>11057</td>\n",
       "      <td>13342</td>\n",
       "      <td>-20.0</td>\n",
       "      <td>136.0</td>\n",
       "      <td>16</td>\n",
       "      <td>17</td>\n",
       "      <td>1</td>\n",
       "    </tr>\n",
       "    <tr>\n",
       "      <th>4</th>\n",
       "      <td>2019-01-01 00:01:00</td>\n",
       "      <td>NK</td>\n",
       "      <td>NK</td>\n",
       "      <td>MCO</td>\n",
       "      <td>SJU</td>\n",
       "      <td>long</td>\n",
       "      <td>13204</td>\n",
       "      <td>14843</td>\n",
       "      <td>17.0</td>\n",
       "      <td>155.0</td>\n",
       "      <td>23</td>\n",
       "      <td>23</td>\n",
       "      <td>1</td>\n",
       "    </tr>\n",
       "    <tr>\n",
       "      <th>...</th>\n",
       "      <td>...</td>\n",
       "      <td>...</td>\n",
       "      <td>...</td>\n",
       "      <td>...</td>\n",
       "      <td>...</td>\n",
       "      <td>...</td>\n",
       "      <td>...</td>\n",
       "      <td>...</td>\n",
       "      <td>...</td>\n",
       "      <td>...</td>\n",
       "      <td>...</td>\n",
       "      <td>...</td>\n",
       "      <td>...</td>\n",
       "    </tr>\n",
       "    <tr>\n",
       "      <th>108432</th>\n",
       "      <td>2018-01-31 00:01:00</td>\n",
       "      <td>DL</td>\n",
       "      <td>G7</td>\n",
       "      <td>MSP</td>\n",
       "      <td>RDU</td>\n",
       "      <td>long</td>\n",
       "      <td>13487</td>\n",
       "      <td>14492</td>\n",
       "      <td>-33.0</td>\n",
       "      <td>161.0</td>\n",
       "      <td>15</td>\n",
       "      <td>18</td>\n",
       "      <td>2</td>\n",
       "    </tr>\n",
       "    <tr>\n",
       "      <th>108433</th>\n",
       "      <td>2018-01-31 00:01:00</td>\n",
       "      <td>DL</td>\n",
       "      <td>G7</td>\n",
       "      <td>BNA</td>\n",
       "      <td>RDU</td>\n",
       "      <td>medium</td>\n",
       "      <td>10693</td>\n",
       "      <td>14492</td>\n",
       "      <td>64.0</td>\n",
       "      <td>225.0</td>\n",
       "      <td>20</td>\n",
       "      <td>22</td>\n",
       "      <td>2</td>\n",
       "    </tr>\n",
       "    <tr>\n",
       "      <th>108434</th>\n",
       "      <td>2018-01-31 00:01:00</td>\n",
       "      <td>DL</td>\n",
       "      <td>G7</td>\n",
       "      <td>MEM</td>\n",
       "      <td>DTW</td>\n",
       "      <td>medium</td>\n",
       "      <td>13244</td>\n",
       "      <td>11433</td>\n",
       "      <td>-21.0</td>\n",
       "      <td>119.0</td>\n",
       "      <td>6</td>\n",
       "      <td>8</td>\n",
       "      <td>2</td>\n",
       "    </tr>\n",
       "    <tr>\n",
       "      <th>108435</th>\n",
       "      <td>2018-01-31 00:01:00</td>\n",
       "      <td>DL</td>\n",
       "      <td>CP</td>\n",
       "      <td>LAS</td>\n",
       "      <td>LAX</td>\n",
       "      <td>short</td>\n",
       "      <td>12889</td>\n",
       "      <td>12892</td>\n",
       "      <td>-7.0</td>\n",
       "      <td>90.0</td>\n",
       "      <td>9</td>\n",
       "      <td>10</td>\n",
       "      <td>2</td>\n",
       "    </tr>\n",
       "    <tr>\n",
       "      <th>108436</th>\n",
       "      <td>2018-01-31 00:01:00</td>\n",
       "      <td>DL</td>\n",
       "      <td>G7</td>\n",
       "      <td>STL</td>\n",
       "      <td>DTW</td>\n",
       "      <td>medium</td>\n",
       "      <td>15016</td>\n",
       "      <td>11433</td>\n",
       "      <td>-12.0</td>\n",
       "      <td>95.0</td>\n",
       "      <td>10</td>\n",
       "      <td>12</td>\n",
       "      <td>2</td>\n",
       "    </tr>\n",
       "  </tbody>\n",
       "</table>\n",
       "<p>108437 rows × 13 columns</p>\n",
       "</div>"
      ],
      "text/plain": [
       "                    fl_date mkt_unique_carrier op_unique_carrier origin dest  \\\n",
       "0       2019-01-01 00:01:00                 NK                NK    LAX  OAK   \n",
       "1       2019-01-01 00:01:00                 AA                OH    DCA  BDL   \n",
       "2       2019-01-01 00:01:00                 AA                OH    CLT  BTV   \n",
       "3       2019-01-01 00:01:00                 AA                OH    CLT  MKE   \n",
       "4       2019-01-01 00:01:00                 NK                NK    MCO  SJU   \n",
       "...                     ...                ...               ...    ...  ...   \n",
       "108432  2018-01-31 00:01:00                 DL                G7    MSP  RDU   \n",
       "108433  2018-01-31 00:01:00                 DL                G7    BNA  RDU   \n",
       "108434  2018-01-31 00:01:00                 DL                G7    MEM  DTW   \n",
       "108435  2018-01-31 00:01:00                 DL                CP    LAS  LAX   \n",
       "108436  2018-01-31 00:01:00                 DL                G7    STL  DTW   \n",
       "\n",
       "       dist_cats  origin_airport_id  dest_airport_id  arr_delay  \\\n",
       "0          short              12892            13796       -6.0   \n",
       "1          short              11278            10529      -15.0   \n",
       "2         medium              11057            10785      -16.0   \n",
       "3         medium              11057            13342      -20.0   \n",
       "4           long              13204            14843       17.0   \n",
       "...          ...                ...              ...        ...   \n",
       "108432      long              13487            14492      -33.0   \n",
       "108433    medium              10693            14492       64.0   \n",
       "108434    medium              13244            11433      -21.0   \n",
       "108435     short              12889            12892       -7.0   \n",
       "108436    medium              15016            11433      -12.0   \n",
       "\n",
       "        crs_elapsed_time  dep_hour  arr_hour  week_day  \n",
       "0                   81.0        19        20         1  \n",
       "1                   75.0        13        13         1  \n",
       "2                  132.0        18        20         1  \n",
       "3                  136.0        16        17         1  \n",
       "4                  155.0        23        23         1  \n",
       "...                  ...       ...       ...       ...  \n",
       "108432             161.0        15        18         2  \n",
       "108433             225.0        20        22         2  \n",
       "108434             119.0         6         8         2  \n",
       "108435              90.0         9        10         2  \n",
       "108436              95.0        10        12         2  \n",
       "\n",
       "[108437 rows x 13 columns]"
      ]
     },
     "execution_count": 69,
     "metadata": {},
     "output_type": "execute_result"
    }
   ],
   "source": [
    "flights = pd.read_csv('G_PSQL_data/super_cleaned.csv')\n",
    "flights"
   ]
  },
  {
   "cell_type": "code",
   "execution_count": 70,
   "id": "ee1ae42c-59aa-482d-89f6-9dbdda2996be",
   "metadata": {},
   "outputs": [],
   "source": [
    "sample = sample[sample['year'] > 2016]"
   ]
  },
  {
   "cell_type": "code",
   "execution_count": 62,
   "id": "11674454-7bc8-4234-8505-378abcd20af0",
   "metadata": {},
   "outputs": [],
   "source": [
    "sample = sample[(sample['dest_country_name'] =='United States') & (sample['origin_country_name'] == 'United States')]"
   ]
  },
  {
   "cell_type": "code",
   "execution_count": 66,
   "id": "afea8771-4365-46df-9d23-e0bf4c0fa6c9",
   "metadata": {},
   "outputs": [
    {
     "name": "stderr",
     "output_type": "stream",
     "text": [
      "C:\\Users\\broug\\AppData\\Local\\Temp\\ipykernel_336\\1267708381.py:1: SettingWithCopyWarning: \n",
      "A value is trying to be set on a copy of a slice from a DataFrame\n",
      "\n",
      "See the caveats in the documentation: https://pandas.pydata.org/pandas-docs/stable/user_guide/indexing.html#returning-a-view-versus-a-copy\n",
      "  sample.drop(columns=['dest_country', 'dest_country_name', 'origin_country_name', 'origin_country', 'data_source'], inplace=True)\n"
     ]
    }
   ],
   "source": [
    "sample.drop(columns=['dest_country', 'dest_country_name', 'origin_country_name', 'origin_country', 'data_source'], inplace=True)"
   ]
  },
  {
   "cell_type": "code",
   "execution_count": 136,
   "id": "42e62a5d-e469-4756-8cd3-e7dbdcfaf387",
   "metadata": {
    "tags": []
   },
   "outputs": [],
   "source": [
    "sample = sample[(sample['dest_country'] == 'US') & (sample['origin_country'] == 'US')]"
   ]
  },
  {
   "cell_type": "code",
   "execution_count": 144,
   "id": "f2e8e070-c7df-4eaf-b339-2b854e6f6295",
   "metadata": {},
   "outputs": [
    {
     "name": "stderr",
     "output_type": "stream",
     "text": [
      "C:\\Users\\broug\\AppData\\Local\\Temp\\ipykernel_336\\2854837492.py:1: SettingWithCopyWarning: \n",
      "A value is trying to be set on a copy of a slice from a DataFrame.\n",
      "Try using .loc[row_indexer,col_indexer] = value instead\n",
      "\n",
      "See the caveats in the documentation: https://pandas.pydata.org/pandas-docs/stable/user_guide/indexing.html#returning-a-view-versus-a-copy\n",
      "  sample['op_unique_carrier'] = sample['unique_carrier']\n"
     ]
    }
   ],
   "source": [
    "sample['op_unique_carrier'] = sample['unique_carrier']"
   ]
  },
  {
   "cell_type": "code",
   "execution_count": 89,
   "id": "44a5f1bb-3e78-40a6-9d89-e6c22fd8e7a9",
   "metadata": {},
   "outputs": [],
   "source": [
    "df.drop(columns=['year', 'month'], inplace=True)"
   ]
  },
  {
   "cell_type": "code",
   "execution_count": 91,
   "id": "2392bd82-d0db-46e2-ba9e-ba793d37072d",
   "metadata": {},
   "outputs": [],
   "source": [
    "df.to_csv('G_PSQL_data/flights_passengers.csv', index=False)"
   ]
  },
  {
   "cell_type": "code",
   "execution_count": 134,
   "id": "bddc31e2-9887-450f-856e-3b63889beaf5",
   "metadata": {},
   "outputs": [],
   "source": [
    "df['total_passengers'] = df['passengers']"
   ]
  },
  {
   "cell_type": "code",
   "execution_count": 148,
   "id": "a1a06982-9911-4a0d-9c6d-68c4c91c9709",
   "metadata": {},
   "outputs": [],
   "source": [
    "dest_airport = df.groupby(['dest_airport_id'], as_index=False).agg({'passengers': 'sum', 'mail': 'mean', 'freight': 'mean', 'arr_delay': 'mean', 'unique_carrier': 'count'}).sort_values(by='passengers', ascending=False)"
   ]
  },
  {
   "cell_type": "code",
   "execution_count": 149,
   "id": "ad8896b6-de68-481f-b0d1-380224f49847",
   "metadata": {},
   "outputs": [],
   "source": [
    "origin_airport = df.groupby('origin_airport_id', as_index=False).agg({'passengers': 'sum', 'mail': 'mean', 'freight': 'mean', 'arr_delay': 'mean', 'unique_carrier': 'size'})"
   ]
  },
  {
   "cell_type": "code",
   "execution_count": 151,
   "id": "100c28d8-85db-4144-8e4e-d2092a2ac3f4",
   "metadata": {},
   "outputs": [],
   "source": [
    "origin_airport['cargo'] = origin_airport['mail'] + origin_airport['freight']"
   ]
  },
  {
   "cell_type": "code",
   "execution_count": 152,
   "id": "edf0d035-8b5a-4f41-b0a9-acc4f01e315f",
   "metadata": {
    "collapsed": true,
    "jupyter": {
     "outputs_hidden": true
    },
    "tags": []
   },
   "outputs": [
    {
     "data": {
      "text/html": [
       "<div>\n",
       "<style scoped>\n",
       "    .dataframe tbody tr th:only-of-type {\n",
       "        vertical-align: middle;\n",
       "    }\n",
       "\n",
       "    .dataframe tbody tr th {\n",
       "        vertical-align: top;\n",
       "    }\n",
       "\n",
       "    .dataframe thead th {\n",
       "        text-align: right;\n",
       "    }\n",
       "</style>\n",
       "<table border=\"1\" class=\"dataframe\">\n",
       "  <thead>\n",
       "    <tr style=\"text-align: right;\">\n",
       "      <th></th>\n",
       "      <th>origin_airport_id</th>\n",
       "      <th>passengers</th>\n",
       "      <th>arr_delay</th>\n",
       "      <th>unique_carrier</th>\n",
       "      <th>cargo</th>\n",
       "      <th>cargo/carrier</th>\n",
       "      <th>passengers/carrier</th>\n",
       "      <th>cargo/passengers</th>\n",
       "    </tr>\n",
       "  </thead>\n",
       "  <tbody>\n",
       "    <tr>\n",
       "      <th>0</th>\n",
       "      <td>10135</td>\n",
       "      <td>495119</td>\n",
       "      <td>11.238754</td>\n",
       "      <td>289</td>\n",
       "      <td>19.166090</td>\n",
       "      <td>0.066319</td>\n",
       "      <td>1713.214533</td>\n",
       "      <td>0.000039</td>\n",
       "    </tr>\n",
       "    <tr>\n",
       "      <th>1</th>\n",
       "      <td>10136</td>\n",
       "      <td>421992</td>\n",
       "      <td>11.861111</td>\n",
       "      <td>216</td>\n",
       "      <td>355.333333</td>\n",
       "      <td>1.645062</td>\n",
       "      <td>1953.666667</td>\n",
       "      <td>0.000842</td>\n",
       "    </tr>\n",
       "    <tr>\n",
       "      <th>2</th>\n",
       "      <td>10140</td>\n",
       "      <td>10211746</td>\n",
       "      <td>-2.496269</td>\n",
       "      <td>3752</td>\n",
       "      <td>43383.426439</td>\n",
       "      <td>11.562747</td>\n",
       "      <td>2721.680704</td>\n",
       "      <td>0.004248</td>\n",
       "    </tr>\n",
       "    <tr>\n",
       "      <th>3</th>\n",
       "      <td>10141</td>\n",
       "      <td>50479</td>\n",
       "      <td>-4.727273</td>\n",
       "      <td>22</td>\n",
       "      <td>0.000000</td>\n",
       "      <td>0.000000</td>\n",
       "      <td>2294.500000</td>\n",
       "      <td>0.000000</td>\n",
       "    </tr>\n",
       "    <tr>\n",
       "      <th>4</th>\n",
       "      <td>10146</td>\n",
       "      <td>81284</td>\n",
       "      <td>-6.357143</td>\n",
       "      <td>42</td>\n",
       "      <td>0.000000</td>\n",
       "      <td>0.000000</td>\n",
       "      <td>1935.333333</td>\n",
       "      <td>0.000000</td>\n",
       "    </tr>\n",
       "    <tr>\n",
       "      <th>...</th>\n",
       "      <td>...</td>\n",
       "      <td>...</td>\n",
       "      <td>...</td>\n",
       "      <td>...</td>\n",
       "      <td>...</td>\n",
       "      <td>...</td>\n",
       "      <td>...</td>\n",
       "      <td>...</td>\n",
       "    </tr>\n",
       "    <tr>\n",
       "      <th>355</th>\n",
       "      <td>15841</td>\n",
       "      <td>26158</td>\n",
       "      <td>-11.666667</td>\n",
       "      <td>36</td>\n",
       "      <td>10507.055556</td>\n",
       "      <td>291.862654</td>\n",
       "      <td>726.611111</td>\n",
       "      <td>0.401677</td>\n",
       "    </tr>\n",
       "    <tr>\n",
       "      <th>356</th>\n",
       "      <td>15919</td>\n",
       "      <td>3122420</td>\n",
       "      <td>1.142930</td>\n",
       "      <td>1952</td>\n",
       "      <td>97.253074</td>\n",
       "      <td>0.049822</td>\n",
       "      <td>1599.600410</td>\n",
       "      <td>0.000031</td>\n",
       "    </tr>\n",
       "    <tr>\n",
       "      <th>357</th>\n",
       "      <td>15991</td>\n",
       "      <td>8329</td>\n",
       "      <td>-15.393939</td>\n",
       "      <td>33</td>\n",
       "      <td>7836.939394</td>\n",
       "      <td>237.483012</td>\n",
       "      <td>252.393939</td>\n",
       "      <td>0.940922</td>\n",
       "    </tr>\n",
       "    <tr>\n",
       "      <th>358</th>\n",
       "      <td>16101</td>\n",
       "      <td>347598</td>\n",
       "      <td>2.925926</td>\n",
       "      <td>54</td>\n",
       "      <td>820.000000</td>\n",
       "      <td>15.185185</td>\n",
       "      <td>6437.000000</td>\n",
       "      <td>0.002359</td>\n",
       "    </tr>\n",
       "    <tr>\n",
       "      <th>359</th>\n",
       "      <td>16218</td>\n",
       "      <td>268317</td>\n",
       "      <td>-4.428571</td>\n",
       "      <td>84</td>\n",
       "      <td>0.000000</td>\n",
       "      <td>0.000000</td>\n",
       "      <td>3194.250000</td>\n",
       "      <td>0.000000</td>\n",
       "    </tr>\n",
       "  </tbody>\n",
       "</table>\n",
       "<p>360 rows × 8 columns</p>\n",
       "</div>"
      ],
      "text/plain": [
       "     origin_airport_id  passengers  arr_delay  unique_carrier         cargo  \\\n",
       "0                10135      495119  11.238754             289     19.166090   \n",
       "1                10136      421992  11.861111             216    355.333333   \n",
       "2                10140    10211746  -2.496269            3752  43383.426439   \n",
       "3                10141       50479  -4.727273              22      0.000000   \n",
       "4                10146       81284  -6.357143              42      0.000000   \n",
       "..                 ...         ...        ...             ...           ...   \n",
       "355              15841       26158 -11.666667              36  10507.055556   \n",
       "356              15919     3122420   1.142930            1952     97.253074   \n",
       "357              15991        8329 -15.393939              33   7836.939394   \n",
       "358              16101      347598   2.925926              54    820.000000   \n",
       "359              16218      268317  -4.428571              84      0.000000   \n",
       "\n",
       "     cargo/carrier  passengers/carrier  cargo/passengers  \n",
       "0         0.066319         1713.214533          0.000039  \n",
       "1         1.645062         1953.666667          0.000842  \n",
       "2        11.562747         2721.680704          0.004248  \n",
       "3         0.000000         2294.500000          0.000000  \n",
       "4         0.000000         1935.333333          0.000000  \n",
       "..             ...                 ...               ...  \n",
       "355     291.862654          726.611111          0.401677  \n",
       "356       0.049822         1599.600410          0.000031  \n",
       "357     237.483012          252.393939          0.940922  \n",
       "358      15.185185         6437.000000          0.002359  \n",
       "359       0.000000         3194.250000          0.000000  \n",
       "\n",
       "[360 rows x 8 columns]"
      ]
     },
     "execution_count": 152,
     "metadata": {},
     "output_type": "execute_result"
    }
   ],
   "source": [
    "origin_airport['cargo/carrier'] = origin_airport['cargo'] / origin_airport['unique_carrier']\n",
    "origin_airport['passengers/carrier'] = origin_airport['passengers'] / origin_airport['unique_carrier']\n",
    "origin_airport['cargo/passengers'] = origin_airport['cargo'] / origin_airport['passengers'] \n",
    "origin_airport.drop(columns=['mail', 'freight'], inplace=True)\n",
    "origin_airport"
   ]
  },
  {
   "cell_type": "code",
   "execution_count": 162,
   "id": "90937511-d1fb-423c-98ec-7db5b60a45b1",
   "metadata": {
    "collapsed": true,
    "jupyter": {
     "outputs_hidden": true
    },
    "tags": []
   },
   "outputs": [
    {
     "data": {
      "text/html": [
       "<div>\n",
       "<style scoped>\n",
       "    .dataframe tbody tr th:only-of-type {\n",
       "        vertical-align: middle;\n",
       "    }\n",
       "\n",
       "    .dataframe tbody tr th {\n",
       "        vertical-align: top;\n",
       "    }\n",
       "\n",
       "    .dataframe thead th {\n",
       "        text-align: right;\n",
       "    }\n",
       "</style>\n",
       "<table border=\"1\" class=\"dataframe\">\n",
       "  <thead>\n",
       "    <tr style=\"text-align: right;\">\n",
       "      <th></th>\n",
       "      <th>origin_airport_id</th>\n",
       "      <th>passengers</th>\n",
       "      <th>arr_delay</th>\n",
       "      <th>unique_carrier</th>\n",
       "      <th>cargo</th>\n",
       "      <th>cargo/carrier</th>\n",
       "      <th>passengers/carrier</th>\n",
       "      <th>cargo/passengers</th>\n",
       "    </tr>\n",
       "  </thead>\n",
       "  <tbody>\n",
       "    <tr>\n",
       "      <th>244</th>\n",
       "      <td>13832</td>\n",
       "      <td>1916</td>\n",
       "      <td>92.000000</td>\n",
       "      <td>3</td>\n",
       "      <td>0.000000</td>\n",
       "      <td>0.000000</td>\n",
       "      <td>638.666667</td>\n",
       "      <td>0.000000</td>\n",
       "    </tr>\n",
       "    <tr>\n",
       "      <th>254</th>\n",
       "      <td>14006</td>\n",
       "      <td>24814</td>\n",
       "      <td>39.160000</td>\n",
       "      <td>25</td>\n",
       "      <td>0.000000</td>\n",
       "      <td>0.000000</td>\n",
       "      <td>992.560000</td>\n",
       "      <td>0.000000</td>\n",
       "    </tr>\n",
       "    <tr>\n",
       "      <th>158</th>\n",
       "      <td>12244</td>\n",
       "      <td>58475</td>\n",
       "      <td>39.043478</td>\n",
       "      <td>46</td>\n",
       "      <td>345.543478</td>\n",
       "      <td>7.511815</td>\n",
       "      <td>1271.195652</td>\n",
       "      <td>0.005909</td>\n",
       "    </tr>\n",
       "    <tr>\n",
       "      <th>17</th>\n",
       "      <td>10333</td>\n",
       "      <td>5261</td>\n",
       "      <td>39.000000</td>\n",
       "      <td>20</td>\n",
       "      <td>0.000000</td>\n",
       "      <td>0.000000</td>\n",
       "      <td>263.050000</td>\n",
       "      <td>0.000000</td>\n",
       "    </tr>\n",
       "    <tr>\n",
       "      <th>275</th>\n",
       "      <td>14259</td>\n",
       "      <td>8319</td>\n",
       "      <td>35.333333</td>\n",
       "      <td>12</td>\n",
       "      <td>0.000000</td>\n",
       "      <td>0.000000</td>\n",
       "      <td>693.250000</td>\n",
       "      <td>0.000000</td>\n",
       "    </tr>\n",
       "    <tr>\n",
       "      <th>...</th>\n",
       "      <td>...</td>\n",
       "      <td>...</td>\n",
       "      <td>...</td>\n",
       "      <td>...</td>\n",
       "      <td>...</td>\n",
       "      <td>...</td>\n",
       "      <td>...</td>\n",
       "      <td>...</td>\n",
       "    </tr>\n",
       "    <tr>\n",
       "      <th>314</th>\n",
       "      <td>14802</td>\n",
       "      <td>1389</td>\n",
       "      <td>-17.333333</td>\n",
       "      <td>3</td>\n",
       "      <td>0.000000</td>\n",
       "      <td>0.000000</td>\n",
       "      <td>463.000000</td>\n",
       "      <td>0.000000</td>\n",
       "    </tr>\n",
       "    <tr>\n",
       "      <th>274</th>\n",
       "      <td>14256</td>\n",
       "      <td>41207</td>\n",
       "      <td>-18.190476</td>\n",
       "      <td>63</td>\n",
       "      <td>12229.873016</td>\n",
       "      <td>194.124969</td>\n",
       "      <td>654.079365</td>\n",
       "      <td>0.296791</td>\n",
       "    </tr>\n",
       "    <tr>\n",
       "      <th>329</th>\n",
       "      <td>15008</td>\n",
       "      <td>8506</td>\n",
       "      <td>-18.666667</td>\n",
       "      <td>6</td>\n",
       "      <td>0.000000</td>\n",
       "      <td>0.000000</td>\n",
       "      <td>1417.666667</td>\n",
       "      <td>0.000000</td>\n",
       "    </tr>\n",
       "    <tr>\n",
       "      <th>180</th>\n",
       "      <td>12519</td>\n",
       "      <td>11116</td>\n",
       "      <td>-22.625000</td>\n",
       "      <td>16</td>\n",
       "      <td>0.000000</td>\n",
       "      <td>0.000000</td>\n",
       "      <td>694.750000</td>\n",
       "      <td>0.000000</td>\n",
       "    </tr>\n",
       "    <tr>\n",
       "      <th>44</th>\n",
       "      <td>10728</td>\n",
       "      <td>15512</td>\n",
       "      <td>-22.750000</td>\n",
       "      <td>16</td>\n",
       "      <td>13.000000</td>\n",
       "      <td>0.812500</td>\n",
       "      <td>969.500000</td>\n",
       "      <td>0.000838</td>\n",
       "    </tr>\n",
       "  </tbody>\n",
       "</table>\n",
       "<p>360 rows × 8 columns</p>\n",
       "</div>"
      ],
      "text/plain": [
       "     origin_airport_id  passengers  arr_delay  unique_carrier         cargo  \\\n",
       "244              13832        1916  92.000000               3      0.000000   \n",
       "254              14006       24814  39.160000              25      0.000000   \n",
       "158              12244       58475  39.043478              46    345.543478   \n",
       "17               10333        5261  39.000000              20      0.000000   \n",
       "275              14259        8319  35.333333              12      0.000000   \n",
       "..                 ...         ...        ...             ...           ...   \n",
       "314              14802        1389 -17.333333               3      0.000000   \n",
       "274              14256       41207 -18.190476              63  12229.873016   \n",
       "329              15008        8506 -18.666667               6      0.000000   \n",
       "180              12519       11116 -22.625000              16      0.000000   \n",
       "44               10728       15512 -22.750000              16     13.000000   \n",
       "\n",
       "     cargo/carrier  passengers/carrier  cargo/passengers  \n",
       "244       0.000000          638.666667          0.000000  \n",
       "254       0.000000          992.560000          0.000000  \n",
       "158       7.511815         1271.195652          0.005909  \n",
       "17        0.000000          263.050000          0.000000  \n",
       "275       0.000000          693.250000          0.000000  \n",
       "..             ...                 ...               ...  \n",
       "314       0.000000          463.000000          0.000000  \n",
       "274     194.124969          654.079365          0.296791  \n",
       "329       0.000000         1417.666667          0.000000  \n",
       "180       0.000000          694.750000          0.000000  \n",
       "44        0.812500          969.500000          0.000838  \n",
       "\n",
       "[360 rows x 8 columns]"
      ]
     },
     "execution_count": 162,
     "metadata": {},
     "output_type": "execute_result"
    }
   ],
   "source": [
    "origin_airport.sort_values(by='arr_delay', ascending=False)"
   ]
  },
  {
   "cell_type": "code",
   "execution_count": 172,
   "id": "36535c4b-3aa6-4347-a312-30143eea5e09",
   "metadata": {},
   "outputs": [
    {
     "data": {
      "text/plain": [
       "<AxesSubplot:xlabel='passengers', ylabel='arr_delay'>"
      ]
     },
     "execution_count": 172,
     "metadata": {},
     "output_type": "execute_result"
    },
    {
     "data": {
      "image/png": "[encoded data removed]",
      "text/plain": [
       "<Figure size 432x288 with 1 Axes>"
      ]
     },
     "metadata": {
      "needs_background": "light"
     },
     "output_type": "display_data"
    }
   ],
   "source": [
    "sn.scatterplot(x=origin_airport['passengers'], y=origin_airport['arr_delay'])"
   ]
  },
  {
   "cell_type": "code",
   "execution_count": 191,
   "id": "6b1a5e2e-84d2-4be7-bc82-654920869bfb",
   "metadata": {},
   "outputs": [],
   "source": [
    "df = pd.read_csv('G_PSQL_data/JAN_sample_no_outliers.csv')\n",
    "df = df[df['crs_elapsed_time'] < 500]"
   ]
  },
  {
   "cell_type": "code",
   "execution_count": 192,
   "id": "3f943c27-70be-4d20-ad74-e2f83314c622",
   "metadata": {},
   "outputs": [],
   "source": [
    "df['dist_cats'] = pd.qcut(df['distance'], 3, labels=['short', 'medium', 'long'])\n"
   ]
  },
  {
   "cell_type": "code",
   "execution_count": 193,
   "id": "a8ccf749-027d-4247-962f-acb56dd6cf78",
   "metadata": {},
   "outputs": [],
   "source": [
    "df['fl_date'] = pd.to_datetime(df['fl_date'], format='%Y-%m-%d', errors='coerce')"
   ]
  },
  {
   "cell_type": "code",
   "execution_count": 194,
   "id": "6df9f01f-2797-4af1-9579-d0338d3f8e9e",
   "metadata": {},
   "outputs": [],
   "source": [
    "df.drop(columns='Unnamed: 0', inplace=True)"
   ]
  },
  {
   "cell_type": "code",
   "execution_count": 209,
   "id": "e400142b-6d18-41cf-a2c3-9f6a29c07e12",
   "metadata": {},
   "outputs": [],
   "source": [
    "df.to_csv('final_process.csv', index=False)"
   ]
  },
  {
   "cell_type": "markdown",
   "id": "ae9113b0-af7d-4b5e-bd27-b9f2f17ddd5f",
   "metadata": {},
   "source": [
    "#### hourly flights"
   ]
  },
  {
   "cell_type": "code",
   "execution_count": 198,
   "id": "7eb4076b-47ae-4e38-aa0d-1ad34cdd06b8",
   "metadata": {},
   "outputs": [],
   "source": [
    "df = pd.read_csv('final_process.csv')"
   ]
  }
 ],
 "metadata": {
  "kernelspec": {
   "display_name": "Python 3 (ipykernel)",
   "language": "python",
   "name": "python3"
  },
  "language_info": {
   "codemirror_mode": {
    "name": "ipython",
    "version": 3
   },
   "file_extension": ".py",
   "mimetype": "text/x-python",
   "name": "python",
   "nbconvert_exporter": "python",
   "pygments_lexer": "ipython3",
   "version": "3.9.12"
  }
 },
 "nbformat": 4,
 "nbformat_minor": 5
}
