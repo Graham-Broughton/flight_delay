{
 "cells": [
  {
   "cell_type": "code",
   "execution_count": 1,
   "id": "9adbd20e-431e-43e1-ba39-bce0f82c3db1",
   "metadata": {},
   "outputs": [],
   "source": [
    "import pandas as pd\n",
    "import numpy as np\n",
    "import scipy.stats as st\n",
    "import seaborn as sn\n",
    "from datetime import datetime"
   ]
  },
  {
   "cell_type": "code",
   "execution_count": 11,
   "id": "89615922-ec0f-4f8d-b788-a965113a880d",
   "metadata": {},
   "outputs": [
    {
     "name": "stderr",
     "output_type": "stream",
     "text": [
      "C:\\Users\\broug\\AppData\\Local\\Temp\\ipykernel_13216\\920161533.py:1: DtypeWarning: Columns (25) have mixed types. Specify dtype option on import or set low_memory=False.\n",
      "  sample = pd.read_csv('G_PSQL_data/JAN_sample_raw.txt')\n"
     ]
    },
    {
     "data": {
      "text/plain": [
       "Index(['fl_date', 'mkt_unique_carrier', 'branded_code_share', 'mkt_carrier',\n",
       "       'mkt_carrier_fl_num', 'op_unique_carrier', 'tail_num',\n",
       "       'op_carrier_fl_num', 'origin_airport_id', 'origin', 'origin_city_name',\n",
       "       'dest_airport_id', 'dest', 'dest_city_name', 'crs_dep_time', 'dep_time',\n",
       "       'dep_delay', 'taxi_out', 'wheels_off', 'wheels_on', 'taxi_in',\n",
       "       'crs_arr_time', 'arr_time', 'arr_delay', 'cancelled',\n",
       "       'cancellation_code', 'diverted', 'dup', 'crs_elapsed_time',\n",
       "       'actual_elapsed_time', 'air_time', 'flights', 'distance',\n",
       "       'carrier_delay', 'weather_delay', 'nas_delay', 'security_delay',\n",
       "       'late_aircraft_delay', 'first_dep_time', 'total_add_gtime',\n",
       "       'longest_add_gtime', 'no_name'],\n",
       "      dtype='object')"
      ]
     },
     "execution_count": 11,
     "metadata": {},
     "output_type": "execute_result"
    }
   ],
   "source": [
    "sample = pd.read_csv('G_PSQL_data/JAN_sample_raw.txt')\n",
    "sample.columns"
   ]
  },
  {
   "cell_type": "code",
   "execution_count": 12,
   "id": "21597783-ae32-4dfa-8292-635570e0015b",
   "metadata": {},
   "outputs": [],
   "source": [
    "sample.drop(columns=['carrier_delay', 'weather_delay', 'nas_delay', 'security_delay', 'late_aircraft_delay', 'first_dep_time', 'no_name', 'longest_add_gtime', 'total_add_gtime', 'canellation_code', 'dup', 'diverted', 'cancelled'], inplace=True)"
   ]
  },
  {
   "cell_type": "code",
   "execution_count": 26,
   "id": "2af62996-c3b7-4928-9a34-36231190c0a5",
   "metadata": {},
   "outputs": [],
   "source": [
    "sample['dep_time'] = pd.to_datetime(sample['dep_time'], format='%H%M', errors='coerce')\n",
    "sample['arr_time'] = pd.to_datetime(sample['arr_time'], format='%H%M', errors='coerce')"
   ]
  },
  {
   "cell_type": "code",
   "execution_count": 18,
   "id": "feb966d1-c882-4fa4-a27b-14433b025d28",
   "metadata": {
    "collapsed": true,
    "jupyter": {
     "outputs_hidden": true
    },
    "tags": []
   },
   "outputs": [
    {
     "data": {
      "text/plain": [
       "arr_time               2.006382\n",
       "arr_delay              1.787115\n",
       "air_time               1.770180\n",
       "actual_elapsed_time    1.770180\n",
       "dep_time               1.605284\n",
       "taxi_in                1.602610\n",
       "wheels_on              1.600827\n",
       "dep_delay              1.578544\n",
       "taxi_out               1.559826\n",
       "wheels_off             1.558043\n",
       "tail_num               0.368119\n",
       "crs_elapsed_time       0.000891\n",
       "cancelled              0.000000\n",
       "dup                    0.000000\n",
       "crs_arr_time           0.000000\n",
       "flights                0.000000\n",
       "diverted               0.000000\n",
       "fl_date                0.000000\n",
       "mkt_unique_carrier     0.000000\n",
       "crs_dep_time           0.000000\n",
       "dest_city_name         0.000000\n",
       "dest                   0.000000\n",
       "dest_airport_id        0.000000\n",
       "origin_city_name       0.000000\n",
       "origin                 0.000000\n",
       "origin_airport_id      0.000000\n",
       "op_carrier_fl_num      0.000000\n",
       "op_unique_carrier      0.000000\n",
       "mkt_carrier_fl_num     0.000000\n",
       "mkt_carrier            0.000000\n",
       "branded_code_share     0.000000\n",
       "distance               0.000000\n",
       "dtype: float64"
      ]
     },
     "execution_count": 18,
     "metadata": {},
     "output_type": "execute_result"
    }
   ],
   "source": [
    "nulls = sample.isnull().sum()\n",
    "(nulls / len(sample) * 100).sort_values(ascending=False)"
   ]
  },
  {
   "cell_type": "code",
   "execution_count": 22,
   "id": "118dbc23-6ebb-4221-99be-d5743ef9fef5",
   "metadata": {},
   "outputs": [],
   "source": [
    "from functions import rename_brand_code, remove_outliers\n",
    "sample = rename_brand_code(sample)"
   ]
  },
  {
   "cell_type": "code",
   "execution_count": 24,
   "id": "4048daa2-c8c6-46f2-ab5b-8c56a204f06d",
   "metadata": {},
   "outputs": [],
   "source": [
    "sample = remove_outliers(sample)"
   ]
  },
  {
   "cell_type": "code",
   "execution_count": 38,
   "id": "61d663bd-636e-49f8-ad43-58c3b67da340",
   "metadata": {},
   "outputs": [],
   "source": [
    "sample.to_csv('G_PSQL_data/JAN_sample_no_outliers.csv', index=False)"
   ]
  }
 ],
 "metadata": {
  "kernelspec": {
   "display_name": "Python 3 (ipykernel)",
   "language": "python",
   "name": "python3"
  },
  "language_info": {
   "codemirror_mode": {
    "name": "ipython",
    "version": 3
   },
   "file_extension": ".py",
   "mimetype": "text/x-python",
   "name": "python",
   "nbconvert_exporter": "python",
   "pygments_lexer": "ipython3",
   "version": "3.9.12"
  }
 },
 "nbformat": 4,
 "nbformat_minor": 5
}
