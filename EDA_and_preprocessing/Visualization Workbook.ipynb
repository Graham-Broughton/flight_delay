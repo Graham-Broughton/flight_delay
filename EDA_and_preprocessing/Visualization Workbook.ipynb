{
 "cells": [
  {
   "cell_type": "code",
   "execution_count": 7,
   "id": "3e1ca131-7d24-45c0-b31e-1951bade9d8d",
   "metadata": {},
   "outputs": [],
   "source": [
    "import pandas as pd\n",
    "import numpy as np\n",
    "import scipy.stats as st\n",
    "import seaborn as sn\n",
    "from datetime import datetime\n",
    "import matplotlib.pyplot as plt"
   ]
  },
  {
   "cell_type": "code",
   "execution_count": 14,
   "id": "5d1da8a5-e9d7-4412-b466-b98b9779f041",
   "metadata": {},
   "outputs": [],
   "source": [
    "sample = pd.read_csv('G_PSQL_data/JAN_sample_no_outliers.csv')"
   ]
  },
  {
   "cell_type": "code",
   "execution_count": 53,
   "id": "ccf69929-c0b9-44f2-9aa3-41e61edaaaa8",
   "metadata": {},
   "outputs": [],
   "source": [
    "delayed = sample[sample['arr_delay'] > 0]\n",
    "early = sample[sample['arr_delay'] < 0]"
   ]
  },
  {
   "cell_type": "code",
   "execution_count": 54,
   "id": "392550ae-629b-4beb-a4c1-3e458353d5c3",
   "metadata": {},
   "outputs": [],
   "source": [
    "early = early.dropna()\n",
    "delayed = delayed.dropna()"
   ]
  },
  {
   "cell_type": "code",
   "execution_count": 18,
   "id": "920cdc8d-8ad6-4f67-aef4-c29d14ecd856",
   "metadata": {},
   "outputs": [],
   "source": [
    "early = early.groupby('branded_code_share', as_index=False)['arr_delay'].mean()"
   ]
  },
  {
   "cell_type": "code",
   "execution_count": 19,
   "id": "3a1e057e-27a4-4d7a-b37f-a72fc79e10d8",
   "metadata": {},
   "outputs": [],
   "source": [
    "delayed = delayed.groupby('branded_code_share', as_index=False)['arr_delay'].mean()"
   ]
  },
  {
   "cell_type": "code",
   "execution_count": 30,
   "id": "a06cbd77-3893-4905-96a7-4907a964c174",
   "metadata": {},
   "outputs": [],
   "source": [
    "early.rename(columns={'arr_delay': 'ed'}, inplace=True)"
   ]
  },
  {
   "cell_type": "code",
   "execution_count": 32,
   "id": "035a8d63-a0a8-4194-8c73-28826b66dfd6",
   "metadata": {},
   "outputs": [],
   "source": [
    "both = early.merge(delayed)"
   ]
  },
  {
   "cell_type": "code",
   "execution_count": 34,
   "id": "000475d5-7abb-4ebc-b5fa-3119e8498644",
   "metadata": {},
   "outputs": [],
   "source": [
    "both['avg'] = (both['arr_delay'] + both['ed']) / 2"
   ]
  },
  {
   "cell_type": "code",
   "execution_count": 51,
   "id": "fa9ee354-a6ce-48bb-aa04-6086b15522eb",
   "metadata": {},
   "outputs": [],
   "source": [
    "both = both.groupby('branded_code_share', as_index=False).mean()"
   ]
  },
  {
   "cell_type": "code",
   "execution_count": 10,
   "id": "f4740985-757d-48ba-8194-45ff2ae50ec3",
   "metadata": {},
   "outputs": [
    {
     "name": "stderr",
     "output_type": "stream",
     "text": [
      "C:\\Users\\broug\\anaconda3\\lib\\site-packages\\seaborn\\distributions.py:2619: FutureWarning: `distplot` is a deprecated function and will be removed in a future version. Please adapt your code to use either `displot` (a figure-level function with similar flexibility) or `histplot` (an axes-level function for histograms).\n",
      "  warnings.warn(msg, FutureWarning)\n"
     ]
    },
    {
     "data": {
      "text/plain": [
       "<AxesSubplot:xlabel='arr_delay', ylabel='Density'>"
      ]
     },
     "execution_count": 10,
     "metadata": {},
     "output_type": "execute_result"
    },
    {
     "data": {
      "image/png": "[encoded data removed]",
      "text/plain": [
       "<Figure size 864x576 with 1 Axes>"
      ]
     },
     "metadata": {
      "needs_background": "light"
     },
     "output_type": "display_data"
    }
   ],
   "source": [
    "plt.rcParams['figure.figsize'] = [12, 8]\n",
    "sn.distplot(sample['arr_delay'])"
   ]
  },
  {
   "cell_type": "code",
   "execution_count": 94,
   "id": "f77483a7-edc5-4ca0-bf3a-88362749c085",
   "metadata": {},
   "outputs": [],
   "source": [
    "blah = {code:sample[sample['branded_code_share'] == code].arr_delay for code in set(sample['branded_code_share'])}"
   ]
  },
  {
   "cell_type": "code",
   "execution_count": 95,
   "id": "8513fbf3-bba4-49c8-93c2-85bc9e5a8dfc",
   "metadata": {
    "collapsed": true,
    "jupyter": {
     "outputs_hidden": true
    },
    "tags": []
   },
   "outputs": [
    {
     "data": {
      "text/plain": [
       "{'DL': 58       -11.0\n",
       " 59        -8.0\n",
       " 60       -22.0\n",
       " 61       -32.0\n",
       " 66       -15.0\n",
       "           ... \n",
       " 112182    64.0\n",
       " 112183   -21.0\n",
       " 112184    -7.0\n",
       " 112188    -7.0\n",
       " 112191   -12.0\n",
       " Name: arr_delay, Length: 23264, dtype: float64,\n",
       " 'F9': 1235      -5.0\n",
       " 1236     -17.0\n",
       " 1237      27.0\n",
       " 1238      36.0\n",
       " 1239      -9.0\n",
       "           ... \n",
       " 112046   -16.0\n",
       " 112047     2.0\n",
       " 112048     2.0\n",
       " 112063     1.0\n",
       " 112064   -17.0\n",
       " Name: arr_delay, Length: 1745, dtype: float64,\n",
       " 'VX': 58119      5.0\n",
       " 58120    -30.0\n",
       " 58121    -29.0\n",
       " 58122     -8.0\n",
       " 58123    -26.0\n",
       "           ... \n",
       " 112027   -16.0\n",
       " 112028   -11.0\n",
       " 112029   -11.0\n",
       " 112030   -18.0\n",
       " 112031   -27.0\n",
       " Name: arr_delay, Length: 483, dtype: float64,\n",
       " 'NK': 0         -6.0\n",
       " 4         17.0\n",
       " 5          1.0\n",
       " 6        -21.0\n",
       " 7         22.0\n",
       "           ... \n",
       " 111997   -25.0\n",
       " 111998   -11.0\n",
       " 111999   -10.0\n",
       " 112000    -9.0\n",
       " 112001    -6.0\n",
       " Name: arr_delay, Length: 2530, dtype: float64,\n",
       " 'UA': 101       10.0\n",
       " 102       19.0\n",
       " 103      -18.0\n",
       " 104       -3.0\n",
       " 105       34.0\n",
       "           ... \n",
       " 112096   -19.0\n",
       " 112101   -13.0\n",
       " 112102   -19.0\n",
       " 112103    -8.0\n",
       " 112104   -19.0\n",
       " Name: arr_delay, Length: 20450, dtype: float64,\n",
       " 'AA': 1        -15.0\n",
       " 2        -16.0\n",
       " 3        -20.0\n",
       " 9        -27.0\n",
       " 10        14.0\n",
       "           ... \n",
       " 112156     8.0\n",
       " 112157   -11.0\n",
       " 112158    -1.0\n",
       " 112159   -10.0\n",
       " 112169     3.0\n",
       " Name: arr_delay, Length: 28549, dtype: float64,\n",
       " 'G4': 586       36.0\n",
       " 587       33.0\n",
       " 588      -13.0\n",
       " 589      -12.0\n",
       " 590      -18.0\n",
       "           ... \n",
       " 110318   -24.0\n",
       " 110319    -6.0\n",
       " 110320   -32.0\n",
       " 110321    -4.0\n",
       " 110322     6.0\n",
       " Name: arr_delay, Length: 1237, dtype: float64,\n",
       " 'AS': 37       -11.0\n",
       " 38        50.0\n",
       " 39         9.0\n",
       " 47        22.0\n",
       " 48        -6.0\n",
       "           ... \n",
       " 111200   -20.0\n",
       " 111217   -14.0\n",
       " 111218   -11.0\n",
       " 111219   -18.0\n",
       " 111220   -10.0\n",
       " Name: arr_delay, Length: 5665, dtype: float64,\n",
       " 'B6': 1122     -12.0\n",
       " 1123      -5.0\n",
       " 1124     -14.0\n",
       " 1125      17.0\n",
       " 1126     -24.0\n",
       "           ... \n",
       " 111071     2.0\n",
       " 111072    22.0\n",
       " 111073   -17.0\n",
       " 111074     1.0\n",
       " 111075   -20.0\n",
       " Name: arr_delay, Length: 4179, dtype: float64,\n",
       " 'WN': 277       17.0\n",
       " 278       39.0\n",
       " 279        5.0\n",
       " 280       -2.0\n",
       " 281      -15.0\n",
       "           ... \n",
       " 112042   -35.0\n",
       " 112043   -17.0\n",
       " 112044    -7.0\n",
       " 112045   -23.0\n",
       " 112100   -23.0\n",
       " Name: arr_delay, Length: 19118, dtype: float64,\n",
       " 'HA': 774       -4.0\n",
       " 775        1.0\n",
       " 776       -9.0\n",
       " 777       -6.0\n",
       " 778        1.0\n",
       "           ... \n",
       " 111111     5.0\n",
       " 111112     9.0\n",
       " 111113    60.0\n",
       " 111114   -11.0\n",
       " 111115     2.0\n",
       " Name: arr_delay, Length: 1304, dtype: float64}"
      ]
     },
     "execution_count": 95,
     "metadata": {},
     "output_type": "execute_result"
    }
   ],
   "source": [
    "blah"
   ]
  },
  {
   "cell_type": "code",
   "execution_count": 99,
   "id": "08c738c4-6ca6-4adc-8752-784bce5d956f",
   "metadata": {},
   "outputs": [
    {
     "data": {
      "text/plain": [
       "F_onewayResult(statistic=75.84080953436685, pvalue=6.523278046273461e-156)"
      ]
     },
     "execution_count": 99,
     "metadata": {},
     "output_type": "execute_result"
    }
   ],
   "source": [
    "st.f_oneway(blah['DL'], blah['AS'], blah['HA'], blah['WN'], blah['B6'], blah['G4'], blah['AA'], blah['UA'], blah['NK'], blah['VX'], blah['F9'])"
   ]
  },
  {
   "cell_type": "markdown",
   "id": "9d4901c5-9cfc-4124-812b-cb45cea85cc8",
   "metadata": {},
   "source": [
    "#### the arr time between branded code shares are not equal: good starting point for a feature maybe"
   ]
  },
  {
   "cell_type": "code",
   "execution_count": 101,
   "id": "9b52acf4-7578-4f3c-94cc-3b6505a6db2f",
   "metadata": {},
   "outputs": [
    {
     "data": {
      "text/plain": [
       "5922"
      ]
     },
     "execution_count": 101,
     "metadata": {},
     "output_type": "execute_result"
    }
   ],
   "source": [
    "len(set(sample['tail_num']))"
   ]
  },
  {
   "cell_type": "code",
   "execution_count": 31,
   "id": "aa7197ce-269c-4905-aa5a-e47d8f5c0778",
   "metadata": {},
   "outputs": [
    {
     "data": {
      "text/plain": [
       "fl_date                  62\n",
       "mkt_unique_carrier       11\n",
       "branded_code_share       11\n",
       "mkt_carrier              11\n",
       "mkt_carrier_fl_num     6667\n",
       "op_unique_carrier        28\n",
       "tail_num               5922\n",
       "op_carrier_fl_num      6669\n",
       "origin_airport_id       360\n",
       "origin                  360\n",
       "origin_city_name        354\n",
       "dest_airport_id         360\n",
       "dest                    360\n",
       "dest_city_name          354\n",
       "crs_dep_time           1218\n",
       "dep_time               1225\n",
       "dep_delay               262\n",
       "taxi_out                138\n",
       "wheels_off             1330\n",
       "wheels_on              1396\n",
       "taxi_in                  94\n",
       "crs_arr_time           1314\n",
       "arr_time               1267\n",
       "arr_delay               275\n",
       "cancelled                 1\n",
       "diverted                  1\n",
       "crs_elapsed_time        471\n",
       "actual_elapsed_time     514\n",
       "air_time                498\n",
       "distance               1468\n",
       "dtype: int64"
      ]
     },
     "execution_count": 31,
     "metadata": {},
     "output_type": "execute_result"
    }
   ],
   "source": [
    "sample.nunique()"
   ]
  }
 ],
 "metadata": {
  "kernelspec": {
   "display_name": "Python 3 (ipykernel)",
   "language": "python",
   "name": "python3"
  },
  "language_info": {
   "codemirror_mode": {
    "name": "ipython",
    "version": 3
   },
   "file_extension": ".py",
   "mimetype": "text/x-python",
   "name": "python",
   "nbconvert_exporter": "python",
   "pygments_lexer": "ipython3",
   "version": "3.9.12"
  }
 },
 "nbformat": 4,
 "nbformat_minor": 5
}
