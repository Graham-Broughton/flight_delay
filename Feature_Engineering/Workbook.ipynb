{
 "cells": [
  {
   "cell_type": "code",
   "execution_count": 540,
   "id": "06d1e9e6-6f1a-4aea-80dc-87f7378e11b6",
   "metadata": {},
   "outputs": [],
   "source": [
    "import pandas as pd \n",
    "import numpy as np\n",
    "from sklearn.preprocessing import PolynomialFeatures\n",
    "from sklearn.preprocessing import StandardScaler\n",
    "from sklearn.preprocessing import RobustScaler\n",
    "from sklearn.linear_model import LinearRegression\n",
    "from sklearn.model_selection import train_test_split\n",
    "from sklearn.model_selection import GridSearchCV\n",
    "from sklearn.feature_selection import f_regression, SelectKBest, VarianceThreshold\n",
    "import statsmodels.api as sm"
   ]
  },
  {
   "cell_type": "code",
   "execution_count": 615,
   "id": "45aa6439-3e56-466d-9084-607c7934dc77",
   "metadata": {},
   "outputs": [],
   "source": [
    "distance_dums = pd.get_dummies(df['dist_cats'], drop_first=True)"
   ]
  },
  {
   "cell_type": "code",
   "execution_count": 616,
   "id": "5859ca0e-a85d-49e8-8bb4-3d751e6e8ff9",
   "metadata": {},
   "outputs": [],
   "source": [
    "carrier_dums = pd.get_dummies(df['op_unique_carrier'], drop_first=True)"
   ]
  },
  {
   "cell_type": "code",
   "execution_count": 626,
   "id": "c4882feb-5ee4-4ac8-80d1-5a47d929f6a1",
   "metadata": {},
   "outputs": [],
   "source": [
    "Rscaler = RobustScaler()\n",
    "robust_scaled = pd.DataFrame(Rscaler.fit_transform(polyt))\n",
    "Sscaler = StandardScaler()\n",
    "standard_scaled = pd.DataFrame(Sscaler.fit_transform(polyt))"
   ]
  },
  {
   "cell_type": "code",
   "execution_count": 314,
   "id": "0f3dc6db-57b7-41df-ac8a-817cf7a5db12",
   "metadata": {},
   "outputs": [],
   "source": [
    "robust_scaled.columns = X.columns\n",
    "standard_scaled.columns = X.columns"
   ]
  },
  {
   "cell_type": "code",
   "execution_count": 451,
   "id": "9f9dcf5b-6008-4111-b7f3-cbd4637b34ff",
   "metadata": {},
   "outputs": [],
   "source": [
    "X_train, X_test, y_train, y_test = train_test_split(t, y, test_size=0.2, random_state=0)"
   ]
  },
  {
   "cell_type": "code",
   "execution_count": 458,
   "id": "66dbae52-5668-4b45-928a-af966eb3f747",
   "metadata": {
    "tags": []
   },
   "outputs": [
    {
     "data": {
      "text/plain": [
       "array([2.34892628e-081, 9.38861944e-060, 5.76631731e-093, 3.04702407e-065,\n",
       "       8.76825224e-046, 5.97955621e-019, 0.00000000e+000, 0.00000000e+000,\n",
       "       0.00000000e+000, 0.00000000e+000, 1.48348552e-002, 2.77405841e-028,\n",
       "       0.00000000e+000, 4.88979293e-128, 1.31446939e-035, 8.38672876e-004,\n",
       "       1.19270348e-019])"
      ]
     },
     "execution_count": 458,
     "metadata": {},
     "output_type": "execute_result"
    }
   ],
   "source": [
    "f_regression(X_train, y_train)[1]"
   ]
  },
  {
   "cell_type": "code",
   "execution_count": 194,
   "id": "88600a4f-1448-4d32-8467-e530b66cf4a7",
   "metadata": {},
   "outputs": [],
   "source": [
    "reg = LinearRegression()"
   ]
  },
  {
   "cell_type": "code",
   "execution_count": 452,
   "id": "80f53eda-60d6-428c-9d71-42ff4655eaac",
   "metadata": {},
   "outputs": [
    {
     "data": {
      "text/plain": [
       "LinearRegression()"
      ]
     },
     "execution_count": 452,
     "metadata": {},
     "output_type": "execute_result"
    }
   ],
   "source": [
    "reg.fit(X_train, y_train)    "
   ]
  },
  {
   "cell_type": "code",
   "execution_count": 453,
   "id": "05192bd4-92fa-4986-a4fb-2fa0e39c27b8",
   "metadata": {},
   "outputs": [
    {
     "data": {
      "text/plain": [
       "0.4299953926383264"
      ]
     },
     "execution_count": 453,
     "metadata": {},
     "output_type": "execute_result"
    }
   ],
   "source": [
    "reg.score(X_test, y_test)"
   ]
  },
  {
   "cell_type": "code",
   "execution_count": 614,
   "id": "e35c8150-c6aa-4edf-aa97-9308cbb0b951",
   "metadata": {},
   "outputs": [],
   "source": [
    "depdum = pd.get_dummies(df['dep_hour'], drop_first=True)\n",
    "arrdum = pd.get_dummies(df['arr_hour'], drop_first=True)\n",
    "weekdum = pd.get_dummies(df['weekday'], drop_first=True)"
   ]
  },
  {
   "cell_type": "code",
   "execution_count": 212,
   "id": "b48cf85a-4239-48b3-a5ce-7d79e9048f4f",
   "metadata": {},
   "outputs": [],
   "source": [
    "X = pd.concat([distance_dums, carrier_dums, robust_scaled[0], weekdum, arrdum, origin_airports, departure_airports], axis=1)"
   ]
  },
  {
   "cell_type": "code",
   "execution_count": 492,
   "id": "865e6b84-f8f9-4592-b3eb-009762c9a004",
   "metadata": {},
   "outputs": [],
   "source": [
    "weekdum.columns = ['mon', 'tue', 'wed', 'thur', 'fri', 'sat', 'sun']"
   ]
  },
  {
   "cell_type": "code",
   "execution_count": 172,
   "id": "17c26494-6243-455a-bc0e-664bd49a9c6d",
   "metadata": {},
   "outputs": [],
   "source": [
    "y = df['arr_delay']"
   ]
  },
  {
   "cell_type": "code",
   "execution_count": 403,
   "id": "8321436f-0299-4119-bf83-2d8f0cca7445",
   "metadata": {},
   "outputs": [],
   "source": [
    "hourly_arr_delay = df.groupby(['dest_airport_id', 'weekday', 'arr_hour'], as_index=False).agg({'arr_delay': 'mean'})"
   ]
  },
  {
   "cell_type": "code",
   "execution_count": 404,
   "id": "d2a0e62b-0699-43b8-9efd-4c15f09c17f6",
   "metadata": {},
   "outputs": [],
   "source": [
    "hourly_arr_delay = hourly_arr_delay.rename(columns={'arr_delay': 'hourly_arr_delay'})\n",
    "hourly_dep_delay = hourly_dep_delay.rename(columns={'dep_delay': 'hourly_dep_delay'})"
   ]
  },
  {
   "cell_type": "code",
   "execution_count": 456,
   "id": "20fd35c6-fb98-421f-ac7b-59041d6d2535",
   "metadata": {},
   "outputs": [
    {
     "data": {
      "text/plain": [
       "array([-0.21148488,  0.02382765, -0.0597098 , -0.14823941, -0.11505665,\n",
       "        0.26469984,  0.69218393,  0.81376967,  0.59369118,  0.04840041,\n",
       "       -0.42302682, -0.54559768,  0.9105955 , -0.56719821, -0.0195271 ,\n",
       "        0.10442781, -0.08490071])"
      ]
     },
     "execution_count": 456,
     "metadata": {},
     "output_type": "execute_result"
    }
   ],
   "source": [
    "reg.coef_"
   ]
  },
  {
   "cell_type": "code",
   "execution_count": 630,
   "id": "8784f63f-2bbf-4cc4-8788-b5fbedb128ef",
   "metadata": {},
   "outputs": [],
   "source": [
    "df.to_csv('../EDA_and_preprocessing/final_process.csv', index=False)"
   ]
  },
  {
   "cell_type": "code",
   "execution_count": 471,
   "id": "28add2f3-0e5b-440a-9a51-6f60e2bb8a6a",
   "metadata": {},
   "outputs": [],
   "source": [
    "X = X[['crs_elapsed_time', 'hourly_arr_delay', 'hourly_dep_delay', 'tail_arr_delay', 'tail_dep_delay', 'tail_taxi_total', 'airport_taxi_total']]"
   ]
  },
  {
   "cell_type": "code",
   "execution_count": 632,
   "id": "976d6d53-7704-4c2e-830b-859ab4eb9ab4",
   "metadata": {
    "tags": []
   },
   "outputs": [
    {
     "name": "stdout",
     "output_type": "stream",
     "text": [
      "                                 OLS Regression Results                                \n",
      "=======================================================================================\n",
      "Dep. Variable:              arr_delay   R-squared (uncentered):                   0.434\n",
      "Model:                            OLS   Adj. R-squared (uncentered):              0.434\n",
      "Method:                 Least Squares   F-statistic:                              7552.\n",
      "Date:                Tue, 12 Apr 2022   Prob (F-statistic):                        0.00\n",
      "Time:                        13:19:22   Log-Likelihood:                     -4.9521e+05\n",
      "No. Observations:              108140   AIC:                                  9.904e+05\n",
      "Df Residuals:                  108129   BIC:                                  9.905e+05\n",
      "Df Model:                          11                                                  \n",
      "Covariance Type:            nonrobust                                                  \n",
      "========================================================================================\n",
      "                           coef    std err          t      P>|t|      [0.025      0.975]\n",
      "----------------------------------------------------------------------------------------\n",
      "tail_taxi_total         -0.4873      0.017    -29.447      0.000      -0.520      -0.455\n",
      "taxi_total               0.8512      0.007    114.816      0.000       0.837       0.866\n",
      "airport_taxi_out_avg    -0.7428      0.021    -36.221      0.000      -0.783      -0.703\n",
      "airport_taxi_in_avg     -0.5925      0.029    -20.521      0.000      -0.649      -0.536\n",
      "tail_dep_delay          -0.0436      0.022     -2.009      0.045      -0.086      -0.001\n",
      "tail_arr_delay           0.6937      0.020     34.956      0.000       0.655       0.733\n",
      "crs_elapsed_time        -0.0214      0.001    -14.368      0.000      -0.024      -0.018\n",
      "tail_speed               2.1639      0.089     24.243      0.000       1.989       2.339\n",
      "hourly_arr_delay         0.6941      0.005    129.842      0.000       0.684       0.705\n",
      "hourly_dep_delay         0.7880      0.006    137.248      0.000       0.777       0.799\n",
      "speed                   -0.9060      0.080    -11.396      0.000      -1.062      -0.750\n",
      "==============================================================================\n",
      "Omnibus:                    49567.868   Durbin-Watson:                   2.060\n",
      "Prob(Omnibus):                  0.000   Jarque-Bera (JB):           447785.553\n",
      "Skew:                           1.994   Prob(JB):                         0.00\n",
      "Kurtosis:                      12.136   Cond. No.                         244.\n",
      "==============================================================================\n",
      "\n",
      "Notes:\n",
      "[1] R² is computed without centering (uncentered) since the model does not contain a constant.\n",
      "[2] Standard Errors assume that the covariance matrix of the errors is correctly specified.\n"
     ]
    }
   ],
   "source": [
    "#test = sm.add_constant(X)\n",
    "mod = sm.OLS(y, X)\n",
    "print(mod.fit().summary())"
   ]
  },
  {
   "cell_type": "code",
   "execution_count": 617,
   "id": "f2332a13-2f48-42f8-84b0-82a3d120f10f",
   "metadata": {},
   "outputs": [],
   "source": [
    "test = pd.concat([standard_scaled, distance_dums, carrier_dums],axis=1)"
   ]
  },
  {
   "cell_type": "code",
   "execution_count": 622,
   "id": "13f669ee-c5b8-4a88-a85d-68d7fdf5ee1c",
   "metadata": {},
   "outputs": [],
   "source": [
    "poly = PolynomialFeatures(degree=2)\n",
    "polyt = poly.fit_transform(X)"
   ]
  },
  {
   "cell_type": "code",
   "execution_count": 623,
   "id": "d83989cd-16a9-4f62-b01a-7998fdd03bb4",
   "metadata": {
    "tags": []
   },
   "outputs": [
    {
     "data": {
      "text/html": [
       "<div>\n",
       "<style scoped>\n",
       "    .dataframe tbody tr th:only-of-type {\n",
       "        vertical-align: middle;\n",
       "    }\n",
       "\n",
       "    .dataframe tbody tr th {\n",
       "        vertical-align: top;\n",
       "    }\n",
       "\n",
       "    .dataframe thead th {\n",
       "        text-align: right;\n",
       "    }\n",
       "</style>\n",
       "<table border=\"1\" class=\"dataframe\">\n",
       "  <thead>\n",
       "    <tr style=\"text-align: right;\">\n",
       "      <th></th>\n",
       "      <th>1</th>\n",
       "      <th>tail_taxi_total</th>\n",
       "      <th>taxi_total</th>\n",
       "      <th>airport_taxi_out_avg</th>\n",
       "      <th>airport_taxi_in_avg</th>\n",
       "      <th>tail_dep_delay</th>\n",
       "      <th>tail_arr_delay</th>\n",
       "      <th>crs_elapsed_time</th>\n",
       "      <th>tail_speed</th>\n",
       "      <th>hourly_arr_delay</th>\n",
       "      <th>...</th>\n",
       "      <th>tail_speed^2</th>\n",
       "      <th>tail_speed hourly_arr_delay</th>\n",
       "      <th>tail_speed hourly_dep_delay</th>\n",
       "      <th>tail_speed speed</th>\n",
       "      <th>hourly_arr_delay^2</th>\n",
       "      <th>hourly_arr_delay hourly_dep_delay</th>\n",
       "      <th>hourly_arr_delay speed</th>\n",
       "      <th>hourly_dep_delay^2</th>\n",
       "      <th>hourly_dep_delay speed</th>\n",
       "      <th>speed^2</th>\n",
       "    </tr>\n",
       "  </thead>\n",
       "  <tbody>\n",
       "    <tr>\n",
       "      <th>0</th>\n",
       "      <td>1.0</td>\n",
       "      <td>21.869565</td>\n",
       "      <td>16.0</td>\n",
       "      <td>18.816138</td>\n",
       "      <td>5.884615</td>\n",
       "      <td>-0.086957</td>\n",
       "      <td>-9.304348</td>\n",
       "      <td>81.0</td>\n",
       "      <td>6.140610</td>\n",
       "      <td>-4.100000</td>\n",
       "      <td>...</td>\n",
       "      <td>37.707095</td>\n",
       "      <td>-25.176502</td>\n",
       "      <td>102.855223</td>\n",
       "      <td>29.146277</td>\n",
       "      <td>16.810000</td>\n",
       "      <td>-68.675000</td>\n",
       "      <td>-19.460563</td>\n",
       "      <td>280.562500</td>\n",
       "      <td>79.503521</td>\n",
       "      <td>22.529062</td>\n",
       "    </tr>\n",
       "    <tr>\n",
       "      <th>1</th>\n",
       "      <td>1.0</td>\n",
       "      <td>21.869565</td>\n",
       "      <td>22.0</td>\n",
       "      <td>18.816138</td>\n",
       "      <td>5.884615</td>\n",
       "      <td>-0.086957</td>\n",
       "      <td>-9.304348</td>\n",
       "      <td>82.0</td>\n",
       "      <td>6.140610</td>\n",
       "      <td>-6.444444</td>\n",
       "      <td>...</td>\n",
       "      <td>37.707095</td>\n",
       "      <td>-39.572822</td>\n",
       "      <td>92.345332</td>\n",
       "      <td>26.875139</td>\n",
       "      <td>41.530864</td>\n",
       "      <td>-96.914530</td>\n",
       "      <td>-28.204906</td>\n",
       "      <td>226.155325</td>\n",
       "      <td>65.817682</td>\n",
       "      <td>19.154832</td>\n",
       "    </tr>\n",
       "    <tr>\n",
       "      <th>2</th>\n",
       "      <td>1.0</td>\n",
       "      <td>21.869565</td>\n",
       "      <td>23.0</td>\n",
       "      <td>18.816138</td>\n",
       "      <td>5.884615</td>\n",
       "      <td>-0.086957</td>\n",
       "      <td>-9.304348</td>\n",
       "      <td>81.0</td>\n",
       "      <td>6.140610</td>\n",
       "      <td>0.777778</td>\n",
       "      <td>...</td>\n",
       "      <td>37.707095</td>\n",
       "      <td>4.776030</td>\n",
       "      <td>-2.686517</td>\n",
       "      <td>25.867321</td>\n",
       "      <td>0.604938</td>\n",
       "      <td>-0.340278</td>\n",
       "      <td>3.276389</td>\n",
       "      <td>0.191406</td>\n",
       "      <td>-1.842969</td>\n",
       "      <td>17.745156</td>\n",
       "    </tr>\n",
       "    <tr>\n",
       "      <th>3</th>\n",
       "      <td>1.0</td>\n",
       "      <td>21.869565</td>\n",
       "      <td>16.0</td>\n",
       "      <td>18.816138</td>\n",
       "      <td>5.884615</td>\n",
       "      <td>-0.086957</td>\n",
       "      <td>-9.304348</td>\n",
       "      <td>88.0</td>\n",
       "      <td>6.140610</td>\n",
       "      <td>-8.000000</td>\n",
       "      <td>...</td>\n",
       "      <td>37.707095</td>\n",
       "      <td>-49.124883</td>\n",
       "      <td>45.884005</td>\n",
       "      <td>27.964671</td>\n",
       "      <td>64.000000</td>\n",
       "      <td>-59.777778</td>\n",
       "      <td>-36.432432</td>\n",
       "      <td>55.834105</td>\n",
       "      <td>34.028904</td>\n",
       "      <td>20.739408</td>\n",
       "    </tr>\n",
       "    <tr>\n",
       "      <th>4</th>\n",
       "      <td>1.0</td>\n",
       "      <td>21.869565</td>\n",
       "      <td>19.0</td>\n",
       "      <td>18.816138</td>\n",
       "      <td>8.425434</td>\n",
       "      <td>-0.086957</td>\n",
       "      <td>-9.304348</td>\n",
       "      <td>260.0</td>\n",
       "      <td>6.140610</td>\n",
       "      <td>-8.520833</td>\n",
       "      <td>...</td>\n",
       "      <td>37.707095</td>\n",
       "      <td>-52.323117</td>\n",
       "      <td>0.731025</td>\n",
       "      <td>51.093027</td>\n",
       "      <td>72.604601</td>\n",
       "      <td>-1.014385</td>\n",
       "      <td>-70.897703</td>\n",
       "      <td>0.014172</td>\n",
       "      <td>0.990537</td>\n",
       "      <td>69.230934</td>\n",
       "    </tr>\n",
       "    <tr>\n",
       "      <th>...</th>\n",
       "      <td>...</td>\n",
       "      <td>...</td>\n",
       "      <td>...</td>\n",
       "      <td>...</td>\n",
       "      <td>...</td>\n",
       "      <td>...</td>\n",
       "      <td>...</td>\n",
       "      <td>...</td>\n",
       "      <td>...</td>\n",
       "      <td>...</td>\n",
       "      <td>...</td>\n",
       "      <td>...</td>\n",
       "      <td>...</td>\n",
       "      <td>...</td>\n",
       "      <td>...</td>\n",
       "      <td>...</td>\n",
       "      <td>...</td>\n",
       "      <td>...</td>\n",
       "      <td>...</td>\n",
       "      <td>...</td>\n",
       "      <td>...</td>\n",
       "    </tr>\n",
       "    <tr>\n",
       "      <th>108135</th>\n",
       "      <td>1.0</td>\n",
       "      <td>12.812500</td>\n",
       "      <td>10.0</td>\n",
       "      <td>8.416667</td>\n",
       "      <td>4.375000</td>\n",
       "      <td>-10.625000</td>\n",
       "      <td>-8.750000</td>\n",
       "      <td>50.0</td>\n",
       "      <td>2.370632</td>\n",
       "      <td>-8.500000</td>\n",
       "      <td>...</td>\n",
       "      <td>5.619895</td>\n",
       "      <td>-20.150370</td>\n",
       "      <td>-17.779738</td>\n",
       "      <td>6.116230</td>\n",
       "      <td>72.250000</td>\n",
       "      <td>63.750000</td>\n",
       "      <td>-21.930000</td>\n",
       "      <td>56.250000</td>\n",
       "      <td>-19.350000</td>\n",
       "      <td>6.656400</td>\n",
       "    </tr>\n",
       "    <tr>\n",
       "      <th>108136</th>\n",
       "      <td>1.0</td>\n",
       "      <td>12.812500</td>\n",
       "      <td>10.0</td>\n",
       "      <td>8.416667</td>\n",
       "      <td>4.375000</td>\n",
       "      <td>-10.625000</td>\n",
       "      <td>-8.750000</td>\n",
       "      <td>50.0</td>\n",
       "      <td>2.370632</td>\n",
       "      <td>-25.000000</td>\n",
       "      <td>...</td>\n",
       "      <td>5.619895</td>\n",
       "      <td>-59.265794</td>\n",
       "      <td>-59.265794</td>\n",
       "      <td>6.116230</td>\n",
       "      <td>625.000000</td>\n",
       "      <td>625.000000</td>\n",
       "      <td>-64.500000</td>\n",
       "      <td>625.000000</td>\n",
       "      <td>-64.500000</td>\n",
       "      <td>6.656400</td>\n",
       "    </tr>\n",
       "    <tr>\n",
       "      <th>108137</th>\n",
       "      <td>1.0</td>\n",
       "      <td>12.812500</td>\n",
       "      <td>15.0</td>\n",
       "      <td>8.416667</td>\n",
       "      <td>4.375000</td>\n",
       "      <td>-10.625000</td>\n",
       "      <td>-8.750000</td>\n",
       "      <td>50.0</td>\n",
       "      <td>2.370632</td>\n",
       "      <td>-25.000000</td>\n",
       "      <td>...</td>\n",
       "      <td>5.619895</td>\n",
       "      <td>-59.265794</td>\n",
       "      <td>-71.118953</td>\n",
       "      <td>5.560209</td>\n",
       "      <td>625.000000</td>\n",
       "      <td>750.000000</td>\n",
       "      <td>-58.636364</td>\n",
       "      <td>900.000000</td>\n",
       "      <td>-70.363636</td>\n",
       "      <td>5.501157</td>\n",
       "    </tr>\n",
       "    <tr>\n",
       "      <th>108138</th>\n",
       "      <td>1.0</td>\n",
       "      <td>12.812500</td>\n",
       "      <td>10.0</td>\n",
       "      <td>8.416667</td>\n",
       "      <td>4.375000</td>\n",
       "      <td>-10.625000</td>\n",
       "      <td>-8.750000</td>\n",
       "      <td>50.0</td>\n",
       "      <td>2.370632</td>\n",
       "      <td>0.000000</td>\n",
       "      <td>...</td>\n",
       "      <td>5.619895</td>\n",
       "      <td>0.000000</td>\n",
       "      <td>11.853159</td>\n",
       "      <td>6.795811</td>\n",
       "      <td>0.000000</td>\n",
       "      <td>0.000000</td>\n",
       "      <td>0.000000</td>\n",
       "      <td>25.000000</td>\n",
       "      <td>14.333333</td>\n",
       "      <td>8.217778</td>\n",
       "    </tr>\n",
       "    <tr>\n",
       "      <th>108139</th>\n",
       "      <td>1.0</td>\n",
       "      <td>24.000000</td>\n",
       "      <td>24.0</td>\n",
       "      <td>12.214286</td>\n",
       "      <td>4.400000</td>\n",
       "      <td>-10.000000</td>\n",
       "      <td>-3.000000</td>\n",
       "      <td>41.0</td>\n",
       "      <td>2.687500</td>\n",
       "      <td>-3.000000</td>\n",
       "      <td>...</td>\n",
       "      <td>7.222656</td>\n",
       "      <td>-8.062500</td>\n",
       "      <td>-26.875000</td>\n",
       "      <td>7.222656</td>\n",
       "      <td>9.000000</td>\n",
       "      <td>30.000000</td>\n",
       "      <td>-8.062500</td>\n",
       "      <td>100.000000</td>\n",
       "      <td>-26.875000</td>\n",
       "      <td>7.222656</td>\n",
       "    </tr>\n",
       "  </tbody>\n",
       "</table>\n",
       "<p>108140 rows × 78 columns</p>\n",
       "</div>"
      ],
      "text/plain": [
       "          1  tail_taxi_total  taxi_total  airport_taxi_out_avg  \\\n",
       "0       1.0        21.869565        16.0             18.816138   \n",
       "1       1.0        21.869565        22.0             18.816138   \n",
       "2       1.0        21.869565        23.0             18.816138   \n",
       "3       1.0        21.869565        16.0             18.816138   \n",
       "4       1.0        21.869565        19.0             18.816138   \n",
       "...     ...              ...         ...                   ...   \n",
       "108135  1.0        12.812500        10.0              8.416667   \n",
       "108136  1.0        12.812500        10.0              8.416667   \n",
       "108137  1.0        12.812500        15.0              8.416667   \n",
       "108138  1.0        12.812500        10.0              8.416667   \n",
       "108139  1.0        24.000000        24.0             12.214286   \n",
       "\n",
       "        airport_taxi_in_avg  tail_dep_delay  tail_arr_delay  crs_elapsed_time  \\\n",
       "0                  5.884615       -0.086957       -9.304348              81.0   \n",
       "1                  5.884615       -0.086957       -9.304348              82.0   \n",
       "2                  5.884615       -0.086957       -9.304348              81.0   \n",
       "3                  5.884615       -0.086957       -9.304348              88.0   \n",
       "4                  8.425434       -0.086957       -9.304348             260.0   \n",
       "...                     ...             ...             ...               ...   \n",
       "108135             4.375000      -10.625000       -8.750000              50.0   \n",
       "108136             4.375000      -10.625000       -8.750000              50.0   \n",
       "108137             4.375000      -10.625000       -8.750000              50.0   \n",
       "108138             4.375000      -10.625000       -8.750000              50.0   \n",
       "108139             4.400000      -10.000000       -3.000000              41.0   \n",
       "\n",
       "        tail_speed  hourly_arr_delay  ...  tail_speed^2  \\\n",
       "0         6.140610         -4.100000  ...     37.707095   \n",
       "1         6.140610         -6.444444  ...     37.707095   \n",
       "2         6.140610          0.777778  ...     37.707095   \n",
       "3         6.140610         -8.000000  ...     37.707095   \n",
       "4         6.140610         -8.520833  ...     37.707095   \n",
       "...            ...               ...  ...           ...   \n",
       "108135    2.370632         -8.500000  ...      5.619895   \n",
       "108136    2.370632        -25.000000  ...      5.619895   \n",
       "108137    2.370632        -25.000000  ...      5.619895   \n",
       "108138    2.370632          0.000000  ...      5.619895   \n",
       "108139    2.687500         -3.000000  ...      7.222656   \n",
       "\n",
       "        tail_speed hourly_arr_delay  tail_speed hourly_dep_delay  \\\n",
       "0                        -25.176502                   102.855223   \n",
       "1                        -39.572822                    92.345332   \n",
       "2                          4.776030                    -2.686517   \n",
       "3                        -49.124883                    45.884005   \n",
       "4                        -52.323117                     0.731025   \n",
       "...                             ...                          ...   \n",
       "108135                   -20.150370                   -17.779738   \n",
       "108136                   -59.265794                   -59.265794   \n",
       "108137                   -59.265794                   -71.118953   \n",
       "108138                     0.000000                    11.853159   \n",
       "108139                    -8.062500                   -26.875000   \n",
       "\n",
       "        tail_speed speed  hourly_arr_delay^2  \\\n",
       "0              29.146277           16.810000   \n",
       "1              26.875139           41.530864   \n",
       "2              25.867321            0.604938   \n",
       "3              27.964671           64.000000   \n",
       "4              51.093027           72.604601   \n",
       "...                  ...                 ...   \n",
       "108135          6.116230           72.250000   \n",
       "108136          6.116230          625.000000   \n",
       "108137          5.560209          625.000000   \n",
       "108138          6.795811            0.000000   \n",
       "108139          7.222656            9.000000   \n",
       "\n",
       "        hourly_arr_delay hourly_dep_delay  hourly_arr_delay speed  \\\n",
       "0                              -68.675000              -19.460563   \n",
       "1                              -96.914530              -28.204906   \n",
       "2                               -0.340278                3.276389   \n",
       "3                              -59.777778              -36.432432   \n",
       "4                               -1.014385              -70.897703   \n",
       "...                                   ...                     ...   \n",
       "108135                          63.750000              -21.930000   \n",
       "108136                         625.000000              -64.500000   \n",
       "108137                         750.000000              -58.636364   \n",
       "108138                           0.000000                0.000000   \n",
       "108139                          30.000000               -8.062500   \n",
       "\n",
       "        hourly_dep_delay^2  hourly_dep_delay speed    speed^2  \n",
       "0               280.562500               79.503521  22.529062  \n",
       "1               226.155325               65.817682  19.154832  \n",
       "2                 0.191406               -1.842969  17.745156  \n",
       "3                55.834105               34.028904  20.739408  \n",
       "4                 0.014172                0.990537  69.230934  \n",
       "...                    ...                     ...        ...  \n",
       "108135           56.250000              -19.350000   6.656400  \n",
       "108136          625.000000              -64.500000   6.656400  \n",
       "108137          900.000000              -70.363636   5.501157  \n",
       "108138           25.000000               14.333333   8.217778  \n",
       "108139          100.000000              -26.875000   7.222656  \n",
       "\n",
       "[108140 rows x 78 columns]"
      ]
     },
     "execution_count": 623,
     "metadata": {},
     "output_type": "execute_result"
    }
   ],
   "source": [
    "ploycols = poly.get_feature_names_out(X.columns)\n",
    "pd.DataFrame(polyt, columns=ploycols)"
   ]
  },
  {
   "cell_type": "code",
   "execution_count": 554,
   "id": "c34aed62-a636-4fd6-bbc5-02ef63aba396",
   "metadata": {},
   "outputs": [],
   "source": [
    "df['speed'] = df['distance'] / df['actual_elapsed_time']\n",
    "speed = df.groupby('tail_num', as_index=False).agg({'speed': 'mean'})\n",
    "speed = speed.rename(columns={'speed': 'tail_speed'})\n",
    "df = df.merge(speed, on='tail_num')"
   ]
  },
  {
   "cell_type": "code",
   "execution_count": 631,
   "id": "a7c8414e-d324-42e5-a7a5-6185ef6de6ea",
   "metadata": {},
   "outputs": [],
   "source": [
    "X = df[['tail_taxi_total', 'taxi_total', 'airport_taxi_out_avg', 'airport_taxi_in_avg', 'tail_dep_delay', 'tail_arr_delay', 'crs_elapsed_time', 'tail_speed', 'hourly_arr_delay', 'hourly_dep_delay', 'speed']]"
   ]
  },
  {
   "cell_type": "code",
   "execution_count": 580,
   "id": "49ce97c9-fb53-45b0-946b-5d8395ca77a2",
   "metadata": {},
   "outputs": [],
   "source": [
    "depdummies = pd.get_dummies(df['dep_hour'], drop_first=True)\n",
    "arrdummies = pd.get_dummies(df['arr_hour'], drop_first=True)"
   ]
  },
  {
   "cell_type": "code",
   "execution_count": 628,
   "id": "2bcd6ef7-590a-4347-a4b2-d55dee1609b4",
   "metadata": {},
   "outputs": [],
   "source": [
    "X = pd.concat([depdummies, arrdummies, robust_scaled, weekdum, carrier_dums], axis=1)"
   ]
  },
  {
   "cell_type": "code",
   "execution_count": 598,
   "id": "4d8c02f8-9250-436f-a999-d4f0a3ebc7f7",
   "metadata": {},
   "outputs": [
    {
     "name": "stderr",
     "output_type": "stream",
     "text": [
      "C:\\Users\\broug\\AppData\\Local\\Temp\\ipykernel_18408\\1928365387.py:1: SettingWithCopyWarning: \n",
      "A value is trying to be set on a copy of a slice from a DataFrame.\n",
      "Try using .loc[row_indexer,col_indexer] = value instead\n",
      "\n",
      "See the caveats in the documentation: https://pandas.pydata.org/pandas-docs/stable/user_guide/indexing.html#returning-a-view-versus-a-copy\n",
      "  X['crs_elapsed_time'] = X['crs_elapsed_time'].replace({0: 1})\n"
     ]
    }
   ],
   "source": [
    "X['crs_elapsed_time'] = X['crs_elapsed_time'].replace({0: 1})"
   ]
  },
  {
   "cell_type": "code",
   "execution_count": 599,
   "id": "405a6294-2bd2-4dff-8fa1-3be79aa90960",
   "metadata": {},
   "outputs": [
    {
     "name": "stderr",
     "output_type": "stream",
     "text": [
      "C:\\Users\\broug\\AppData\\Local\\Temp\\ipykernel_18408\\1040022879.py:1: SettingWithCopyWarning: \n",
      "A value is trying to be set on a copy of a slice from a DataFrame.\n",
      "Try using .loc[row_indexer,col_indexer] = value instead\n",
      "\n",
      "See the caveats in the documentation: https://pandas.pydata.org/pandas-docs/stable/user_guide/indexing.html#returning-a-view-versus-a-copy\n",
      "  X['crs_elapsed_time'] = X['crs_elapsed_time'].apply(np.log)\n"
     ]
    }
   ],
   "source": [
    "X['crs_elapsed_time'] = X['crs_elapsed_time'].apply(np.log)"
   ]
  }
 ],
 "metadata": {
  "kernelspec": {
   "display_name": "Python 3 (ipykernel)",
   "language": "python",
   "name": "python3"
  },
  "language_info": {
   "codemirror_mode": {
    "name": "ipython",
    "version": 3
   },
   "file_extension": ".py",
   "mimetype": "text/x-python",
   "name": "python",
   "nbconvert_exporter": "python",
   "pygments_lexer": "ipython3",
   "version": "3.9.12"
  }
 },
 "nbformat": 4,
 "nbformat_minor": 5
}
